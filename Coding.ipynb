{
  "cells": [
    {
      "cell_type": "markdown",
      "metadata": {
        "id": "view-in-github",
        "colab_type": "text"
      },
      "source": [
        "<a href=\"https://colab.research.google.com/github/ccrodriguez27/Network-Analytics-Notebooks/blob/main/Coding.ipynb\" target=\"_parent\"><img src=\"https://colab.research.google.com/assets/colab-badge.svg\" alt=\"Open In Colab\"/></a>"
      ]
    },
    {
      "cell_type": "markdown",
      "metadata": {
        "id": "6F2mP85JWNYa"
      },
      "source": [
        "# Python coding"
      ]
    },
    {
      "cell_type": "markdown",
      "metadata": {
        "id": "hlAcwdEFW8M6"
      },
      "source": [
        "Question 1: Write a function to return the first 26 Fibonacci series number greater than 100:"
      ]
    },
    {
      "cell_type": "code",
      "execution_count": null,
      "metadata": {
        "id": "CX9ELlc3WQFG"
      },
      "outputs": [],
      "source": [
        "def fibSeq():\n",
        "  fib_list = []\n",
        "  num_list = [0,1]\n",
        "\n",
        "  while len(fib_list) < 27:\n",
        "    for i in range(100):\n",
        "      if i not in [0,1]:\n",
        "        new_num = num_list[i-1] + num_list[i-2]\n",
        "        num_list.append(new_num)\n",
        "        if new_num > 100:\n",
        "          fib_list.append(new_num)\n",
        "\n",
        "  fib_list = fib_list[:26]\n",
        "\n",
        "  \n",
        "  #fib_list = num_list\n",
        "  return fib_list"
      ]
    },
    {
      "cell_type": "code",
      "source": [
        "test = fibSeq()"
      ],
      "metadata": {
        "id": "uiBDzGGY761z"
      },
      "execution_count": null,
      "outputs": []
    },
    {
      "cell_type": "code",
      "source": [
        "test"
      ],
      "metadata": {
        "colab": {
          "base_uri": "https://localhost:8080/"
        },
        "id": "z86hBZer8WoR",
        "outputId": "773aa01d-0760-45bb-dd8e-bc80d838e114"
      },
      "execution_count": null,
      "outputs": [
        {
          "output_type": "execute_result",
          "data": {
            "text/plain": [
              "[144,\n",
              " 233,\n",
              " 377,\n",
              " 610,\n",
              " 987,\n",
              " 1597,\n",
              " 2584,\n",
              " 4181,\n",
              " 6765,\n",
              " 10946,\n",
              " 17711,\n",
              " 28657,\n",
              " 46368,\n",
              " 75025,\n",
              " 121393,\n",
              " 196418,\n",
              " 317811,\n",
              " 514229,\n",
              " 832040,\n",
              " 1346269,\n",
              " 2178309,\n",
              " 3524578,\n",
              " 5702887,\n",
              " 9227465,\n",
              " 14930352,\n",
              " 24157817]"
            ]
          },
          "metadata": {},
          "execution_count": 256
        }
      ]
    },
    {
      "cell_type": "markdown",
      "metadata": {
        "id": "5JtkJ05_W-0z"
      },
      "source": [
        "Question 2: Write a function that will return the the Fibonacci number generated earlier for alphabets according to their index \n",
        "\n",
        "(i.e. f(a) = 144, f(z) = 24157817.\n",
        "\n",
        "Note: Do not create a list of alphabets explicitly like [”a”, “b”, ... , “z”]"
      ]
    },
    {
      "cell_type": "code",
      "source": [
        "import string"
      ],
      "metadata": {
        "id": "zjM9pxCZbbCZ"
      },
      "execution_count": null,
      "outputs": []
    },
    {
      "cell_type": "code",
      "execution_count": null,
      "metadata": {
        "id": "xGnHQrAaWpyw"
      },
      "outputs": [],
      "source": [
        "def alphabet2fib(alphabet=\"a\"):\n",
        "\n",
        "    ## list of alphabets\n",
        "    alphabet_list = list(string.ascii_lowercase)\n",
        "    fib_list = fibSeq()\n",
        "    \n",
        "    fib_dict = {}\n",
        "    \n",
        "    for i in range(len(alphabet_list)):\n",
        "        fib_dict[alphabet_list[i]] = fib_list[i]\n",
        "    \n",
        "    \n",
        "    return fib_dict[alphabet]"
      ]
    },
    {
      "cell_type": "code",
      "execution_count": null,
      "metadata": {
        "id": "DcwoRhS-fojD",
        "colab": {
          "base_uri": "https://localhost:8080/"
        },
        "outputId": "d1279494-9641-4568-b754-1970b854cfa1"
      },
      "outputs": [
        {
          "output_type": "execute_result",
          "data": {
            "text/plain": [
              "144"
            ]
          },
          "metadata": {},
          "execution_count": 259
        }
      ],
      "source": [
        "alphabet2fib(alphabet=\"a\")"
      ]
    },
    {
      "cell_type": "code",
      "source": [
        "alphabet2fib(alphabet=\"z\")"
      ],
      "metadata": {
        "colab": {
          "base_uri": "https://localhost:8080/"
        },
        "id": "JtrVKDDNqpE9",
        "outputId": "f357eba4-b32c-4167-8e02-eec7dc8f2f62"
      },
      "execution_count": null,
      "outputs": [
        {
          "output_type": "execute_result",
          "data": {
            "text/plain": [
              "24157817"
            ]
          },
          "metadata": {},
          "execution_count": 260
        }
      ]
    },
    {
      "cell_type": "markdown",
      "metadata": {
        "id": "KqKqsf9UXvX6"
      },
      "source": [
        "# CV coding"
      ]
    },
    {
      "cell_type": "markdown",
      "metadata": {
        "id": "8ykVd0t_YgUC"
      },
      "source": [
        "Question: Create a classifier on the FashionMnist dataset. (data is present in TensorFlow or PyTorch library). Feel free to google"
      ]
    },
    {
      "cell_type": "markdown",
      "metadata": {
        "id": "FRoF_KSXYmM4"
      },
      "source": [
        "Each training and test example is assigned to one of the following labels:\n",
        "\n",
        "\n",
        "0.   T-shirt/top\n",
        "1.   Trouser\n",
        "2.   Pullover\n",
        "3.   Dress\n",
        "4.   Coat\n",
        "5.   Sandal\n",
        "6.   Shirt\n",
        "7.   Sneaker\n",
        "8.   Bag\n",
        "9.   Ankle boot"
      ]
    },
    {
      "cell_type": "markdown",
      "metadata": {
        "id": "AkvNqJGHZUNR"
      },
      "source": [
        "## For Pytorch"
      ]
    },
    {
      "cell_type": "code",
      "execution_count": null,
      "metadata": {
        "id": "QbQ9L-AFXiu6"
      },
      "outputs": [],
      "source": [
        "#run this code block to download train and test data\n",
        "\n",
        "from torchvision import datasets\n",
        "\n",
        "trainset = datasets.FashionMNIST('MNIST_data/', download = True, train = True)\n",
        "testset = datasets.FashionMNIST('MNIST_data/', download = True, train = False)\n"
      ]
    },
    {
      "cell_type": "code",
      "execution_count": null,
      "metadata": {
        "id": "I_0UGUFTeOjs"
      },
      "outputs": [],
      "source": []
    },
    {
      "cell_type": "markdown",
      "metadata": {
        "id": "AAsJj9UtZbjb"
      },
      "source": [
        "## For Keras/TF"
      ]
    },
    {
      "cell_type": "code",
      "source": [
        "import numpy as np"
      ],
      "metadata": {
        "id": "QYgCzhhx1_4M"
      },
      "execution_count": null,
      "outputs": []
    },
    {
      "cell_type": "code",
      "execution_count": null,
      "metadata": {
        "id": "9FfhwMOBYTpP"
      },
      "outputs": [],
      "source": [
        "# example of loading the fashion mnist dataset\n",
        "\n",
        "from keras.datasets import fashion_mnist\n",
        "\n",
        "(trainX, trainy), (testX, testy) = fashion_mnist.load_data()"
      ]
    },
    {
      "cell_type": "code",
      "source": [
        "class_names = ['T-shirt/top', 'Trouser', 'Pullover', 'Dress', 'Coat', 'Sandal', 'Shirt', 'Sneaker', 'Bag', 'Ankle boot']"
      ],
      "metadata": {
        "id": "0GCHzUN2Pdyt"
      },
      "execution_count": null,
      "outputs": []
    },
    {
      "cell_type": "code",
      "source": [
        "print(\"train_images:\", trainX.shape)\n",
        "print(\"test_images:\", testX.shape)"
      ],
      "metadata": {
        "colab": {
          "base_uri": "https://localhost:8080/"
        },
        "id": "Jj2rlbesRXbG",
        "outputId": "5beae864-6a03-4ba6-83c4-ab7305643c43"
      },
      "execution_count": null,
      "outputs": [
        {
          "output_type": "stream",
          "name": "stdout",
          "text": [
            "train_images: (60000, 28, 28)\n",
            "test_images: (10000, 28, 28)\n"
          ]
        }
      ]
    },
    {
      "cell_type": "code",
      "source": [
        "# Visualize the first image from the training dataset\n",
        "import matplotlib\n",
        "from matplotlib import pyplot as plt\n",
        "\n",
        "plt.figure()\n",
        "plt.imshow(trainX[0])\n",
        "plt.colorbar()\n",
        "plt.grid(False)"
      ],
      "metadata": {
        "colab": {
          "base_uri": "https://localhost:8080/",
          "height": 265
        },
        "id": "fKFM55-PSoqj",
        "outputId": "e338d128-acb6-4491-8283-f3df32006cfc"
      },
      "execution_count": null,
      "outputs": [
        {
          "output_type": "display_data",
          "data": {
            "text/plain": [
              "<Figure size 432x288 with 2 Axes>"
            ],
            "image/png": "[encoded data removed]"
          },
          "metadata": {
            "needs_background": "light"
          }
        }
      ]
    },
    {
      "cell_type": "code",
      "source": [
        "# scale the values to a range of 0 to 1 of both data sets\n",
        "trainX = trainX / 255.0\n",
        "testX = testX / 255.0"
      ],
      "metadata": {
        "id": "vGnhv5MDSxJz"
      },
      "execution_count": null,
      "outputs": []
    },
    {
      "cell_type": "code",
      "execution_count": null,
      "metadata": {
        "id": "cOWVrRSFeNuS"
      },
      "outputs": [],
      "source": [
        "import tensorflow as tf\n",
        "from tensorflow.keras import Sequential\n",
        "from tensorflow.keras.layers import Dense, Flatten"
      ]
    },
    {
      "cell_type": "code",
      "source": [
        "#Specify the model\n",
        "\n",
        "model = Sequential([\n",
        "    Flatten(input_shape=(28,28)),\n",
        "    Dense(units=32, activation='relu'),\n",
        "    Dense(units=15, activation='relu'),\n",
        "    Dense(units=10, activation = 'softmax')\n",
        "])\n",
        "\n",
        "# Specify the loss and cost\n",
        "from tensorflow.keras.losses import SparseCategoricalCrossentropy\n",
        "model.compile(loss=SparseCategoricalCrossentropy(), optimizer=tf.keras.optimizers.Adam(learning_rate=0.001), metrics='accuracy')\n",
        "\n",
        "# Train on data\n",
        "model.fit(trainX, trainy, epochs=50)"
      ],
      "metadata": {
        "colab": {
          "base_uri": "https://localhost:8080/"
        },
        "id": "rcgrHkbcYJJR",
        "outputId": "39c4f761-b998-444c-b921-8f939db190bb"
      },
      "execution_count": null,
      "outputs": [
        {
          "output_type": "stream",
          "name": "stdout",
          "text": [
            "Epoch 1/50\n",
            "1875/1875 [==============================] - 6s 3ms/step - loss: 0.6089 - accuracy: 0.7895\n",
            "Epoch 2/50\n",
            "1875/1875 [==============================] - 5s 3ms/step - loss: 0.4083 - accuracy: 0.8558\n",
            "Epoch 3/50\n",
            "1875/1875 [==============================] - 5s 3ms/step - loss: 0.3747 - accuracy: 0.8647\n",
            "Epoch 4/50\n",
            "1875/1875 [==============================] - 5s 3ms/step - loss: 0.3519 - accuracy: 0.8727\n",
            "Epoch 5/50\n",
            "1875/1875 [==============================] - 5s 3ms/step - loss: 0.3366 - accuracy: 0.8766\n",
            "Epoch 6/50\n",
            "1875/1875 [==============================] - 8s 4ms/step - loss: 0.3232 - accuracy: 0.8818\n",
            "Epoch 7/50\n",
            "1875/1875 [==============================] - 5s 3ms/step - loss: 0.3133 - accuracy: 0.8861\n",
            "Epoch 8/50\n",
            "1875/1875 [==============================] - 5s 3ms/step - loss: 0.3042 - accuracy: 0.8884\n",
            "Epoch 9/50\n",
            "1875/1875 [==============================] - 5s 3ms/step - loss: 0.2953 - accuracy: 0.8917\n",
            "Epoch 10/50\n",
            "1875/1875 [==============================] - 5s 3ms/step - loss: 0.2889 - accuracy: 0.8925\n",
            "Epoch 11/50\n",
            "1875/1875 [==============================] - 5s 3ms/step - loss: 0.2825 - accuracy: 0.8962\n",
            "Epoch 12/50\n",
            "1875/1875 [==============================] - 5s 3ms/step - loss: 0.2771 - accuracy: 0.8977\n",
            "Epoch 13/50\n",
            "1875/1875 [==============================] - 5s 3ms/step - loss: 0.2723 - accuracy: 0.8996\n",
            "Epoch 14/50\n",
            "1875/1875 [==============================] - 5s 3ms/step - loss: 0.2673 - accuracy: 0.8997\n",
            "Epoch 15/50\n",
            "1875/1875 [==============================] - 5s 3ms/step - loss: 0.2635 - accuracy: 0.9025\n",
            "Epoch 16/50\n",
            "1875/1875 [==============================] - 5s 3ms/step - loss: 0.2578 - accuracy: 0.9035\n",
            "Epoch 17/50\n",
            "1875/1875 [==============================] - 7s 4ms/step - loss: 0.2543 - accuracy: 0.9057\n",
            "Epoch 18/50\n",
            "1875/1875 [==============================] - 5s 3ms/step - loss: 0.2496 - accuracy: 0.9068\n",
            "Epoch 19/50\n",
            "1875/1875 [==============================] - 5s 3ms/step - loss: 0.2481 - accuracy: 0.9081\n",
            "Epoch 20/50\n",
            "1875/1875 [==============================] - 5s 3ms/step - loss: 0.2442 - accuracy: 0.9100\n",
            "Epoch 21/50\n",
            "1875/1875 [==============================] - 5s 3ms/step - loss: 0.2421 - accuracy: 0.9105\n",
            "Epoch 22/50\n",
            "1875/1875 [==============================] - 5s 3ms/step - loss: 0.2396 - accuracy: 0.9111\n",
            "Epoch 23/50\n",
            "1875/1875 [==============================] - 5s 3ms/step - loss: 0.2361 - accuracy: 0.9122\n",
            "Epoch 24/50\n",
            "1875/1875 [==============================] - 5s 3ms/step - loss: 0.2323 - accuracy: 0.9132\n",
            "Epoch 25/50\n",
            "1875/1875 [==============================] - 5s 3ms/step - loss: 0.2312 - accuracy: 0.9130\n",
            "Epoch 26/50\n",
            "1875/1875 [==============================] - 5s 3ms/step - loss: 0.2287 - accuracy: 0.9148\n",
            "Epoch 27/50\n",
            "1875/1875 [==============================] - 5s 3ms/step - loss: 0.2260 - accuracy: 0.9151\n",
            "Epoch 28/50\n",
            "1875/1875 [==============================] - 5s 3ms/step - loss: 0.2238 - accuracy: 0.9162\n",
            "Epoch 29/50\n",
            "1875/1875 [==============================] - 5s 3ms/step - loss: 0.2221 - accuracy: 0.9169\n",
            "Epoch 30/50\n",
            "1875/1875 [==============================] - 5s 3ms/step - loss: 0.2211 - accuracy: 0.9176\n",
            "Epoch 31/50\n",
            "1875/1875 [==============================] - 5s 3ms/step - loss: 0.2178 - accuracy: 0.9178\n",
            "Epoch 32/50\n",
            "1875/1875 [==============================] - 5s 3ms/step - loss: 0.2148 - accuracy: 0.9195\n",
            "Epoch 33/50\n",
            "1875/1875 [==============================] - 5s 3ms/step - loss: 0.2140 - accuracy: 0.9209\n",
            "Epoch 34/50\n",
            "1875/1875 [==============================] - 5s 3ms/step - loss: 0.2115 - accuracy: 0.9210\n",
            "Epoch 35/50\n",
            "1875/1875 [==============================] - 5s 3ms/step - loss: 0.2102 - accuracy: 0.9212\n",
            "Epoch 36/50\n",
            "1875/1875 [==============================] - 5s 3ms/step - loss: 0.2093 - accuracy: 0.9211\n",
            "Epoch 37/50\n",
            "1875/1875 [==============================] - 5s 3ms/step - loss: 0.2062 - accuracy: 0.9227\n",
            "Epoch 38/50\n",
            "1875/1875 [==============================] - 5s 3ms/step - loss: 0.2045 - accuracy: 0.9236\n",
            "Epoch 39/50\n",
            "1875/1875 [==============================] - 5s 3ms/step - loss: 0.2031 - accuracy: 0.9236\n",
            "Epoch 40/50\n",
            "1875/1875 [==============================] - 5s 3ms/step - loss: 0.2027 - accuracy: 0.9240\n",
            "Epoch 41/50\n",
            "1875/1875 [==============================] - 5s 3ms/step - loss: 0.2008 - accuracy: 0.9248\n",
            "Epoch 42/50\n",
            "1875/1875 [==============================] - 5s 3ms/step - loss: 0.1987 - accuracy: 0.9251\n",
            "Epoch 43/50\n",
            "1875/1875 [==============================] - 5s 3ms/step - loss: 0.1981 - accuracy: 0.9253\n",
            "Epoch 44/50\n",
            "1875/1875 [==============================] - 5s 3ms/step - loss: 0.1961 - accuracy: 0.9257\n",
            "Epoch 45/50\n",
            "1875/1875 [==============================] - 5s 3ms/step - loss: 0.1950 - accuracy: 0.9274\n",
            "Epoch 46/50\n",
            "1875/1875 [==============================] - 5s 3ms/step - loss: 0.1935 - accuracy: 0.9267\n",
            "Epoch 47/50\n",
            "1875/1875 [==============================] - 5s 3ms/step - loss: 0.1927 - accuracy: 0.9272\n",
            "Epoch 48/50\n",
            "1875/1875 [==============================] - 5s 3ms/step - loss: 0.1925 - accuracy: 0.9274\n",
            "Epoch 49/50\n",
            "1875/1875 [==============================] - 5s 3ms/step - loss: 0.1898 - accuracy: 0.9297\n",
            "Epoch 50/50\n",
            "1875/1875 [==============================] - 5s 3ms/step - loss: 0.1887 - accuracy: 0.9297\n"
          ]
        },
        {
          "output_type": "execute_result",
          "data": {
            "text/plain": [
              "<keras.callbacks.History at 0x7f104ea58e10>"
            ]
          },
          "metadata": {},
          "execution_count": 269
        }
      ]
    },
    {
      "cell_type": "code",
      "source": [
        "test_loss, test_acc = model.evaluate(testX, testy)"
      ],
      "metadata": {
        "colab": {
          "base_uri": "https://localhost:8080/"
        },
        "id": "qiBB1EeAUpq7",
        "outputId": "53760f89-9ce3-4963-b2ef-604f40c508a8"
      },
      "execution_count": null,
      "outputs": [
        {
          "output_type": "stream",
          "name": "stdout",
          "text": [
            "313/313 [==============================] - 1s 2ms/step - loss: 0.4116 - accuracy: 0.8772\n"
          ]
        }
      ]
    },
    {
      "cell_type": "code",
      "source": [
        "## Try a deeper model - 6NN\n",
        "\n",
        "model_6 = Sequential([\n",
        "    Flatten(input_shape=(28,28)),\n",
        "    Dense(32, activation='relu'),\n",
        "    Dense(32, activation='relu'),\n",
        "    Dense(32, activation='relu'),\n",
        "    Dense(32, activation='relu'),\n",
        "    Dense(10, activation='softmax')\n",
        "])\n",
        "\n",
        "\n",
        "# Specify the loss and cost\n",
        "from tensorflow.keras.losses import SparseCategoricalCrossentropy\n",
        "model_6.compile(loss=SparseCategoricalCrossentropy(), optimizer=tf.keras.optimizers.Adam(learning_rate=0.001), metrics='accuracy')"
      ],
      "metadata": {
        "id": "hVMRWwblV1GM"
      },
      "execution_count": null,
      "outputs": []
    },
    {
      "cell_type": "code",
      "source": [
        "# Train on data\n",
        "model_6.fit(trainX, trainy, epochs=50)"
      ],
      "metadata": {
        "colab": {
          "base_uri": "https://localhost:8080/"
        },
        "id": "YLIsNlpZaNdW",
        "outputId": "b68e676e-914f-445c-a401-96bbf9b2de76"
      },
      "execution_count": null,
      "outputs": [
        {
          "output_type": "stream",
          "name": "stdout",
          "text": [
            "Epoch 1/50\n",
            "1875/1875 [==============================] - 6s 3ms/step - loss: 0.5740 - accuracy: 0.7946\n",
            "Epoch 2/50\n",
            "1875/1875 [==============================] - 5s 3ms/step - loss: 0.4140 - accuracy: 0.8510\n",
            "Epoch 3/50\n",
            "1875/1875 [==============================] - 5s 3ms/step - loss: 0.3757 - accuracy: 0.8635\n",
            "Epoch 4/50\n",
            "1875/1875 [==============================] - 5s 3ms/step - loss: 0.3510 - accuracy: 0.8718\n",
            "Epoch 5/50\n",
            "1875/1875 [==============================] - 6s 3ms/step - loss: 0.3375 - accuracy: 0.8755\n",
            "Epoch 6/50\n",
            "1875/1875 [==============================] - 5s 3ms/step - loss: 0.3245 - accuracy: 0.8805\n",
            "Epoch 7/50\n",
            "1875/1875 [==============================] - 5s 3ms/step - loss: 0.3125 - accuracy: 0.8827\n",
            "Epoch 8/50\n",
            "1875/1875 [==============================] - 6s 3ms/step - loss: 0.3042 - accuracy: 0.8870\n",
            "Epoch 9/50\n",
            "1875/1875 [==============================] - 6s 3ms/step - loss: 0.2989 - accuracy: 0.8900\n",
            "Epoch 10/50\n",
            "1875/1875 [==============================] - 5s 3ms/step - loss: 0.2890 - accuracy: 0.8920\n",
            "Epoch 11/50\n",
            "1875/1875 [==============================] - 5s 3ms/step - loss: 0.2835 - accuracy: 0.8939\n",
            "Epoch 12/50\n",
            "1875/1875 [==============================] - 6s 3ms/step - loss: 0.2806 - accuracy: 0.8947\n",
            "Epoch 13/50\n",
            "1875/1875 [==============================] - 5s 3ms/step - loss: 0.2728 - accuracy: 0.8966\n",
            "Epoch 14/50\n",
            "1875/1875 [==============================] - 7s 4ms/step - loss: 0.2706 - accuracy: 0.8983\n",
            "Epoch 15/50\n",
            "1875/1875 [==============================] - 5s 3ms/step - loss: 0.2668 - accuracy: 0.8998\n",
            "Epoch 16/50\n",
            "1875/1875 [==============================] - 5s 3ms/step - loss: 0.2606 - accuracy: 0.9011\n",
            "Epoch 17/50\n",
            "1875/1875 [==============================] - 5s 3ms/step - loss: 0.2546 - accuracy: 0.9046\n",
            "Epoch 18/50\n",
            "1875/1875 [==============================] - 5s 3ms/step - loss: 0.2524 - accuracy: 0.9054\n",
            "Epoch 19/50\n",
            "1875/1875 [==============================] - 5s 3ms/step - loss: 0.2493 - accuracy: 0.9053\n",
            "Epoch 20/50\n",
            "1875/1875 [==============================] - 5s 3ms/step - loss: 0.2463 - accuracy: 0.9077\n",
            "Epoch 21/50\n",
            "1875/1875 [==============================] - 5s 3ms/step - loss: 0.2431 - accuracy: 0.9086\n",
            "Epoch 22/50\n",
            "1875/1875 [==============================] - 6s 3ms/step - loss: 0.2382 - accuracy: 0.9101\n",
            "Epoch 23/50\n",
            "1875/1875 [==============================] - 6s 3ms/step - loss: 0.2377 - accuracy: 0.9095\n",
            "Epoch 24/50\n",
            "1875/1875 [==============================] - 5s 3ms/step - loss: 0.2338 - accuracy: 0.9119\n",
            "Epoch 25/50\n",
            "1875/1875 [==============================] - 5s 3ms/step - loss: 0.2309 - accuracy: 0.9126\n",
            "Epoch 26/50\n",
            "1875/1875 [==============================] - 5s 3ms/step - loss: 0.2316 - accuracy: 0.9138\n",
            "Epoch 27/50\n",
            "1875/1875 [==============================] - 6s 3ms/step - loss: 0.2268 - accuracy: 0.9149\n",
            "Epoch 28/50\n",
            "1875/1875 [==============================] - 5s 3ms/step - loss: 0.2250 - accuracy: 0.9159\n",
            "Epoch 29/50\n",
            "1875/1875 [==============================] - 5s 3ms/step - loss: 0.2234 - accuracy: 0.9152\n",
            "Epoch 30/50\n",
            "1875/1875 [==============================] - 5s 3ms/step - loss: 0.2212 - accuracy: 0.9154\n",
            "Epoch 31/50\n",
            "1875/1875 [==============================] - 6s 3ms/step - loss: 0.2188 - accuracy: 0.9174\n",
            "Epoch 32/50\n",
            "1875/1875 [==============================] - 6s 3ms/step - loss: 0.2189 - accuracy: 0.9178\n",
            "Epoch 33/50\n",
            "1875/1875 [==============================] - 6s 3ms/step - loss: 0.2151 - accuracy: 0.9196\n",
            "Epoch 34/50\n",
            "1875/1875 [==============================] - 6s 3ms/step - loss: 0.2135 - accuracy: 0.9194\n",
            "Epoch 35/50\n",
            "1875/1875 [==============================] - 6s 3ms/step - loss: 0.2120 - accuracy: 0.9207\n",
            "Epoch 36/50\n",
            "1875/1875 [==============================] - 6s 3ms/step - loss: 0.2090 - accuracy: 0.9206\n",
            "Epoch 37/50\n",
            "1875/1875 [==============================] - 6s 3ms/step - loss: 0.2083 - accuracy: 0.9204\n",
            "Epoch 38/50\n",
            "1875/1875 [==============================] - 6s 3ms/step - loss: 0.2064 - accuracy: 0.9227\n",
            "Epoch 39/50\n",
            "1875/1875 [==============================] - 6s 3ms/step - loss: 0.2040 - accuracy: 0.9234\n",
            "Epoch 40/50\n",
            "1875/1875 [==============================] - 6s 3ms/step - loss: 0.2024 - accuracy: 0.9236\n",
            "Epoch 41/50\n",
            "1875/1875 [==============================] - 6s 3ms/step - loss: 0.2000 - accuracy: 0.9255\n",
            "Epoch 42/50\n",
            "1875/1875 [==============================] - 6s 3ms/step - loss: 0.2006 - accuracy: 0.9246\n",
            "Epoch 43/50\n",
            "1875/1875 [==============================] - 6s 3ms/step - loss: 0.1987 - accuracy: 0.9249\n",
            "Epoch 44/50\n",
            "1875/1875 [==============================] - 6s 3ms/step - loss: 0.1996 - accuracy: 0.9247\n",
            "Epoch 45/50\n",
            "1875/1875 [==============================] - 5s 3ms/step - loss: 0.1955 - accuracy: 0.9258\n",
            "Epoch 46/50\n",
            "1875/1875 [==============================] - 6s 3ms/step - loss: 0.1954 - accuracy: 0.9267\n",
            "Epoch 47/50\n",
            "1875/1875 [==============================] - 6s 3ms/step - loss: 0.1931 - accuracy: 0.9261\n",
            "Epoch 48/50\n",
            "1875/1875 [==============================] - 5s 3ms/step - loss: 0.1902 - accuracy: 0.9278\n",
            "Epoch 49/50\n",
            "1875/1875 [==============================] - 6s 3ms/step - loss: 0.1939 - accuracy: 0.9270\n",
            "Epoch 50/50\n",
            "1875/1875 [==============================] - 6s 3ms/step - loss: 0.1898 - accuracy: 0.9292\n"
          ]
        },
        {
          "output_type": "execute_result",
          "data": {
            "text/plain": [
              "<keras.callbacks.History at 0x7f104eb88c90>"
            ]
          },
          "metadata": {},
          "execution_count": 272
        }
      ]
    },
    {
      "cell_type": "code",
      "source": [
        "test_loss, test_acc = model_6.evaluate(testX, testy)"
      ],
      "metadata": {
        "colab": {
          "base_uri": "https://localhost:8080/"
        },
        "id": "Z_iKgTtwbSz5",
        "outputId": "a04a7062-297e-4459-ef87-c6239d4bf6f7"
      },
      "execution_count": null,
      "outputs": [
        {
          "output_type": "stream",
          "name": "stdout",
          "text": [
            "313/313 [==============================] - 1s 2ms/step - loss: 0.4223 - accuracy: 0.8721\n"
          ]
        }
      ]
    },
    {
      "cell_type": "markdown",
      "source": [
        "Minimal increase in accuracy compared to the smaller network."
      ],
      "metadata": {
        "id": "btPlbwNpkbw8"
      }
    },
    {
      "cell_type": "code",
      "source": [
        "# Try increasing number of epochs.\n",
        "\n",
        "model3 = Sequential([\n",
        "    Flatten(input_shape=(28,28)),\n",
        "    Dense(units=32, activation='relu'),\n",
        "    Dense(units=15, activation='relu'),\n",
        "    Dense(units=10, activation = 'softmax')\n",
        "])\n",
        "\n",
        "# Specify the loss and cost\n",
        "from tensorflow.keras.losses import SparseCategoricalCrossentropy\n",
        "model3.compile(loss=SparseCategoricalCrossentropy(), optimizer=tf.keras.optimizers.Adam(learning_rate=0.001), metrics='accuracy')\n",
        "\n",
        "model3.fit(trainX, trainy, epochs=100)"
      ],
      "metadata": {
        "colab": {
          "base_uri": "https://localhost:8080/"
        },
        "id": "hufUQJwSbx-0",
        "outputId": "a86cf49f-c298-4ac1-b857-09c7c5a33ba6"
      },
      "execution_count": null,
      "outputs": [
        {
          "output_type": "stream",
          "name": "stdout",
          "text": [
            "Epoch 1/100\n",
            "1875/1875 [==============================] - 11s 5ms/step - loss: 0.5654 - accuracy: 0.8054\n",
            "Epoch 2/100\n",
            "1875/1875 [==============================] - 5s 3ms/step - loss: 0.4185 - accuracy: 0.8519\n",
            "Epoch 3/100\n",
            "1875/1875 [==============================] - 5s 3ms/step - loss: 0.3815 - accuracy: 0.8638\n",
            "Epoch 4/100\n",
            "1875/1875 [==============================] - 5s 3ms/step - loss: 0.3596 - accuracy: 0.8702\n",
            "Epoch 5/100\n",
            "1875/1875 [==============================] - 5s 3ms/step - loss: 0.3411 - accuracy: 0.8774\n",
            "Epoch 6/100\n",
            "1875/1875 [==============================] - 7s 4ms/step - loss: 0.3305 - accuracy: 0.8812\n",
            "Epoch 7/100\n",
            "1875/1875 [==============================] - 5s 3ms/step - loss: 0.3174 - accuracy: 0.8838\n",
            "Epoch 8/100\n",
            "1875/1875 [==============================] - 5s 3ms/step - loss: 0.3102 - accuracy: 0.8870\n",
            "Epoch 9/100\n",
            "1875/1875 [==============================] - 5s 3ms/step - loss: 0.3020 - accuracy: 0.8897\n",
            "Epoch 10/100\n",
            "1875/1875 [==============================] - 5s 3ms/step - loss: 0.2958 - accuracy: 0.8915\n",
            "Epoch 11/100\n",
            "1875/1875 [==============================] - 5s 3ms/step - loss: 0.2879 - accuracy: 0.8948\n",
            "Epoch 12/100\n",
            "1875/1875 [==============================] - 5s 3ms/step - loss: 0.2838 - accuracy: 0.8956\n",
            "Epoch 13/100\n",
            "1875/1875 [==============================] - 5s 3ms/step - loss: 0.2782 - accuracy: 0.8978\n",
            "Epoch 14/100\n",
            "1875/1875 [==============================] - 5s 3ms/step - loss: 0.2729 - accuracy: 0.8991\n",
            "Epoch 15/100\n",
            "1875/1875 [==============================] - 5s 3ms/step - loss: 0.2680 - accuracy: 0.9014\n",
            "Epoch 16/100\n",
            "1875/1875 [==============================] - 5s 3ms/step - loss: 0.2638 - accuracy: 0.9033\n",
            "Epoch 17/100\n",
            "1875/1875 [==============================] - 5s 3ms/step - loss: 0.2571 - accuracy: 0.9048\n",
            "Epoch 18/100\n",
            "1875/1875 [==============================] - 5s 3ms/step - loss: 0.2558 - accuracy: 0.9050\n",
            "Epoch 19/100\n",
            "1875/1875 [==============================] - 5s 3ms/step - loss: 0.2516 - accuracy: 0.9067\n",
            "Epoch 20/100\n",
            "1875/1875 [==============================] - 5s 3ms/step - loss: 0.2488 - accuracy: 0.9075\n",
            "Epoch 21/100\n",
            "1875/1875 [==============================] - 5s 3ms/step - loss: 0.2466 - accuracy: 0.9081\n",
            "Epoch 22/100\n",
            "1875/1875 [==============================] - 5s 3ms/step - loss: 0.2413 - accuracy: 0.9104\n",
            "Epoch 23/100\n",
            "1875/1875 [==============================] - 5s 3ms/step - loss: 0.2394 - accuracy: 0.9116\n",
            "Epoch 24/100\n",
            "1875/1875 [==============================] - 5s 3ms/step - loss: 0.2371 - accuracy: 0.9108\n",
            "Epoch 25/100\n",
            "1875/1875 [==============================] - 5s 3ms/step - loss: 0.2344 - accuracy: 0.9127\n",
            "Epoch 26/100\n",
            "1875/1875 [==============================] - 5s 3ms/step - loss: 0.2320 - accuracy: 0.9148\n",
            "Epoch 27/100\n",
            "1875/1875 [==============================] - 5s 3ms/step - loss: 0.2307 - accuracy: 0.9139\n",
            "Epoch 28/100\n",
            "1875/1875 [==============================] - 5s 3ms/step - loss: 0.2266 - accuracy: 0.9153\n",
            "Epoch 29/100\n",
            "1875/1875 [==============================] - 5s 3ms/step - loss: 0.2238 - accuracy: 0.9168\n",
            "Epoch 30/100\n",
            "1875/1875 [==============================] - 5s 3ms/step - loss: 0.2243 - accuracy: 0.9163\n",
            "Epoch 31/100\n",
            "1875/1875 [==============================] - 5s 3ms/step - loss: 0.2195 - accuracy: 0.9172\n",
            "Epoch 32/100\n",
            "1875/1875 [==============================] - 5s 3ms/step - loss: 0.2165 - accuracy: 0.9198\n",
            "Epoch 33/100\n",
            "1875/1875 [==============================] - 5s 3ms/step - loss: 0.2172 - accuracy: 0.9193\n",
            "Epoch 34/100\n",
            "1875/1875 [==============================] - 5s 3ms/step - loss: 0.2133 - accuracy: 0.9215\n",
            "Epoch 35/100\n",
            "1875/1875 [==============================] - 5s 3ms/step - loss: 0.2115 - accuracy: 0.9219\n",
            "Epoch 36/100\n",
            "1875/1875 [==============================] - 5s 3ms/step - loss: 0.2080 - accuracy: 0.9227\n",
            "Epoch 37/100\n",
            "1875/1875 [==============================] - 5s 3ms/step - loss: 0.2078 - accuracy: 0.9227\n",
            "Epoch 38/100\n",
            "1875/1875 [==============================] - 5s 3ms/step - loss: 0.2070 - accuracy: 0.9228\n",
            "Epoch 39/100\n",
            "1875/1875 [==============================] - 5s 3ms/step - loss: 0.2047 - accuracy: 0.9237\n",
            "Epoch 40/100\n",
            "1875/1875 [==============================] - 5s 3ms/step - loss: 0.2031 - accuracy: 0.9242\n",
            "Epoch 41/100\n",
            "1875/1875 [==============================] - 5s 3ms/step - loss: 0.2016 - accuracy: 0.9252\n",
            "Epoch 42/100\n",
            "1875/1875 [==============================] - 5s 3ms/step - loss: 0.2012 - accuracy: 0.9253\n",
            "Epoch 43/100\n",
            "1875/1875 [==============================] - 5s 3ms/step - loss: 0.1981 - accuracy: 0.9255\n",
            "Epoch 44/100\n",
            "1875/1875 [==============================] - 5s 3ms/step - loss: 0.1974 - accuracy: 0.9261\n",
            "Epoch 45/100\n",
            "1875/1875 [==============================] - 5s 3ms/step - loss: 0.1978 - accuracy: 0.9262\n",
            "Epoch 46/100\n",
            "1875/1875 [==============================] - 5s 3ms/step - loss: 0.1958 - accuracy: 0.9274\n",
            "Epoch 47/100\n",
            "1875/1875 [==============================] - 5s 3ms/step - loss: 0.1930 - accuracy: 0.9292\n",
            "Epoch 48/100\n",
            "1875/1875 [==============================] - 5s 3ms/step - loss: 0.1909 - accuracy: 0.9288\n",
            "Epoch 49/100\n",
            "1875/1875 [==============================] - 5s 3ms/step - loss: 0.1897 - accuracy: 0.9292\n",
            "Epoch 50/100\n",
            "1875/1875 [==============================] - 5s 3ms/step - loss: 0.1899 - accuracy: 0.9300\n",
            "Epoch 51/100\n",
            "1875/1875 [==============================] - 5s 3ms/step - loss: 0.1875 - accuracy: 0.9298\n",
            "Epoch 52/100\n",
            "1875/1875 [==============================] - 5s 3ms/step - loss: 0.1877 - accuracy: 0.9298\n",
            "Epoch 53/100\n",
            "1875/1875 [==============================] - 7s 4ms/step - loss: 0.1849 - accuracy: 0.9313\n",
            "Epoch 54/100\n",
            "1875/1875 [==============================] - 5s 3ms/step - loss: 0.1849 - accuracy: 0.9319\n",
            "Epoch 55/100\n",
            "1875/1875 [==============================] - 5s 3ms/step - loss: 0.1834 - accuracy: 0.9316\n",
            "Epoch 56/100\n",
            "1875/1875 [==============================] - 5s 3ms/step - loss: 0.1838 - accuracy: 0.9317\n",
            "Epoch 57/100\n",
            "1875/1875 [==============================] - 5s 3ms/step - loss: 0.1803 - accuracy: 0.9330\n",
            "Epoch 58/100\n",
            "1875/1875 [==============================] - 5s 3ms/step - loss: 0.1782 - accuracy: 0.9334\n",
            "Epoch 59/100\n",
            "1875/1875 [==============================] - 5s 3ms/step - loss: 0.1815 - accuracy: 0.9328\n",
            "Epoch 60/100\n",
            "1875/1875 [==============================] - 5s 3ms/step - loss: 0.1780 - accuracy: 0.9336\n",
            "Epoch 61/100\n",
            "1875/1875 [==============================] - 6s 3ms/step - loss: 0.1762 - accuracy: 0.9353\n",
            "Epoch 62/100\n",
            "1875/1875 [==============================] - 5s 3ms/step - loss: 0.1769 - accuracy: 0.9338\n",
            "Epoch 63/100\n",
            "1875/1875 [==============================] - 6s 3ms/step - loss: 0.1773 - accuracy: 0.9344\n",
            "Epoch 64/100\n",
            "1875/1875 [==============================] - 6s 3ms/step - loss: 0.1745 - accuracy: 0.9342\n",
            "Epoch 65/100\n",
            "1875/1875 [==============================] - 6s 3ms/step - loss: 0.1737 - accuracy: 0.9352\n",
            "Epoch 66/100\n",
            "1875/1875 [==============================] - 5s 3ms/step - loss: 0.1712 - accuracy: 0.9364\n",
            "Epoch 67/100\n",
            "1875/1875 [==============================] - 5s 3ms/step - loss: 0.1720 - accuracy: 0.9360\n",
            "Epoch 68/100\n",
            "1875/1875 [==============================] - 5s 3ms/step - loss: 0.1716 - accuracy: 0.9359\n",
            "Epoch 69/100\n",
            "1875/1875 [==============================] - 5s 3ms/step - loss: 0.1704 - accuracy: 0.9366\n",
            "Epoch 70/100\n",
            "1875/1875 [==============================] - 5s 3ms/step - loss: 0.1695 - accuracy: 0.9367\n",
            "Epoch 71/100\n",
            "1875/1875 [==============================] - 5s 3ms/step - loss: 0.1674 - accuracy: 0.9381\n",
            "Epoch 72/100\n",
            "1875/1875 [==============================] - 5s 3ms/step - loss: 0.1663 - accuracy: 0.9376\n",
            "Epoch 73/100\n",
            "1875/1875 [==============================] - 5s 3ms/step - loss: 0.1662 - accuracy: 0.9384\n",
            "Epoch 74/100\n",
            "1875/1875 [==============================] - 5s 3ms/step - loss: 0.1663 - accuracy: 0.9382\n",
            "Epoch 75/100\n",
            "1875/1875 [==============================] - 5s 3ms/step - loss: 0.1643 - accuracy: 0.9385\n",
            "Epoch 76/100\n",
            "1875/1875 [==============================] - 5s 3ms/step - loss: 0.1637 - accuracy: 0.9394\n",
            "Epoch 77/100\n",
            "1875/1875 [==============================] - 5s 3ms/step - loss: 0.1646 - accuracy: 0.9389\n",
            "Epoch 78/100\n",
            "1875/1875 [==============================] - 5s 3ms/step - loss: 0.1631 - accuracy: 0.9395\n",
            "Epoch 79/100\n",
            "1875/1875 [==============================] - 5s 3ms/step - loss: 0.1627 - accuracy: 0.9392\n",
            "Epoch 80/100\n",
            "1875/1875 [==============================] - 5s 3ms/step - loss: 0.1608 - accuracy: 0.9403\n",
            "Epoch 81/100\n",
            "1875/1875 [==============================] - 5s 3ms/step - loss: 0.1614 - accuracy: 0.9405\n",
            "Epoch 82/100\n",
            "1875/1875 [==============================] - 5s 3ms/step - loss: 0.1603 - accuracy: 0.9402\n",
            "Epoch 83/100\n",
            "1875/1875 [==============================] - 5s 3ms/step - loss: 0.1587 - accuracy: 0.9410\n",
            "Epoch 84/100\n",
            "1875/1875 [==============================] - 5s 3ms/step - loss: 0.1581 - accuracy: 0.9422\n",
            "Epoch 85/100\n",
            "1875/1875 [==============================] - 5s 3ms/step - loss: 0.1579 - accuracy: 0.9413\n",
            "Epoch 86/100\n",
            "1875/1875 [==============================] - 5s 3ms/step - loss: 0.1558 - accuracy: 0.9422\n",
            "Epoch 87/100\n",
            "1875/1875 [==============================] - 5s 3ms/step - loss: 0.1558 - accuracy: 0.9415\n",
            "Epoch 88/100\n",
            "1875/1875 [==============================] - 5s 3ms/step - loss: 0.1559 - accuracy: 0.9419\n",
            "Epoch 89/100\n",
            "1875/1875 [==============================] - 5s 3ms/step - loss: 0.1552 - accuracy: 0.9425\n",
            "Epoch 90/100\n",
            "1875/1875 [==============================] - 5s 3ms/step - loss: 0.1521 - accuracy: 0.9442\n",
            "Epoch 91/100\n",
            "1875/1875 [==============================] - 5s 3ms/step - loss: 0.1548 - accuracy: 0.9427\n",
            "Epoch 92/100\n",
            "1875/1875 [==============================] - 5s 3ms/step - loss: 0.1510 - accuracy: 0.9436\n",
            "Epoch 93/100\n",
            "1875/1875 [==============================] - 5s 3ms/step - loss: 0.1513 - accuracy: 0.9447\n",
            "Epoch 94/100\n",
            "1875/1875 [==============================] - 5s 3ms/step - loss: 0.1523 - accuracy: 0.9435\n",
            "Epoch 95/100\n",
            "1875/1875 [==============================] - 5s 3ms/step - loss: 0.1508 - accuracy: 0.9445\n",
            "Epoch 96/100\n",
            "1875/1875 [==============================] - 5s 3ms/step - loss: 0.1514 - accuracy: 0.9438\n",
            "Epoch 97/100\n",
            "1875/1875 [==============================] - 5s 3ms/step - loss: 0.1508 - accuracy: 0.9449\n",
            "Epoch 98/100\n",
            "1875/1875 [==============================] - 6s 3ms/step - loss: 0.1482 - accuracy: 0.9460\n",
            "Epoch 99/100\n",
            "1875/1875 [==============================] - 7s 4ms/step - loss: 0.1495 - accuracy: 0.9438\n",
            "Epoch 100/100\n",
            "1875/1875 [==============================] - 5s 3ms/step - loss: 0.1462 - accuracy: 0.9459\n"
          ]
        },
        {
          "output_type": "execute_result",
          "data": {
            "text/plain": [
              "<keras.callbacks.History at 0x7f104e0e2cd0>"
            ]
          },
          "metadata": {},
          "execution_count": 274
        }
      ]
    },
    {
      "cell_type": "code",
      "source": [
        "test_loss, test_acc = model3.evaluate(testX, testy) #use this model as it had the highest accuracy among the 3 models considered"
      ],
      "metadata": {
        "colab": {
          "base_uri": "https://localhost:8080/"
        },
        "id": "QkKj4WfqmpEl",
        "outputId": "7f366fc4-c281-4ceb-9eb3-046a8d108653"
      },
      "execution_count": null,
      "outputs": [
        {
          "output_type": "stream",
          "name": "stdout",
          "text": [
            "313/313 [==============================] - 1s 2ms/step - loss: 0.5943 - accuracy: 0.8646\n"
          ]
        }
      ]
    },
    {
      "cell_type": "code",
      "source": [
        "# confidence of the model that the image corresponds to the label \n",
        "predictions = model3.predict(testX)"
      ],
      "metadata": {
        "colab": {
          "base_uri": "https://localhost:8080/"
        },
        "id": "_S79eVDhnY5H",
        "outputId": "d23b504d-4364-410d-acec-11b318c44801"
      },
      "execution_count": null,
      "outputs": [
        {
          "output_type": "stream",
          "name": "stdout",
          "text": [
            "313/313 [==============================] - 1s 2ms/step\n"
          ]
        }
      ]
    },
    {
      "cell_type": "code",
      "source": [
        "predictions.shape"
      ],
      "metadata": {
        "colab": {
          "base_uri": "https://localhost:8080/"
        },
        "id": "DjA_o-2Uns3V",
        "outputId": "fb6b7c59-e1c2-4bb9-81ac-0cdfed06eefc"
      },
      "execution_count": null,
      "outputs": [
        {
          "output_type": "execute_result",
          "data": {
            "text/plain": [
              "(10000, 10)"
            ]
          },
          "metadata": {},
          "execution_count": 277
        }
      ]
    },
    {
      "cell_type": "code",
      "source": [
        "# plot image in a grid\n",
        "def plot_image(i, predictions_array, true_label, img):\n",
        "  predictions_array, true_label, img = predictions_array[i], true_label[i], img[i]\n",
        "  plt.grid(False)\n",
        "  plt.xticks([])\n",
        "  plt.yticks([])\n",
        "  \n",
        "  plt.imshow(img, cmap=plt.cm.binary)\n",
        "\n",
        "  predicted_label = np.argmax(predictions_array)\n",
        "  if predicted_label == true_label:\n",
        "    color = 'blue'\n",
        "  else:\n",
        "    color = 'red'\n",
        "  \n",
        "  plt.xlabel(\"{} {:2.0f}% ({})\".format(class_names[predicted_label],\n",
        "                                100*np.max(predictions_array),\n",
        "                                class_names[true_label]),\n",
        "                                color=color)\n",
        "# plot the value array    \n",
        "def plot_value_array(i, predictions_array, true_label):\n",
        "    predictions_array, true_label = predictions_array[i], true_label[i]\n",
        "    plt.grid(False)\n",
        "    plt.xticks([])\n",
        "    plt.yticks([])\n",
        "    thisplot= plt.bar(range(10), predictions_array, color=\"#777777\")\n",
        "    plt.ylim([0,1])\n",
        "    predicted_label = np.argmax(predictions_array)\n",
        "    \n",
        "    thisplot[predicted_label].set_color('red')\n",
        "    thisplot[true_label].set_color('blue')"
      ],
      "metadata": {
        "id": "5l4DxVGFnvP6"
      },
      "execution_count": null,
      "outputs": []
    },
    {
      "cell_type": "code",
      "source": [
        "# Plot the first 15 test images, their predicted label, and the true label\n",
        "# Color correct predictions in blue, incorrect predictions in red\n",
        "num_rows = 5\n",
        "num_cols = 3\n",
        "num_images = num_rows*num_cols\n",
        "plt.figure(figsize=(2*2*num_cols, 2*num_rows))\n",
        "plt.title(\"Predictions of the first 15 images, with NN-3\")\n",
        "for i in range(num_images):\n",
        "  plt.subplot(num_rows, 2*num_cols, 2*i+1)\n",
        "  plot_image(i, predictions, testy, testX)\n",
        "  plt.subplot(num_rows, 2*num_cols, 2*i+2)\n",
        "  plot_value_array(i, predictions, testy)"
      ],
      "metadata": {
        "colab": {
          "base_uri": "https://localhost:8080/",
          "height": 589
        },
        "id": "3t7zuYHJoAYm",
        "outputId": "ce4bee2f-2890-482e-f1e2-9ad0c0bb8123"
      },
      "execution_count": null,
      "outputs": [
        {
          "output_type": "display_data",
          "data": {
            "text/plain": [
              "<Figure size 864x720 with 30 Axes>"
            ],
            "image/png": "[encoded data removed]"
          },
          "metadata": {}
        }
      ]
    },
    {
      "cell_type": "markdown",
      "metadata": {
        "id": "XB637hwzZwIV"
      },
      "source": [
        "# NLP\n"
      ]
    },
    {
      "cell_type": "markdown",
      "metadata": {
        "id": "b3wQ-SQWdqZj"
      },
      "source": [
        "Question : Train a sentiment analysis model to first classify positive, negative, and neutral tweets from tweets about Major US Airlines"
      ]
    },
    {
      "cell_type": "markdown",
      "metadata": {
        "id": "t7cT3OWwdvBK"
      },
      "source": [
        "Link to data: https://www.kaggle.com/datasets/crowdflower/twitter-airline-sentiment"
      ]
    },
    {
      "cell_type": "code",
      "execution_count": null,
      "metadata": {
        "id": "bM06BwmxZzYK"
      },
      "outputs": [],
      "source": [
        "import pandas as pd\n",
        "import numpy as np\n",
        "import re"
      ]
    },
    {
      "cell_type": "code",
      "source": [
        "from google.colab import drive\n",
        "drive.mount('/drive')"
      ],
      "metadata": {
        "colab": {
          "base_uri": "https://localhost:8080/"
        },
        "id": "aRLTDeJoE626",
        "outputId": "8fba823d-fcc2-49ef-88d4-a7de75115453"
      },
      "execution_count": null,
      "outputs": [
        {
          "output_type": "stream",
          "name": "stdout",
          "text": [
            "Drive already mounted at /drive; to attempt to forcibly remount, call drive.mount(\"/drive\", force_remount=True).\n"
          ]
        }
      ]
    },
    {
      "cell_type": "code",
      "source": [
        "raw_df = pd.read_csv('/drive/My Drive/Colab Notebooks/Tweets.csv')"
      ],
      "metadata": {
        "id": "Eih2CWdcFOzB"
      },
      "execution_count": null,
      "outputs": []
    },
    {
      "cell_type": "code",
      "source": [
        "raw_df.head()"
      ],
      "metadata": {
        "colab": {
          "base_uri": "https://localhost:8080/",
          "height": 496
        },
        "id": "vTL2ySKIFXWt",
        "outputId": "f9c6f792-425c-4370-8925-f3058d97e83a"
      },
      "execution_count": null,
      "outputs": [
        {
          "output_type": "execute_result",
          "data": {
            "text/plain": [
              "             tweet_id airline_sentiment  airline_sentiment_confidence  \\\n",
              "0  570306133677760513           neutral                        1.0000   \n",
              "1  570301130888122368          positive                        0.3486   \n",
              "2  570301083672813571           neutral                        0.6837   \n",
              "3  570301031407624196          negative                        1.0000   \n",
              "4  570300817074462722          negative                        1.0000   \n",
              "\n",
              "  negativereason  negativereason_confidence         airline  \\\n",
              "0            NaN                        NaN  Virgin America   \n",
              "1            NaN                     0.0000  Virgin America   \n",
              "2            NaN                        NaN  Virgin America   \n",
              "3     Bad Flight                     0.7033  Virgin America   \n",
              "4     Can't Tell                     1.0000  Virgin America   \n",
              "\n",
              "  airline_sentiment_gold        name negativereason_gold  retweet_count  \\\n",
              "0                    NaN     cairdin                 NaN              0   \n",
              "1                    NaN    jnardino                 NaN              0   \n",
              "2                    NaN  yvonnalynn                 NaN              0   \n",
              "3                    NaN    jnardino                 NaN              0   \n",
              "4                    NaN    jnardino                 NaN              0   \n",
              "\n",
              "                                                text tweet_coord  \\\n",
              "0                @VirginAmerica What @dhepburn said.         NaN   \n",
              "1  @VirginAmerica plus you've added commercials t...         NaN   \n",
              "2  @VirginAmerica I didn't today... Must mean I n...         NaN   \n",
              "3  @VirginAmerica it's really aggressive to blast...         NaN   \n",
              "4  @VirginAmerica and it's a really big bad thing...         NaN   \n",
              "\n",
              "               tweet_created tweet_location               user_timezone  \n",
              "0  2015-02-24 11:35:52 -0800            NaN  Eastern Time (US & Canada)  \n",
              "1  2015-02-24 11:15:59 -0800            NaN  Pacific Time (US & Canada)  \n",
              "2  2015-02-24 11:15:48 -0800      Lets Play  Central Time (US & Canada)  \n",
              "3  2015-02-24 11:15:36 -0800            NaN  Pacific Time (US & Canada)  \n",
              "4  2015-02-24 11:14:45 -0800            NaN  Pacific Time (US & Canada)  "
            ],
            "text/html": [
              "\n",
              "  <div id=\"df-881d43ec-0a8f-493f-a4ff-1459c89ee722\">\n",
              "    <div class=\"colab-df-container\">\n",
              "      <div>\n",
              "<style scoped>\n",
              "    .dataframe tbody tr th:only-of-type {\n",
              "        vertical-align: middle;\n",
              "    }\n",
              "\n",
              "    .dataframe tbody tr th {\n",
              "        vertical-align: top;\n",
              "    }\n",
              "\n",
              "    .dataframe thead th {\n",
              "        text-align: right;\n",
              "    }\n",
              "</style>\n",
              "<table border=\"1\" class=\"dataframe\">\n",
              "  <thead>\n",
              "    <tr style=\"text-align: right;\">\n",
              "      <th></th>\n",
              "      <th>tweet_id</th>\n",
              "      <th>airline_sentiment</th>\n",
              "      <th>airline_sentiment_confidence</th>\n",
              "      <th>negativereason</th>\n",
              "      <th>negativereason_confidence</th>\n",
              "      <th>airline</th>\n",
              "      <th>airline_sentiment_gold</th>\n",
              "      <th>name</th>\n",
              "      <th>negativereason_gold</th>\n",
              "      <th>retweet_count</th>\n",
              "      <th>text</th>\n",
              "      <th>tweet_coord</th>\n",
              "      <th>tweet_created</th>\n",
              "      <th>tweet_location</th>\n",
              "      <th>user_timezone</th>\n",
              "    </tr>\n",
              "  </thead>\n",
              "  <tbody>\n",
              "    <tr>\n",
              "      <th>0</th>\n",
              "      <td>570306133677760513</td>\n",
              "      <td>neutral</td>\n",
              "      <td>1.0000</td>\n",
              "      <td>NaN</td>\n",
              "      <td>NaN</td>\n",
              "      <td>Virgin America</td>\n",
              "      <td>NaN</td>\n",
              "      <td>cairdin</td>\n",
              "      <td>NaN</td>\n",
              "      <td>0</td>\n",
              "      <td>@VirginAmerica What @dhepburn said.</td>\n",
              "      <td>NaN</td>\n",
              "      <td>2015-02-24 11:35:52 -0800</td>\n",
              "      <td>NaN</td>\n",
              "      <td>Eastern Time (US &amp; Canada)</td>\n",
              "    </tr>\n",
              "    <tr>\n",
              "      <th>1</th>\n",
              "      <td>570301130888122368</td>\n",
              "      <td>positive</td>\n",
              "      <td>0.3486</td>\n",
              "      <td>NaN</td>\n",
              "      <td>0.0000</td>\n",
              "      <td>Virgin America</td>\n",
              "      <td>NaN</td>\n",
              "      <td>jnardino</td>\n",
              "      <td>NaN</td>\n",
              "      <td>0</td>\n",
              "      <td>@VirginAmerica plus you've added commercials t...</td>\n",
              "      <td>NaN</td>\n",
              "      <td>2015-02-24 11:15:59 -0800</td>\n",
              "      <td>NaN</td>\n",
              "      <td>Pacific Time (US &amp; Canada)</td>\n",
              "    </tr>\n",
              "    <tr>\n",
              "      <th>2</th>\n",
              "      <td>570301083672813571</td>\n",
              "      <td>neutral</td>\n",
              "      <td>0.6837</td>\n",
              "      <td>NaN</td>\n",
              "      <td>NaN</td>\n",
              "      <td>Virgin America</td>\n",
              "      <td>NaN</td>\n",
              "      <td>yvonnalynn</td>\n",
              "      <td>NaN</td>\n",
              "      <td>0</td>\n",
              "      <td>@VirginAmerica I didn't today... Must mean I n...</td>\n",
              "      <td>NaN</td>\n",
              "      <td>2015-02-24 11:15:48 -0800</td>\n",
              "      <td>Lets Play</td>\n",
              "      <td>Central Time (US &amp; Canada)</td>\n",
              "    </tr>\n",
              "    <tr>\n",
              "      <th>3</th>\n",
              "      <td>570301031407624196</td>\n",
              "      <td>negative</td>\n",
              "      <td>1.0000</td>\n",
              "      <td>Bad Flight</td>\n",
              "      <td>0.7033</td>\n",
              "      <td>Virgin America</td>\n",
              "      <td>NaN</td>\n",
              "      <td>jnardino</td>\n",
              "      <td>NaN</td>\n",
              "      <td>0</td>\n",
              "      <td>@VirginAmerica it's really aggressive to blast...</td>\n",
              "      <td>NaN</td>\n",
              "      <td>2015-02-24 11:15:36 -0800</td>\n",
              "      <td>NaN</td>\n",
              "      <td>Pacific Time (US &amp; Canada)</td>\n",
              "    </tr>\n",
              "    <tr>\n",
              "      <th>4</th>\n",
              "      <td>570300817074462722</td>\n",
              "      <td>negative</td>\n",
              "      <td>1.0000</td>\n",
              "      <td>Can't Tell</td>\n",
              "      <td>1.0000</td>\n",
              "      <td>Virgin America</td>\n",
              "      <td>NaN</td>\n",
              "      <td>jnardino</td>\n",
              "      <td>NaN</td>\n",
              "      <td>0</td>\n",
              "      <td>@VirginAmerica and it's a really big bad thing...</td>\n",
              "      <td>NaN</td>\n",
              "      <td>2015-02-24 11:14:45 -0800</td>\n",
              "      <td>NaN</td>\n",
              "      <td>Pacific Time (US &amp; Canada)</td>\n",
              "    </tr>\n",
              "  </tbody>\n",
              "</table>\n",
              "</div>\n",
              "      <button class=\"colab-df-convert\" onclick=\"convertToInteractive('df-881d43ec-0a8f-493f-a4ff-1459c89ee722')\"\n",
              "              title=\"Convert this dataframe to an interactive table.\"\n",
              "              style=\"display:none;\">\n",
              "        \n",
              "  <svg xmlns=\"http://www.w3.org/2000/svg\" height=\"24px\"viewBox=\"0 0 24 24\"\n",
              "       width=\"24px\">\n",
              "    <path d=\"M0 0h24v24H0V0z\" fill=\"none\"/>\n",
              "    <path d=\"M18.56 5.44l.94 2.06.94-2.06 2.06-.94-2.06-.94-.94-2.06-.94 2.06-2.06.94zm-11 1L8.5 8.5l.94-2.06 2.06-.94-2.06-.94L8.5 2.5l-.94 2.06-2.06.94zm10 10l.94 2.06.94-2.06 2.06-.94-2.06-.94-.94-2.06-.94 2.06-2.06.94z\"/><path d=\"M17.41 7.96l-1.37-1.37c-.4-.4-.92-.59-1.43-.59-.52 0-1.04.2-1.43.59L10.3 9.45l-7.72 7.72c-.78.78-.78 2.05 0 2.83L4 21.41c.39.39.9.59 1.41.59.51 0 1.02-.2 1.41-.59l7.78-7.78 2.81-2.81c.8-.78.8-2.07 0-2.86zM5.41 20L4 18.59l7.72-7.72 1.47 1.35L5.41 20z\"/>\n",
              "  </svg>\n",
              "      </button>\n",
              "      \n",
              "  <style>\n",
              "    .colab-df-container {\n",
              "      display:flex;\n",
              "      flex-wrap:wrap;\n",
              "      gap: 12px;\n",
              "    }\n",
              "\n",
              "    .colab-df-convert {\n",
              "      background-color: #E8F0FE;\n",
              "      border: none;\n",
              "      border-radius: 50%;\n",
              "      cursor: pointer;\n",
              "      display: none;\n",
              "      fill: #1967D2;\n",
              "      height: 32px;\n",
              "      padding: 0 0 0 0;\n",
              "      width: 32px;\n",
              "    }\n",
              "\n",
              "    .colab-df-convert:hover {\n",
              "      background-color: #E2EBFA;\n",
              "      box-shadow: 0px 1px 2px rgba(60, 64, 67, 0.3), 0px 1px 3px 1px rgba(60, 64, 67, 0.15);\n",
              "      fill: #174EA6;\n",
              "    }\n",
              "\n",
              "    [theme=dark] .colab-df-convert {\n",
              "      background-color: #3B4455;\n",
              "      fill: #D2E3FC;\n",
              "    }\n",
              "\n",
              "    [theme=dark] .colab-df-convert:hover {\n",
              "      background-color: #434B5C;\n",
              "      box-shadow: 0px 1px 3px 1px rgba(0, 0, 0, 0.15);\n",
              "      filter: drop-shadow(0px 1px 2px rgba(0, 0, 0, 0.3));\n",
              "      fill: #FFFFFF;\n",
              "    }\n",
              "  </style>\n",
              "\n",
              "      <script>\n",
              "        const buttonEl =\n",
              "          document.querySelector('#df-881d43ec-0a8f-493f-a4ff-1459c89ee722 button.colab-df-convert');\n",
              "        buttonEl.style.display =\n",
              "          google.colab.kernel.accessAllowed ? 'block' : 'none';\n",
              "\n",
              "        async function convertToInteractive(key) {\n",
              "          const element = document.querySelector('#df-881d43ec-0a8f-493f-a4ff-1459c89ee722');\n",
              "          const dataTable =\n",
              "            await google.colab.kernel.invokeFunction('convertToInteractive',\n",
              "                                                     [key], {});\n",
              "          if (!dataTable) return;\n",
              "\n",
              "          const docLinkHtml = 'Like what you see? Visit the ' +\n",
              "            '<a target=\"_blank\" href=https://colab.research.google.com/notebooks/data_table.ipynb>data table notebook</a>'\n",
              "            + ' to learn more about interactive tables.';\n",
              "          element.innerHTML = '';\n",
              "          dataTable['output_type'] = 'display_data';\n",
              "          await google.colab.output.renderOutput(dataTable, element);\n",
              "          const docLink = document.createElement('div');\n",
              "          docLink.innerHTML = docLinkHtml;\n",
              "          element.appendChild(docLink);\n",
              "        }\n",
              "      </script>\n",
              "    </div>\n",
              "  </div>\n",
              "  "
            ]
          },
          "metadata": {},
          "execution_count": 283
        }
      ]
    },
    {
      "cell_type": "code",
      "source": [
        "# extract only the text and airline_sentiment columns\n",
        "df = raw_df[['airline_sentiment', 'text']]"
      ],
      "metadata": {
        "id": "XTIQSKpoFiNQ"
      },
      "execution_count": null,
      "outputs": []
    },
    {
      "cell_type": "code",
      "source": [
        "from datetime import datetime\n",
        "\n",
        "raw_df['tweet_created'] = raw_df['tweet_created'].str.replace(' -0800', '')\n",
        "raw_df['tweet_created'] = pd.to_datetime(raw_df['tweet_created'], format=\"%Y-%m-%d %H:%M:%S\") "
      ],
      "metadata": {
        "id": "WRvc-Bm30b_Q"
      },
      "execution_count": null,
      "outputs": []
    },
    {
      "cell_type": "code",
      "source": [
        "raw_df['tweet_date'] = raw_df['tweet_created'].dt.date\n",
        "\n",
        "raw_df['tweet_hour'] = raw_df['tweet_created'].dt.hour"
      ],
      "metadata": {
        "id": "PXK6-x4439F4"
      },
      "execution_count": null,
      "outputs": []
    },
    {
      "cell_type": "code",
      "source": [
        "## EDA\n",
        "\n",
        "raw_df['tweet_hour'].unique()"
      ],
      "metadata": {
        "colab": {
          "base_uri": "https://localhost:8080/"
        },
        "id": "muJ2Eod22hbO",
        "outputId": "d8b25f83-0628-41d2-d0cc-9f99bd71b731"
      },
      "execution_count": null,
      "outputs": [
        {
          "output_type": "execute_result",
          "data": {
            "text/plain": [
              "array([11, 10,  9,  8,  7,  5, 23, 22, 21, 20, 18, 17, 16, 15, 14, 13, 12,\n",
              "        6,  3,  0,  4,  2,  1, 19])"
            ]
          },
          "metadata": {},
          "execution_count": 287
        }
      ]
    },
    {
      "cell_type": "code",
      "source": [
        "#raw_df[['tweet_id', 'tweet_hour']].groupby(raw_df['tweet_hour']).count()\n",
        "#pd.crosstab(raw_df['airline_sentiment'], raw_df['tweet_hour']).transpose()"
      ],
      "metadata": {
        "id": "awHmWCA11Sys"
      },
      "execution_count": null,
      "outputs": []
    },
    {
      "cell_type": "code",
      "source": [
        "# recode airline_sentiment column\n",
        "bins = {'negative': -1,\n",
        "        'neutral': 0,\n",
        "        'positive': 1}\n",
        "\n",
        "df['airline_sentiment'].replace(bins, inplace=True)"
      ],
      "metadata": {
        "colab": {
          "base_uri": "https://localhost:8080/"
        },
        "id": "_oyvxjFRF57T",
        "outputId": "a6b8ac45-2c9c-4eee-bf87-e9cc3c5e7215"
      },
      "execution_count": null,
      "outputs": [
        {
          "output_type": "stream",
          "name": "stderr",
          "text": [
            "/usr/local/lib/python3.7/dist-packages/pandas/core/generic.py:6619: SettingWithCopyWarning: \n",
            "A value is trying to be set on a copy of a slice from a DataFrame\n",
            "\n",
            "See the caveats in the documentation: https://pandas.pydata.org/pandas-docs/stable/user_guide/indexing.html#returning-a-view-versus-a-copy\n",
            "  return self._update_inplace(result)\n"
          ]
        }
      ]
    },
    {
      "cell_type": "code",
      "source": [
        "# Clean text column\n",
        "\n",
        "df['text_lower'] = df['text'].str.lower() #set to lowercase\n",
        "df['cleaned_text'] = df['text_lower'].replace(r'(\\s)?@\\w+', r'\\1' ,regex=True) #removes accounts mentioned\n",
        "df['cleaned_text'] = df['cleaned_text'].replace(r'(\\s)?#\\w+', r'\\1' ,regex=True) #removes hashtags\n",
        "df['cleaned_text'] = df['cleaned_text'].replace(r'http\\S+', '' ,regex=True) #removes urls\n",
        "\n",
        "df['cleaned_text'] = df['cleaned_text'].replace(r'[^a-zA-Z0-9 ]', '', regex=True) #removes other characters except for those in the list\n",
        "df['cleaned_text'] = df['cleaned_text'].str.strip()"
      ],
      "metadata": {
        "id": "B6EihhAdGR96"
      },
      "execution_count": null,
      "outputs": []
    },
    {
      "cell_type": "code",
      "source": [
        "import nltk\n",
        "from nltk.corpus import stopwords\n",
        "from nltk.tokenize import word_tokenize"
      ],
      "metadata": {
        "id": "AEzClNRWiWeg"
      },
      "execution_count": null,
      "outputs": []
    },
    {
      "cell_type": "code",
      "source": [
        "nltk.download('punkt')\n",
        "nltk.download('averaged_perceptron_tagger')"
      ],
      "metadata": {
        "colab": {
          "base_uri": "https://localhost:8080/"
        },
        "id": "YFh4XpMP7mn2",
        "outputId": "a716fab8-c055-4935-a01c-9434af530112"
      },
      "execution_count": null,
      "outputs": [
        {
          "output_type": "stream",
          "name": "stderr",
          "text": [
            "[nltk_data] Downloading package punkt to /root/nltk_data...\n",
            "[nltk_data]   Package punkt is already up-to-date!\n",
            "[nltk_data] Downloading package averaged_perceptron_tagger to\n",
            "[nltk_data]     /root/nltk_data...\n",
            "[nltk_data]   Package averaged_perceptron_tagger is already up-to-\n",
            "[nltk_data]       date!\n"
          ]
        },
        {
          "output_type": "execute_result",
          "data": {
            "text/plain": [
              "True"
            ]
          },
          "metadata": {},
          "execution_count": 292
        }
      ]
    },
    {
      "cell_type": "code",
      "source": [
        "# POS tagging\n",
        "\n",
        "def tag_pos(x):\n",
        "  tokens = word_tokenize(x)\n",
        "  pos = nltk.pos_tag(tokens)\n",
        "\n",
        "  return pos\n",
        "\n",
        "df['POS_tagging'] = df['cleaned_text'].apply(lambda x: tag_pos(x))"
      ],
      "metadata": {
        "colab": {
          "base_uri": "https://localhost:8080/"
        },
        "id": "EHakkI0hRWFr",
        "outputId": "661e0593-56f4-4565-f5f0-e42af6b88fde"
      },
      "execution_count": null,
      "outputs": [
        {
          "output_type": "stream",
          "name": "stderr",
          "text": [
            "/usr/local/lib/python3.7/dist-packages/ipykernel_launcher.py:9: SettingWithCopyWarning: \n",
            "A value is trying to be set on a copy of a slice from a DataFrame.\n",
            "Try using .loc[row_indexer,col_indexer] = value instead\n",
            "\n",
            "See the caveats in the documentation: https://pandas.pydata.org/pandas-docs/stable/user_guide/indexing.html#returning-a-view-versus-a-copy\n",
            "  if __name__ == '__main__':\n"
          ]
        }
      ]
    },
    {
      "cell_type": "code",
      "source": [
        "def remove_stopwords(text):\n",
        "  word_list = text.split()\n",
        "  new_text = ' '.join([word for word in word_list if word not in stopwords.words('english')])\n",
        "\n",
        "  return new_text"
      ],
      "metadata": {
        "id": "0kGEqfU6ik49"
      },
      "execution_count": null,
      "outputs": []
    },
    {
      "cell_type": "code",
      "source": [
        "nltk.download('stopwords')"
      ],
      "metadata": {
        "colab": {
          "base_uri": "https://localhost:8080/"
        },
        "id": "zISg61vF8D6a",
        "outputId": "2906641f-3496-4f55-e50f-d3917b233f78"
      },
      "execution_count": null,
      "outputs": [
        {
          "output_type": "stream",
          "name": "stderr",
          "text": [
            "[nltk_data] Downloading package stopwords to /root/nltk_data...\n",
            "[nltk_data]   Package stopwords is already up-to-date!\n"
          ]
        },
        {
          "output_type": "execute_result",
          "data": {
            "text/plain": [
              "True"
            ]
          },
          "metadata": {},
          "execution_count": 295
        }
      ]
    },
    {
      "cell_type": "code",
      "source": [
        "df['processed_text'] = df['cleaned_text'].apply(remove_stopwords)"
      ],
      "metadata": {
        "colab": {
          "base_uri": "https://localhost:8080/"
        },
        "id": "y1vP_S5uixlv",
        "outputId": "4f1df16b-d29a-4565-ac3b-0b76929e029e"
      },
      "execution_count": null,
      "outputs": [
        {
          "output_type": "stream",
          "name": "stderr",
          "text": [
            "/usr/local/lib/python3.7/dist-packages/ipykernel_launcher.py:1: SettingWithCopyWarning: \n",
            "A value is trying to be set on a copy of a slice from a DataFrame.\n",
            "Try using .loc[row_indexer,col_indexer] = value instead\n",
            "\n",
            "See the caveats in the documentation: https://pandas.pydata.org/pandas-docs/stable/user_guide/indexing.html#returning-a-view-versus-a-copy\n",
            "  \"\"\"Entry point for launching an IPython kernel.\n"
          ]
        }
      ]
    },
    {
      "cell_type": "code",
      "source": [
        "df['tokens'] = df['processed_text'].apply(word_tokenize)"
      ],
      "metadata": {
        "colab": {
          "base_uri": "https://localhost:8080/"
        },
        "id": "gEncIQRhi7vQ",
        "outputId": "903f26d7-fb7c-405d-e8d4-6cde87f27041"
      },
      "execution_count": null,
      "outputs": [
        {
          "output_type": "stream",
          "name": "stderr",
          "text": [
            "/usr/local/lib/python3.7/dist-packages/ipykernel_launcher.py:1: SettingWithCopyWarning: \n",
            "A value is trying to be set on a copy of a slice from a DataFrame.\n",
            "Try using .loc[row_indexer,col_indexer] = value instead\n",
            "\n",
            "See the caveats in the documentation: https://pandas.pydata.org/pandas-docs/stable/user_guide/indexing.html#returning-a-view-versus-a-copy\n",
            "  \"\"\"Entry point for launching an IPython kernel.\n"
          ]
        }
      ]
    },
    {
      "cell_type": "code",
      "source": [
        "## Lemmatization\n",
        "\n",
        "from nltk.stem import WordNetLemmatizer\n",
        "def lemmatize(x):\n",
        "  new_list = []\n",
        "  for i in range(len(x)):\n",
        "    new_list.append(WordNetLemmatizer().lemmatize(x[i]))\n",
        "\n",
        "  return new_list"
      ],
      "metadata": {
        "id": "3SSp_drTn_sc"
      },
      "execution_count": null,
      "outputs": []
    },
    {
      "cell_type": "code",
      "source": [
        "nltk.download('wordnet')\n",
        "nltk.download('omw-1.4')"
      ],
      "metadata": {
        "colab": {
          "base_uri": "https://localhost:8080/"
        },
        "id": "xDXof6i08aXh",
        "outputId": "0a1cd46d-97f0-4031-8fe4-062aa47c1269"
      },
      "execution_count": null,
      "outputs": [
        {
          "output_type": "stream",
          "name": "stderr",
          "text": [
            "[nltk_data] Downloading package wordnet to /root/nltk_data...\n",
            "[nltk_data]   Package wordnet is already up-to-date!\n",
            "[nltk_data] Downloading package omw-1.4 to /root/nltk_data...\n",
            "[nltk_data]   Package omw-1.4 is already up-to-date!\n"
          ]
        },
        {
          "output_type": "execute_result",
          "data": {
            "text/plain": [
              "True"
            ]
          },
          "metadata": {},
          "execution_count": 299
        }
      ]
    },
    {
      "cell_type": "code",
      "source": [
        "df['lemmatized_tokens'] = df['tokens'].apply(lambda x: lemmatize(x))"
      ],
      "metadata": {
        "colab": {
          "base_uri": "https://localhost:8080/"
        },
        "id": "hdDXfoBzia06",
        "outputId": "7d58cdf9-8661-41f9-b7b5-01cdbe4e3c48"
      },
      "execution_count": null,
      "outputs": [
        {
          "output_type": "stream",
          "name": "stderr",
          "text": [
            "/usr/local/lib/python3.7/dist-packages/ipykernel_launcher.py:1: SettingWithCopyWarning: \n",
            "A value is trying to be set on a copy of a slice from a DataFrame.\n",
            "Try using .loc[row_indexer,col_indexer] = value instead\n",
            "\n",
            "See the caveats in the documentation: https://pandas.pydata.org/pandas-docs/stable/user_guide/indexing.html#returning-a-view-versus-a-copy\n",
            "  \"\"\"Entry point for launching an IPython kernel.\n"
          ]
        }
      ]
    },
    {
      "cell_type": "code",
      "source": [
        "df['lemma'] = df['lemmatized_tokens'].apply(lambda x: ' '.join(x))"
      ],
      "metadata": {
        "colab": {
          "base_uri": "https://localhost:8080/"
        },
        "id": "2YuN61Knr0xP",
        "outputId": "4cc38628-7a9a-48e4-fcff-bfcb7d394901"
      },
      "execution_count": null,
      "outputs": [
        {
          "output_type": "stream",
          "name": "stderr",
          "text": [
            "/usr/local/lib/python3.7/dist-packages/ipykernel_launcher.py:1: SettingWithCopyWarning: \n",
            "A value is trying to be set on a copy of a slice from a DataFrame.\n",
            "Try using .loc[row_indexer,col_indexer] = value instead\n",
            "\n",
            "See the caveats in the documentation: https://pandas.pydata.org/pandas-docs/stable/user_guide/indexing.html#returning-a-view-versus-a-copy\n",
            "  \"\"\"Entry point for launching an IPython kernel.\n"
          ]
        }
      ]
    },
    {
      "cell_type": "code",
      "source": [
        "df = df[['airline_sentiment', 'lemma', 'POS_tagging']]"
      ],
      "metadata": {
        "id": "UXeQ6POkr6jz"
      },
      "execution_count": null,
      "outputs": []
    },
    {
      "cell_type": "code",
      "source": [
        "#pip install vaderSentiment"
      ],
      "metadata": {
        "id": "sKZsqzBS86RM"
      },
      "execution_count": null,
      "outputs": []
    },
    {
      "cell_type": "code",
      "source": [
        "### APPROACH A: RULE-BASED SENTIMENTS ANALYSIS\n",
        "\n",
        "## TextBlob\n",
        "\n",
        "from textblob import TextBlob\n",
        "\n",
        "# function to calculate polarity - measure of how positive/negative a review is\n",
        "def tbPolarity(x):\n",
        "  polarity = TextBlob(x).sentiment.polarity\n",
        "\n",
        "  return polarity\n",
        "\n",
        "def tbSentiment(x):\n",
        "\n",
        "  if x < 0:\n",
        "    return -1\n",
        "  elif x == 0:\n",
        "    return 0\n",
        "  else:\n",
        "    return 1\n",
        "\n",
        "df['tb_polarity'] = df['lemma'].apply(lambda x: tbPolarity(x))\n",
        "df['tb_sentiment'] = df['tb_polarity'].apply(lambda x: tbSentiment(x))\n",
        "\n",
        "##  VADER\n",
        "import vaderSentiment\n",
        "from vaderSentiment.vaderSentiment import SentimentIntensityAnalyzer\n",
        "\n",
        "# function to calculate vader sentiment\n",
        "def vaderCompound(x):\n",
        "    vs = SentimentIntensityAnalyzer().polarity_scores(x)\n",
        "\n",
        "    return vs['compound']\n",
        "\n",
        "def vaderSentiment(x):\n",
        "  if x <= -0.5:\n",
        "    return -1\n",
        "  elif x >= 0.5 :\n",
        "    return 1\n",
        "  else:\n",
        "    return 0\n",
        "\n",
        "df['vader_compound'] = df['lemma'].apply(lambda x: vaderCompound(x))\n",
        "df['vader_sentiment'] = df['vader_compound'].apply(lambda x: vaderSentiment(x))"
      ],
      "metadata": {
        "id": "bWpk2hVcS_6E"
      },
      "execution_count": null,
      "outputs": []
    },
    {
      "cell_type": "code",
      "source": [
        "df.head()"
      ],
      "metadata": {
        "colab": {
          "base_uri": "https://localhost:8080/",
          "height": 285
        },
        "id": "AcWBmxyiUgpu",
        "outputId": "1ec581a9-530a-462e-badf-d37a809a37c8"
      },
      "execution_count": null,
      "outputs": [
        {
          "output_type": "execute_result",
          "data": {
            "text/plain": [
              "   airline_sentiment                                              lemma  \\\n",
              "0                  0                                               said   \n",
              "1                  1       plus youve added commercial experience tacky   \n",
              "2                  0       didnt today must mean need take another trip   \n",
              "3                 -1  really aggressive blast obnoxious entertainmen...   \n",
              "4                 -1                               really big bad thing   \n",
              "\n",
              "                                         POS_tagging  tb_polarity  \\\n",
              "0                          [(what, WP), (said, VBD)]      0.00000   \n",
              "1  [(plus, CC), (youve, NN), (added, JJ), (commer...      0.00000   \n",
              "2  [(i, NN), (didnt, VBP), (today, NN), (must, MD...     -0.31250   \n",
              "3  [(its, PRP$), (really, RB), (aggressive, JJ), ...      0.00625   \n",
              "4  [(and, CC), (its, PRP$), (a, DT), (really, RB)...     -0.35000   \n",
              "\n",
              "   tb_sentiment  vader_compound  vader_sentiment  \n",
              "0             0          0.0000                0  \n",
              "1             0          0.0000                0  \n",
              "2            -1          0.0000                0  \n",
              "3             1         -0.3306                0  \n",
              "4            -1         -0.5829               -1  "
            ],
            "text/html": [
              "\n",
              "  <div id=\"df-63fe08ee-f638-4ed1-9004-d16eaaa87273\">\n",
              "    <div class=\"colab-df-container\">\n",
              "      <div>\n",
              "<style scoped>\n",
              "    .dataframe tbody tr th:only-of-type {\n",
              "        vertical-align: middle;\n",
              "    }\n",
              "\n",
              "    .dataframe tbody tr th {\n",
              "        vertical-align: top;\n",
              "    }\n",
              "\n",
              "    .dataframe thead th {\n",
              "        text-align: right;\n",
              "    }\n",
              "</style>\n",
              "<table border=\"1\" class=\"dataframe\">\n",
              "  <thead>\n",
              "    <tr style=\"text-align: right;\">\n",
              "      <th></th>\n",
              "      <th>airline_sentiment</th>\n",
              "      <th>lemma</th>\n",
              "      <th>POS_tagging</th>\n",
              "      <th>tb_polarity</th>\n",
              "      <th>tb_sentiment</th>\n",
              "      <th>vader_compound</th>\n",
              "      <th>vader_sentiment</th>\n",
              "    </tr>\n",
              "  </thead>\n",
              "  <tbody>\n",
              "    <tr>\n",
              "      <th>0</th>\n",
              "      <td>0</td>\n",
              "      <td>said</td>\n",
              "      <td>[(what, WP), (said, VBD)]</td>\n",
              "      <td>0.00000</td>\n",
              "      <td>0</td>\n",
              "      <td>0.0000</td>\n",
              "      <td>0</td>\n",
              "    </tr>\n",
              "    <tr>\n",
              "      <th>1</th>\n",
              "      <td>1</td>\n",
              "      <td>plus youve added commercial experience tacky</td>\n",
              "      <td>[(plus, CC), (youve, NN), (added, JJ), (commer...</td>\n",
              "      <td>0.00000</td>\n",
              "      <td>0</td>\n",
              "      <td>0.0000</td>\n",
              "      <td>0</td>\n",
              "    </tr>\n",
              "    <tr>\n",
              "      <th>2</th>\n",
              "      <td>0</td>\n",
              "      <td>didnt today must mean need take another trip</td>\n",
              "      <td>[(i, NN), (didnt, VBP), (today, NN), (must, MD...</td>\n",
              "      <td>-0.31250</td>\n",
              "      <td>-1</td>\n",
              "      <td>0.0000</td>\n",
              "      <td>0</td>\n",
              "    </tr>\n",
              "    <tr>\n",
              "      <th>3</th>\n",
              "      <td>-1</td>\n",
              "      <td>really aggressive blast obnoxious entertainmen...</td>\n",
              "      <td>[(its, PRP$), (really, RB), (aggressive, JJ), ...</td>\n",
              "      <td>0.00625</td>\n",
              "      <td>1</td>\n",
              "      <td>-0.3306</td>\n",
              "      <td>0</td>\n",
              "    </tr>\n",
              "    <tr>\n",
              "      <th>4</th>\n",
              "      <td>-1</td>\n",
              "      <td>really big bad thing</td>\n",
              "      <td>[(and, CC), (its, PRP$), (a, DT), (really, RB)...</td>\n",
              "      <td>-0.35000</td>\n",
              "      <td>-1</td>\n",
              "      <td>-0.5829</td>\n",
              "      <td>-1</td>\n",
              "    </tr>\n",
              "  </tbody>\n",
              "</table>\n",
              "</div>\n",
              "      <button class=\"colab-df-convert\" onclick=\"convertToInteractive('df-63fe08ee-f638-4ed1-9004-d16eaaa87273')\"\n",
              "              title=\"Convert this dataframe to an interactive table.\"\n",
              "              style=\"display:none;\">\n",
              "        \n",
              "  <svg xmlns=\"http://www.w3.org/2000/svg\" height=\"24px\"viewBox=\"0 0 24 24\"\n",
              "       width=\"24px\">\n",
              "    <path d=\"M0 0h24v24H0V0z\" fill=\"none\"/>\n",
              "    <path d=\"M18.56 5.44l.94 2.06.94-2.06 2.06-.94-2.06-.94-.94-2.06-.94 2.06-2.06.94zm-11 1L8.5 8.5l.94-2.06 2.06-.94-2.06-.94L8.5 2.5l-.94 2.06-2.06.94zm10 10l.94 2.06.94-2.06 2.06-.94-2.06-.94-.94-2.06-.94 2.06-2.06.94z\"/><path d=\"M17.41 7.96l-1.37-1.37c-.4-.4-.92-.59-1.43-.59-.52 0-1.04.2-1.43.59L10.3 9.45l-7.72 7.72c-.78.78-.78 2.05 0 2.83L4 21.41c.39.39.9.59 1.41.59.51 0 1.02-.2 1.41-.59l7.78-7.78 2.81-2.81c.8-.78.8-2.07 0-2.86zM5.41 20L4 18.59l7.72-7.72 1.47 1.35L5.41 20z\"/>\n",
              "  </svg>\n",
              "      </button>\n",
              "      \n",
              "  <style>\n",
              "    .colab-df-container {\n",
              "      display:flex;\n",
              "      flex-wrap:wrap;\n",
              "      gap: 12px;\n",
              "    }\n",
              "\n",
              "    .colab-df-convert {\n",
              "      background-color: #E8F0FE;\n",
              "      border: none;\n",
              "      border-radius: 50%;\n",
              "      cursor: pointer;\n",
              "      display: none;\n",
              "      fill: #1967D2;\n",
              "      height: 32px;\n",
              "      padding: 0 0 0 0;\n",
              "      width: 32px;\n",
              "    }\n",
              "\n",
              "    .colab-df-convert:hover {\n",
              "      background-color: #E2EBFA;\n",
              "      box-shadow: 0px 1px 2px rgba(60, 64, 67, 0.3), 0px 1px 3px 1px rgba(60, 64, 67, 0.15);\n",
              "      fill: #174EA6;\n",
              "    }\n",
              "\n",
              "    [theme=dark] .colab-df-convert {\n",
              "      background-color: #3B4455;\n",
              "      fill: #D2E3FC;\n",
              "    }\n",
              "\n",
              "    [theme=dark] .colab-df-convert:hover {\n",
              "      background-color: #434B5C;\n",
              "      box-shadow: 0px 1px 3px 1px rgba(0, 0, 0, 0.15);\n",
              "      filter: drop-shadow(0px 1px 2px rgba(0, 0, 0, 0.3));\n",
              "      fill: #FFFFFF;\n",
              "    }\n",
              "  </style>\n",
              "\n",
              "      <script>\n",
              "        const buttonEl =\n",
              "          document.querySelector('#df-63fe08ee-f638-4ed1-9004-d16eaaa87273 button.colab-df-convert');\n",
              "        buttonEl.style.display =\n",
              "          google.colab.kernel.accessAllowed ? 'block' : 'none';\n",
              "\n",
              "        async function convertToInteractive(key) {\n",
              "          const element = document.querySelector('#df-63fe08ee-f638-4ed1-9004-d16eaaa87273');\n",
              "          const dataTable =\n",
              "            await google.colab.kernel.invokeFunction('convertToInteractive',\n",
              "                                                     [key], {});\n",
              "          if (!dataTable) return;\n",
              "\n",
              "          const docLinkHtml = 'Like what you see? Visit the ' +\n",
              "            '<a target=\"_blank\" href=https://colab.research.google.com/notebooks/data_table.ipynb>data table notebook</a>'\n",
              "            + ' to learn more about interactive tables.';\n",
              "          element.innerHTML = '';\n",
              "          dataTable['output_type'] = 'display_data';\n",
              "          await google.colab.output.renderOutput(dataTable, element);\n",
              "          const docLink = document.createElement('div');\n",
              "          docLink.innerHTML = docLinkHtml;\n",
              "          element.appendChild(docLink);\n",
              "        }\n",
              "      </script>\n",
              "    </div>\n",
              "  </div>\n",
              "  "
            ]
          },
          "metadata": {},
          "execution_count": 305
        }
      ]
    },
    {
      "cell_type": "code",
      "source": [
        "from sklearn.metrics import classification_report, accuracy_score, f1_score, precision_score, recall_score, confusion_matrix\n",
        "import seaborn as sns\n",
        "import matplotlib.pyplot as plt\n",
        "print(classification_report(df['airline_sentiment'],df['tb_sentiment']))"
      ],
      "metadata": {
        "colab": {
          "base_uri": "https://localhost:8080/"
        },
        "id": "xuIhaa4_TSXE",
        "outputId": "867d2566-cc20-4d55-e422-d90f96a8e78f"
      },
      "execution_count": null,
      "outputs": [
        {
          "output_type": "stream",
          "name": "stdout",
          "text": [
            "              precision    recall  f1-score   support\n",
            "\n",
            "          -1       0.87      0.31      0.46      9178\n",
            "           0       0.31      0.60      0.40      3099\n",
            "           1       0.32      0.73      0.45      2363\n",
            "\n",
            "    accuracy                           0.44     14640\n",
            "   macro avg       0.50      0.55      0.44     14640\n",
            "weighted avg       0.66      0.44      0.45     14640\n",
            "\n"
          ]
        }
      ]
    },
    {
      "cell_type": "markdown",
      "source": [
        "Overall: Poor performance\n",
        "\n",
        "The model was able to correctly classify 44% of the entire data. \n",
        "\n",
        "Precision: Low precision for neutral and positive tweets, but precise for negative ones.\n",
        "\n",
        "*   Of those tweets classified as negative, 87% were correct.\n",
        "*   Of those classified as neutral, 31% were correct.\n",
        "*   Of those classified as positive, 32% were correct.\n",
        "\n",
        "Recall: The model was able to identify 31%, 60%, and 73% of the negative, positive, and neutral tweets respectively.\n",
        "\n",
        "Note: Weighted Avg. since class is imbalanced.\n",
        "\n",
        "The weighted precision, recall, and f1 scores are 66%, 44%, and 45%, respectively. Recall and F1 scores are less than 50%, indicating poor performance.\n"
      ],
      "metadata": {
        "id": "JeLIzKOOXzlS"
      }
    },
    {
      "cell_type": "code",
      "source": [
        "print(classification_report(df['airline_sentiment'],df['vader_sentiment']))"
      ],
      "metadata": {
        "colab": {
          "base_uri": "https://localhost:8080/"
        },
        "id": "P4f__iBfWDRu",
        "outputId": "99345e54-7fe5-4334-ca5a-0925b9cd3242"
      },
      "execution_count": null,
      "outputs": [
        {
          "output_type": "stream",
          "name": "stdout",
          "text": [
            "              precision    recall  f1-score   support\n",
            "\n",
            "          -1       0.95      0.15      0.27      9178\n",
            "           0       0.24      0.83      0.38      3099\n",
            "           1       0.47      0.53      0.50      2363\n",
            "\n",
            "    accuracy                           0.36     14640\n",
            "   macro avg       0.55      0.50      0.38     14640\n",
            "weighted avg       0.72      0.36      0.33     14640\n",
            "\n"
          ]
        }
      ]
    },
    {
      "cell_type": "markdown",
      "source": [
        "Overall: Poor performance\n",
        "\n",
        "The model was able to correctly classify 36% of the entire data, lower than the textblob.\n",
        "\n",
        "Precision: Low precision for neutral and positive tweets, but precise for negative ones.\n",
        "\n",
        "Of those tweets classified as negative, 95% were correct.\n",
        "Of those classified as neutral, 24% were correct.\n",
        "Of those classified as positive, 47% were correct.\n",
        "\n",
        "Recall: The model was able to identify 15%, 83%, and 53% of the negative, positive, and neutral tweets respectively.\n",
        "\n",
        "Note: Weighted Avg. since class is imbalanced.\n",
        "\n",
        "The weighted precision, recall, and f1 scores are 72%, 36%, and 33%, respectively. Recall and F1 scores are less than 50%, indicating poor performance."
      ],
      "metadata": {
        "id": "gUvL7m2yX5gM"
      }
    },
    {
      "cell_type": "code",
      "source": [
        "df.head()"
      ],
      "metadata": {
        "colab": {
          "base_uri": "https://localhost:8080/",
          "height": 285
        },
        "id": "dC6yfA1kPebQ",
        "outputId": "bd4c5001-ad7a-4730-d319-2d37c4da52fd"
      },
      "execution_count": null,
      "outputs": [
        {
          "output_type": "execute_result",
          "data": {
            "text/plain": [
              "   airline_sentiment                                              lemma  \\\n",
              "0                  0                                               said   \n",
              "1                  1       plus youve added commercial experience tacky   \n",
              "2                  0       didnt today must mean need take another trip   \n",
              "3                 -1  really aggressive blast obnoxious entertainmen...   \n",
              "4                 -1                               really big bad thing   \n",
              "\n",
              "                                         POS_tagging  tb_polarity  \\\n",
              "0                          [(what, WP), (said, VBD)]      0.00000   \n",
              "1  [(plus, CC), (youve, NN), (added, JJ), (commer...      0.00000   \n",
              "2  [(i, NN), (didnt, VBP), (today, NN), (must, MD...     -0.31250   \n",
              "3  [(its, PRP$), (really, RB), (aggressive, JJ), ...      0.00625   \n",
              "4  [(and, CC), (its, PRP$), (a, DT), (really, RB)...     -0.35000   \n",
              "\n",
              "   tb_sentiment  vader_compound  vader_sentiment  \n",
              "0             0          0.0000                0  \n",
              "1             0          0.0000                0  \n",
              "2            -1          0.0000                0  \n",
              "3             1         -0.3306                0  \n",
              "4            -1         -0.5829               -1  "
            ],
            "text/html": [
              "\n",
              "  <div id=\"df-94b9d710-60ce-4ac2-9ced-bd0df0b8e965\">\n",
              "    <div class=\"colab-df-container\">\n",
              "      <div>\n",
              "<style scoped>\n",
              "    .dataframe tbody tr th:only-of-type {\n",
              "        vertical-align: middle;\n",
              "    }\n",
              "\n",
              "    .dataframe tbody tr th {\n",
              "        vertical-align: top;\n",
              "    }\n",
              "\n",
              "    .dataframe thead th {\n",
              "        text-align: right;\n",
              "    }\n",
              "</style>\n",
              "<table border=\"1\" class=\"dataframe\">\n",
              "  <thead>\n",
              "    <tr style=\"text-align: right;\">\n",
              "      <th></th>\n",
              "      <th>airline_sentiment</th>\n",
              "      <th>lemma</th>\n",
              "      <th>POS_tagging</th>\n",
              "      <th>tb_polarity</th>\n",
              "      <th>tb_sentiment</th>\n",
              "      <th>vader_compound</th>\n",
              "      <th>vader_sentiment</th>\n",
              "    </tr>\n",
              "  </thead>\n",
              "  <tbody>\n",
              "    <tr>\n",
              "      <th>0</th>\n",
              "      <td>0</td>\n",
              "      <td>said</td>\n",
              "      <td>[(what, WP), (said, VBD)]</td>\n",
              "      <td>0.00000</td>\n",
              "      <td>0</td>\n",
              "      <td>0.0000</td>\n",
              "      <td>0</td>\n",
              "    </tr>\n",
              "    <tr>\n",
              "      <th>1</th>\n",
              "      <td>1</td>\n",
              "      <td>plus youve added commercial experience tacky</td>\n",
              "      <td>[(plus, CC), (youve, NN), (added, JJ), (commer...</td>\n",
              "      <td>0.00000</td>\n",
              "      <td>0</td>\n",
              "      <td>0.0000</td>\n",
              "      <td>0</td>\n",
              "    </tr>\n",
              "    <tr>\n",
              "      <th>2</th>\n",
              "      <td>0</td>\n",
              "      <td>didnt today must mean need take another trip</td>\n",
              "      <td>[(i, NN), (didnt, VBP), (today, NN), (must, MD...</td>\n",
              "      <td>-0.31250</td>\n",
              "      <td>-1</td>\n",
              "      <td>0.0000</td>\n",
              "      <td>0</td>\n",
              "    </tr>\n",
              "    <tr>\n",
              "      <th>3</th>\n",
              "      <td>-1</td>\n",
              "      <td>really aggressive blast obnoxious entertainmen...</td>\n",
              "      <td>[(its, PRP$), (really, RB), (aggressive, JJ), ...</td>\n",
              "      <td>0.00625</td>\n",
              "      <td>1</td>\n",
              "      <td>-0.3306</td>\n",
              "      <td>0</td>\n",
              "    </tr>\n",
              "    <tr>\n",
              "      <th>4</th>\n",
              "      <td>-1</td>\n",
              "      <td>really big bad thing</td>\n",
              "      <td>[(and, CC), (its, PRP$), (a, DT), (really, RB)...</td>\n",
              "      <td>-0.35000</td>\n",
              "      <td>-1</td>\n",
              "      <td>-0.5829</td>\n",
              "      <td>-1</td>\n",
              "    </tr>\n",
              "  </tbody>\n",
              "</table>\n",
              "</div>\n",
              "      <button class=\"colab-df-convert\" onclick=\"convertToInteractive('df-94b9d710-60ce-4ac2-9ced-bd0df0b8e965')\"\n",
              "              title=\"Convert this dataframe to an interactive table.\"\n",
              "              style=\"display:none;\">\n",
              "        \n",
              "  <svg xmlns=\"http://www.w3.org/2000/svg\" height=\"24px\"viewBox=\"0 0 24 24\"\n",
              "       width=\"24px\">\n",
              "    <path d=\"M0 0h24v24H0V0z\" fill=\"none\"/>\n",
              "    <path d=\"M18.56 5.44l.94 2.06.94-2.06 2.06-.94-2.06-.94-.94-2.06-.94 2.06-2.06.94zm-11 1L8.5 8.5l.94-2.06 2.06-.94-2.06-.94L8.5 2.5l-.94 2.06-2.06.94zm10 10l.94 2.06.94-2.06 2.06-.94-2.06-.94-.94-2.06-.94 2.06-2.06.94z\"/><path d=\"M17.41 7.96l-1.37-1.37c-.4-.4-.92-.59-1.43-.59-.52 0-1.04.2-1.43.59L10.3 9.45l-7.72 7.72c-.78.78-.78 2.05 0 2.83L4 21.41c.39.39.9.59 1.41.59.51 0 1.02-.2 1.41-.59l7.78-7.78 2.81-2.81c.8-.78.8-2.07 0-2.86zM5.41 20L4 18.59l7.72-7.72 1.47 1.35L5.41 20z\"/>\n",
              "  </svg>\n",
              "      </button>\n",
              "      \n",
              "  <style>\n",
              "    .colab-df-container {\n",
              "      display:flex;\n",
              "      flex-wrap:wrap;\n",
              "      gap: 12px;\n",
              "    }\n",
              "\n",
              "    .colab-df-convert {\n",
              "      background-color: #E8F0FE;\n",
              "      border: none;\n",
              "      border-radius: 50%;\n",
              "      cursor: pointer;\n",
              "      display: none;\n",
              "      fill: #1967D2;\n",
              "      height: 32px;\n",
              "      padding: 0 0 0 0;\n",
              "      width: 32px;\n",
              "    }\n",
              "\n",
              "    .colab-df-convert:hover {\n",
              "      background-color: #E2EBFA;\n",
              "      box-shadow: 0px 1px 2px rgba(60, 64, 67, 0.3), 0px 1px 3px 1px rgba(60, 64, 67, 0.15);\n",
              "      fill: #174EA6;\n",
              "    }\n",
              "\n",
              "    [theme=dark] .colab-df-convert {\n",
              "      background-color: #3B4455;\n",
              "      fill: #D2E3FC;\n",
              "    }\n",
              "\n",
              "    [theme=dark] .colab-df-convert:hover {\n",
              "      background-color: #434B5C;\n",
              "      box-shadow: 0px 1px 3px 1px rgba(0, 0, 0, 0.15);\n",
              "      filter: drop-shadow(0px 1px 2px rgba(0, 0, 0, 0.3));\n",
              "      fill: #FFFFFF;\n",
              "    }\n",
              "  </style>\n",
              "\n",
              "      <script>\n",
              "        const buttonEl =\n",
              "          document.querySelector('#df-94b9d710-60ce-4ac2-9ced-bd0df0b8e965 button.colab-df-convert');\n",
              "        buttonEl.style.display =\n",
              "          google.colab.kernel.accessAllowed ? 'block' : 'none';\n",
              "\n",
              "        async function convertToInteractive(key) {\n",
              "          const element = document.querySelector('#df-94b9d710-60ce-4ac2-9ced-bd0df0b8e965');\n",
              "          const dataTable =\n",
              "            await google.colab.kernel.invokeFunction('convertToInteractive',\n",
              "                                                     [key], {});\n",
              "          if (!dataTable) return;\n",
              "\n",
              "          const docLinkHtml = 'Like what you see? Visit the ' +\n",
              "            '<a target=\"_blank\" href=https://colab.research.google.com/notebooks/data_table.ipynb>data table notebook</a>'\n",
              "            + ' to learn more about interactive tables.';\n",
              "          element.innerHTML = '';\n",
              "          dataTable['output_type'] = 'display_data';\n",
              "          await google.colab.output.renderOutput(dataTable, element);\n",
              "          const docLink = document.createElement('div');\n",
              "          docLink.innerHTML = docLinkHtml;\n",
              "          element.appendChild(docLink);\n",
              "        }\n",
              "      </script>\n",
              "    </div>\n",
              "  </div>\n",
              "  "
            ]
          },
          "metadata": {},
          "execution_count": 308
        }
      ]
    },
    {
      "cell_type": "code",
      "source": [
        "## APPROACH B: Try creating a classification model. :)\n",
        "# Create new features. \n",
        "\n",
        "df['text_length'] = df['POS_tagging'].apply(lambda x: len(x))\n",
        "df['tweet_hour'] = raw_df['tweet_hour']\n"
      ],
      "metadata": {
        "id": "alUhbE7p8Ktj"
      },
      "execution_count": null,
      "outputs": []
    },
    {
      "cell_type": "code",
      "source": [
        "df[['airline_sentiment', 'text_length']].groupby(['airline_sentiment']).mean()"
      ],
      "metadata": {
        "colab": {
          "base_uri": "https://localhost:8080/",
          "height": 175
        },
        "id": "AdscQieIuBw6",
        "outputId": "f8fb524b-b7cf-48b2-9841-82b88ba278ee"
      },
      "execution_count": null,
      "outputs": [
        {
          "output_type": "execute_result",
          "data": {
            "text/plain": [
              "                   text_length\n",
              "airline_sentiment             \n",
              "-1                   18.176836\n",
              " 0                   12.712165\n",
              " 1                   12.281422"
            ],
            "text/html": [
              "\n",
              "  <div id=\"df-a4d4f079-aa57-494a-99d9-ba1f2935e91d\">\n",
              "    <div class=\"colab-df-container\">\n",
              "      <div>\n",
              "<style scoped>\n",
              "    .dataframe tbody tr th:only-of-type {\n",
              "        vertical-align: middle;\n",
              "    }\n",
              "\n",
              "    .dataframe tbody tr th {\n",
              "        vertical-align: top;\n",
              "    }\n",
              "\n",
              "    .dataframe thead th {\n",
              "        text-align: right;\n",
              "    }\n",
              "</style>\n",
              "<table border=\"1\" class=\"dataframe\">\n",
              "  <thead>\n",
              "    <tr style=\"text-align: right;\">\n",
              "      <th></th>\n",
              "      <th>text_length</th>\n",
              "    </tr>\n",
              "    <tr>\n",
              "      <th>airline_sentiment</th>\n",
              "      <th></th>\n",
              "    </tr>\n",
              "  </thead>\n",
              "  <tbody>\n",
              "    <tr>\n",
              "      <th>-1</th>\n",
              "      <td>18.176836</td>\n",
              "    </tr>\n",
              "    <tr>\n",
              "      <th>0</th>\n",
              "      <td>12.712165</td>\n",
              "    </tr>\n",
              "    <tr>\n",
              "      <th>1</th>\n",
              "      <td>12.281422</td>\n",
              "    </tr>\n",
              "  </tbody>\n",
              "</table>\n",
              "</div>\n",
              "      <button class=\"colab-df-convert\" onclick=\"convertToInteractive('df-a4d4f079-aa57-494a-99d9-ba1f2935e91d')\"\n",
              "              title=\"Convert this dataframe to an interactive table.\"\n",
              "              style=\"display:none;\">\n",
              "        \n",
              "  <svg xmlns=\"http://www.w3.org/2000/svg\" height=\"24px\"viewBox=\"0 0 24 24\"\n",
              "       width=\"24px\">\n",
              "    <path d=\"M0 0h24v24H0V0z\" fill=\"none\"/>\n",
              "    <path d=\"M18.56 5.44l.94 2.06.94-2.06 2.06-.94-2.06-.94-.94-2.06-.94 2.06-2.06.94zm-11 1L8.5 8.5l.94-2.06 2.06-.94-2.06-.94L8.5 2.5l-.94 2.06-2.06.94zm10 10l.94 2.06.94-2.06 2.06-.94-2.06-.94-.94-2.06-.94 2.06-2.06.94z\"/><path d=\"M17.41 7.96l-1.37-1.37c-.4-.4-.92-.59-1.43-.59-.52 0-1.04.2-1.43.59L10.3 9.45l-7.72 7.72c-.78.78-.78 2.05 0 2.83L4 21.41c.39.39.9.59 1.41.59.51 0 1.02-.2 1.41-.59l7.78-7.78 2.81-2.81c.8-.78.8-2.07 0-2.86zM5.41 20L4 18.59l7.72-7.72 1.47 1.35L5.41 20z\"/>\n",
              "  </svg>\n",
              "      </button>\n",
              "      \n",
              "  <style>\n",
              "    .colab-df-container {\n",
              "      display:flex;\n",
              "      flex-wrap:wrap;\n",
              "      gap: 12px;\n",
              "    }\n",
              "\n",
              "    .colab-df-convert {\n",
              "      background-color: #E8F0FE;\n",
              "      border: none;\n",
              "      border-radius: 50%;\n",
              "      cursor: pointer;\n",
              "      display: none;\n",
              "      fill: #1967D2;\n",
              "      height: 32px;\n",
              "      padding: 0 0 0 0;\n",
              "      width: 32px;\n",
              "    }\n",
              "\n",
              "    .colab-df-convert:hover {\n",
              "      background-color: #E2EBFA;\n",
              "      box-shadow: 0px 1px 2px rgba(60, 64, 67, 0.3), 0px 1px 3px 1px rgba(60, 64, 67, 0.15);\n",
              "      fill: #174EA6;\n",
              "    }\n",
              "\n",
              "    [theme=dark] .colab-df-convert {\n",
              "      background-color: #3B4455;\n",
              "      fill: #D2E3FC;\n",
              "    }\n",
              "\n",
              "    [theme=dark] .colab-df-convert:hover {\n",
              "      background-color: #434B5C;\n",
              "      box-shadow: 0px 1px 3px 1px rgba(0, 0, 0, 0.15);\n",
              "      filter: drop-shadow(0px 1px 2px rgba(0, 0, 0, 0.3));\n",
              "      fill: #FFFFFF;\n",
              "    }\n",
              "  </style>\n",
              "\n",
              "      <script>\n",
              "        const buttonEl =\n",
              "          document.querySelector('#df-a4d4f079-aa57-494a-99d9-ba1f2935e91d button.colab-df-convert');\n",
              "        buttonEl.style.display =\n",
              "          google.colab.kernel.accessAllowed ? 'block' : 'none';\n",
              "\n",
              "        async function convertToInteractive(key) {\n",
              "          const element = document.querySelector('#df-a4d4f079-aa57-494a-99d9-ba1f2935e91d');\n",
              "          const dataTable =\n",
              "            await google.colab.kernel.invokeFunction('convertToInteractive',\n",
              "                                                     [key], {});\n",
              "          if (!dataTable) return;\n",
              "\n",
              "          const docLinkHtml = 'Like what you see? Visit the ' +\n",
              "            '<a target=\"_blank\" href=https://colab.research.google.com/notebooks/data_table.ipynb>data table notebook</a>'\n",
              "            + ' to learn more about interactive tables.';\n",
              "          element.innerHTML = '';\n",
              "          dataTable['output_type'] = 'display_data';\n",
              "          await google.colab.output.renderOutput(dataTable, element);\n",
              "          const docLink = document.createElement('div');\n",
              "          docLink.innerHTML = docLinkHtml;\n",
              "          element.appendChild(docLink);\n",
              "        }\n",
              "      </script>\n",
              "    </div>\n",
              "  </div>\n",
              "  "
            ]
          },
          "metadata": {},
          "execution_count": 310
        }
      ]
    },
    {
      "cell_type": "markdown",
      "source": [
        "Note: Negative tweets have an average of 18 words in terms of length. Neutral and Positive tweets are shorter by 5-6 words."
      ],
      "metadata": {
        "id": "XKqd6DHCOAWh"
      }
    },
    {
      "cell_type": "code",
      "source": [
        "from collections import Counter\n",
        "\n",
        "def pos_counter(x):\n",
        "  counts = Counter(tag for word,tag in x)\n",
        "  return counts"
      ],
      "metadata": {
        "id": "kDfSN-GByo5i"
      },
      "execution_count": null,
      "outputs": []
    },
    {
      "cell_type": "code",
      "source": [
        "df['POS_counts'] = df['POS_tagging'].apply(lambda x: pos_counter(x))"
      ],
      "metadata": {
        "id": "4aglmi3OzYLq"
      },
      "execution_count": null,
      "outputs": []
    },
    {
      "cell_type": "code",
      "source": [
        "df['POS_counts']"
      ],
      "metadata": {
        "colab": {
          "base_uri": "https://localhost:8080/"
        },
        "id": "C_L_hADVzgpF",
        "outputId": "3f56acd4-382f-47f8-a58f-2475662005e2"
      },
      "execution_count": null,
      "outputs": [
        {
          "output_type": "execute_result",
          "data": {
            "text/plain": [
              "0                                      {'WP': 1, 'VBD': 1}\n",
              "1        {'CC': 1, 'NN': 3, 'JJ': 1, 'NNS': 1, 'TO': 1,...\n",
              "2        {'NN': 3, 'VBP': 2, 'MD': 1, 'VB': 2, 'NNS': 1...\n",
              "3        {'PRP$': 2, 'RB': 1, 'JJ': 3, 'TO': 1, 'VB': 1...\n",
              "4        {'CC': 1, 'PRP$': 1, 'DT': 1, 'RB': 1, 'JJ': 2...\n",
              "                               ...                        \n",
              "14635    {'NN': 2, 'PRP': 2, 'VBD': 1, 'IN': 1, 'DT': 1...\n",
              "14636    {'VBG': 1, 'IN': 2, 'CD': 2, 'NNS': 4, 'JJ': 3...\n",
              "14637       {'NN': 1, 'VB': 1, 'JJ': 1, 'NNS': 1, 'TO': 1}\n",
              "14638    {'PRP': 2, 'VBP': 2, 'PRP$': 4, 'NN': 3, 'CC':...\n",
              "14639    {'PRP': 3, 'VBP': 3, 'CD': 3, 'NNS': 3, 'IN': ...\n",
              "Name: POS_counts, Length: 14640, dtype: object"
            ]
          },
          "metadata": {},
          "execution_count": 313
        }
      ]
    },
    {
      "cell_type": "code",
      "source": [
        "from numpy.lib.function_base import i0\n",
        "from itertools import chain\n",
        "# Function to print all unique keys\n",
        "# from a list of dictionaries\n",
        "def UniqueKeys(arr):\n",
        " \n",
        "    # Stores the list of unique keys\n",
        "    res = list(set(val for dic in arr for val in dic.keys()))\n",
        "    return res\n",
        " \n",
        "# Create array\n",
        "pos_counts_list = []\n",
        "for i in range(len(df)):\n",
        "  pos_counts_list.append(df['POS_counts'][i])\n",
        "  \n",
        "\n",
        "unique_pos = UniqueKeys(pos_counts_list)"
      ],
      "metadata": {
        "id": "4CG7wICY1WRT"
      },
      "execution_count": null,
      "outputs": []
    },
    {
      "cell_type": "code",
      "source": [
        "def create_binary_cols(df, column_name):\n",
        "  if column_name == 'POS_counts':\n",
        "    unique_pos = UniqueKeys(pos_counts_list)\n",
        "    for pos in unique_pos:\n",
        "      df[str(column_name) + '_'+ str(pos)] = df['POS_counts'].apply(lambda x: x[pos] if pos in x.keys() else 0)\n",
        "  \n",
        "  else:\n",
        "    unique_vals = df[column_name].unique()\n",
        "    for val in unique_vals:\n",
        "      df[str(column_name) + '_'+ str(val)] = df[column_name].apply(lambda x: 1 if x == val else 0)\n",
        "    \n",
        "    #df.drop(columns=[column_name], axis=1, inplace=True)\n",
        "  return df"
      ],
      "metadata": {
        "id": "o2t1UrKcuiJI"
      },
      "execution_count": null,
      "outputs": []
    },
    {
      "cell_type": "code",
      "source": [
        "new_df = create_binary_cols(df,'tweet_hour')"
      ],
      "metadata": {
        "id": "AESQ98Tc3r5v"
      },
      "execution_count": null,
      "outputs": []
    },
    {
      "cell_type": "code",
      "source": [
        "new_df = create_binary_cols(new_df, 'POS_counts')"
      ],
      "metadata": {
        "id": "GqHB9JRh8KXd"
      },
      "execution_count": null,
      "outputs": []
    },
    {
      "cell_type": "code",
      "source": [
        "## GET THE MOST FREQUENT WORDS\n",
        "\n",
        "from collections import Counter\n",
        "\n",
        "def compile_lemma(df):\n",
        "  lemma_all = \"\"\n",
        "  for i in range(len(df)):\n",
        "    lemma_all = lemma_all + ' ' + df['lemma'][i]\n",
        "  lemma_all = lemma_all.strip()\n",
        "  lemma_all = lemma_all.split()\n",
        "\n",
        "  return lemma_all\n",
        "\n",
        "counter_obj = Counter(compile_lemma(df))\n",
        "top_words_10 = counter_obj.most_common(n=10)\n",
        "print(top_words_10)\n",
        "\n",
        "## GET THE MOST FREQUENT WORDS PER CATEGORY \n",
        "\n",
        "## POSITIVE\n",
        "pos_counter_obj = Counter(compile_lemma(df.loc[df['airline_sentiment']==1].reset_index(drop=True)))\n",
        "pos_top_10 = pos_counter_obj.most_common(n=10)\n",
        "print(pos_top_10)\n",
        "\n",
        "## NEGATIVE\n",
        "neg_counter_obj = Counter(compile_lemma(df.loc[df['airline_sentiment']==-1].reset_index(drop=True)))\n",
        "neg_top_10 = neg_counter_obj.most_common(n=10)\n",
        "print(neg_top_10)\n",
        "\n",
        "## NEUTRAL\n",
        "nu_counter_obj = Counter(compile_lemma(df.loc[df['airline_sentiment']==0].reset_index(drop=True)))\n",
        "nu_top_10 = nu_counter_obj.most_common(n=10)\n",
        "print(nu_top_10)\n",
        "\n",
        "## USE THESE AS CANDIDATE FEATURES"
      ],
      "metadata": {
        "colab": {
          "base_uri": "https://localhost:8080/"
        },
        "id": "ra1R0Pxm9-s0",
        "outputId": "8770da03-19ac-43e7-85a6-3534792eadea"
      },
      "execution_count": null,
      "outputs": [
        {
          "output_type": "stream",
          "name": "stdout",
          "text": [
            "[('flight', 4506), ('get', 1370), ('hour', 1132), ('thanks', 1066), ('cancelled', 1048), ('u', 1007), ('service', 983), ('time', 941), ('customer', 927), ('help', 843)]\n",
            "[('thanks', 606), ('thank', 453), ('flight', 433), ('great', 233), ('service', 160), ('u', 133), ('love', 129), ('guy', 123), ('customer', 122), ('get', 120)]\n",
            "[('flight', 3313), ('hour', 1078), ('get', 1009), ('cancelled', 913), ('customer', 771), ('service', 761), ('time', 730), ('u', 729), ('bag', 652), ('hold', 609)]\n",
            "[('flight', 760), ('get', 241), ('need', 178), ('please', 178), ('help', 161), ('thanks', 154), ('u', 145), ('im', 136), ('dm', 123), ('would', 122)]\n"
          ]
        }
      ]
    },
    {
      "cell_type": "code",
      "source": [
        "## CREATE BINARY FEATURES\n",
        "frequent_words = ['thanks', 'thank', 'flight', 'hour', 'great', 'cancelled']\n",
        "\n",
        "for word in frequent_words:\n",
        "  new_df[word] = new_df['lemma'].apply(lambda x: 1 if word in x else 0)"
      ],
      "metadata": {
        "id": "61FAPF9EKwRV"
      },
      "execution_count": null,
      "outputs": []
    },
    {
      "cell_type": "code",
      "source": [
        "final_df = new_df.drop(columns = ['lemma', 'POS_tagging', 'tb_sentiment', 'vader_sentiment', 'POS_counts', 'tweet_hour'])"
      ],
      "metadata": {
        "id": "c8yQKyxnMQWo"
      },
      "execution_count": null,
      "outputs": []
    },
    {
      "cell_type": "code",
      "source": [
        "final_df"
      ],
      "metadata": {
        "colab": {
          "base_uri": "https://localhost:8080/",
          "height": 488
        },
        "id": "JLpkFZEINCiM",
        "outputId": "a87857cc-741b-4e28-b98f-887d675b2cdb"
      },
      "execution_count": null,
      "outputs": [
        {
          "output_type": "execute_result",
          "data": {
            "text/plain": [
              "       airline_sentiment  tb_polarity  vader_compound  text_length  \\\n",
              "0                      0     0.000000          0.0000            2   \n",
              "1                      1     0.000000          0.0000            8   \n",
              "2                      0    -0.312500          0.0000           11   \n",
              "3                     -1     0.006250         -0.3306           16   \n",
              "4                     -1    -0.350000         -0.5829            9   \n",
              "...                  ...          ...             ...          ...   \n",
              "14635                  1     0.000000          0.3612           10   \n",
              "14636                 -1    -0.300000         -0.7184           22   \n",
              "14637                  0     0.000000          0.3182            5   \n",
              "14638                 -1     0.000000          0.3818           22   \n",
              "14639                  0     0.166667          0.0772           29   \n",
              "\n",
              "       tweet_hour_11  tweet_hour_10  tweet_hour_9  tweet_hour_8  tweet_hour_7  \\\n",
              "0                  1              0             0             0             0   \n",
              "1                  1              0             0             0             0   \n",
              "2                  1              0             0             0             0   \n",
              "3                  1              0             0             0             0   \n",
              "4                  1              0             0             0             0   \n",
              "...              ...            ...           ...           ...           ...   \n",
              "14635              0              0             0             0             0   \n",
              "14636              1              0             0             0             0   \n",
              "14637              1              0             0             0             0   \n",
              "14638              1              0             0             0             0   \n",
              "14639              1              0             0             0             0   \n",
              "\n",
              "       tweet_hour_5  ...  POS_counts_JJR  POS_counts_$  POS_counts_VBZ  \\\n",
              "0                 0  ...               0             0               0   \n",
              "1                 0  ...               0             0               0   \n",
              "2                 0  ...               0             0               0   \n",
              "3                 0  ...               0             0               1   \n",
              "4                 0  ...               0             0               0   \n",
              "...             ...  ...             ...           ...             ...   \n",
              "14635             0  ...               0             0               0   \n",
              "14636             0  ...               0             0               0   \n",
              "14637             0  ...               0             0               0   \n",
              "14638             0  ...               1             0               0   \n",
              "14639             0  ...               0             0               0   \n",
              "\n",
              "       POS_counts_PRP  thanks  thank  flight  hour  great  cancelled  \n",
              "0                   0       0      0       0     0      0          0  \n",
              "1                   0       0      0       0     0      0          0  \n",
              "2                   0       0      0       0     0      0          0  \n",
              "3                   1       0      0       0     0      0          0  \n",
              "4                   1       0      0       0     0      0          0  \n",
              "...               ...     ...    ...     ...   ...    ...        ...  \n",
              "14635               2       0      1       1     0      0          0  \n",
              "14636               1       0      0       1     0      0          0  \n",
              "14637               0       0      0       0     0      0          0  \n",
              "14638               2       0      0       1     0      0          0  \n",
              "14639               3       0      0       1     0      0          0  \n",
              "\n",
              "[14640 rows x 67 columns]"
            ],
            "text/html": [
              "\n",
              "  <div id=\"df-159eb70d-f8d2-4a37-8601-1bd0ca79482a\">\n",
              "    <div class=\"colab-df-container\">\n",
              "      <div>\n",
              "<style scoped>\n",
              "    .dataframe tbody tr th:only-of-type {\n",
              "        vertical-align: middle;\n",
              "    }\n",
              "\n",
              "    .dataframe tbody tr th {\n",
              "        vertical-align: top;\n",
              "    }\n",
              "\n",
              "    .dataframe thead th {\n",
              "        text-align: right;\n",
              "    }\n",
              "</style>\n",
              "<table border=\"1\" class=\"dataframe\">\n",
              "  <thead>\n",
              "    <tr style=\"text-align: right;\">\n",
              "      <th></th>\n",
              "      <th>airline_sentiment</th>\n",
              "      <th>tb_polarity</th>\n",
              "      <th>vader_compound</th>\n",
              "      <th>text_length</th>\n",
              "      <th>tweet_hour_11</th>\n",
              "      <th>tweet_hour_10</th>\n",
              "      <th>tweet_hour_9</th>\n",
              "      <th>tweet_hour_8</th>\n",
              "      <th>tweet_hour_7</th>\n",
              "      <th>tweet_hour_5</th>\n",
              "      <th>...</th>\n",
              "      <th>POS_counts_JJR</th>\n",
              "      <th>POS_counts_$</th>\n",
              "      <th>POS_counts_VBZ</th>\n",
              "      <th>POS_counts_PRP</th>\n",
              "      <th>thanks</th>\n",
              "      <th>thank</th>\n",
              "      <th>flight</th>\n",
              "      <th>hour</th>\n",
              "      <th>great</th>\n",
              "      <th>cancelled</th>\n",
              "    </tr>\n",
              "  </thead>\n",
              "  <tbody>\n",
              "    <tr>\n",
              "      <th>0</th>\n",
              "      <td>0</td>\n",
              "      <td>0.000000</td>\n",
              "      <td>0.0000</td>\n",
              "      <td>2</td>\n",
              "      <td>1</td>\n",
              "      <td>0</td>\n",
              "      <td>0</td>\n",
              "      <td>0</td>\n",
              "      <td>0</td>\n",
              "      <td>0</td>\n",
              "      <td>...</td>\n",
              "      <td>0</td>\n",
              "      <td>0</td>\n",
              "      <td>0</td>\n",
              "      <td>0</td>\n",
              "      <td>0</td>\n",
              "      <td>0</td>\n",
              "      <td>0</td>\n",
              "      <td>0</td>\n",
              "      <td>0</td>\n",
              "      <td>0</td>\n",
              "    </tr>\n",
              "    <tr>\n",
              "      <th>1</th>\n",
              "      <td>1</td>\n",
              "      <td>0.000000</td>\n",
              "      <td>0.0000</td>\n",
              "      <td>8</td>\n",
              "      <td>1</td>\n",
              "      <td>0</td>\n",
              "      <td>0</td>\n",
              "      <td>0</td>\n",
              "      <td>0</td>\n",
              "      <td>0</td>\n",
              "      <td>...</td>\n",
              "      <td>0</td>\n",
              "      <td>0</td>\n",
              "      <td>0</td>\n",
              "      <td>0</td>\n",
              "      <td>0</td>\n",
              "      <td>0</td>\n",
              "      <td>0</td>\n",
              "      <td>0</td>\n",
              "      <td>0</td>\n",
              "      <td>0</td>\n",
              "    </tr>\n",
              "    <tr>\n",
              "      <th>2</th>\n",
              "      <td>0</td>\n",
              "      <td>-0.312500</td>\n",
              "      <td>0.0000</td>\n",
              "      <td>11</td>\n",
              "      <td>1</td>\n",
              "      <td>0</td>\n",
              "      <td>0</td>\n",
              "      <td>0</td>\n",
              "      <td>0</td>\n",
              "      <td>0</td>\n",
              "      <td>...</td>\n",
              "      <td>0</td>\n",
              "      <td>0</td>\n",
              "      <td>0</td>\n",
              "      <td>0</td>\n",
              "      <td>0</td>\n",
              "      <td>0</td>\n",
              "      <td>0</td>\n",
              "      <td>0</td>\n",
              "      <td>0</td>\n",
              "      <td>0</td>\n",
              "    </tr>\n",
              "    <tr>\n",
              "      <th>3</th>\n",
              "      <td>-1</td>\n",
              "      <td>0.006250</td>\n",
              "      <td>-0.3306</td>\n",
              "      <td>16</td>\n",
              "      <td>1</td>\n",
              "      <td>0</td>\n",
              "      <td>0</td>\n",
              "      <td>0</td>\n",
              "      <td>0</td>\n",
              "      <td>0</td>\n",
              "      <td>...</td>\n",
              "      <td>0</td>\n",
              "      <td>0</td>\n",
              "      <td>1</td>\n",
              "      <td>1</td>\n",
              "      <td>0</td>\n",
              "      <td>0</td>\n",
              "      <td>0</td>\n",
              "      <td>0</td>\n",
              "      <td>0</td>\n",
              "      <td>0</td>\n",
              "    </tr>\n",
              "    <tr>\n",
              "      <th>4</th>\n",
              "      <td>-1</td>\n",
              "      <td>-0.350000</td>\n",
              "      <td>-0.5829</td>\n",
              "      <td>9</td>\n",
              "      <td>1</td>\n",
              "      <td>0</td>\n",
              "      <td>0</td>\n",
              "      <td>0</td>\n",
              "      <td>0</td>\n",
              "      <td>0</td>\n",
              "      <td>...</td>\n",
              "      <td>0</td>\n",
              "      <td>0</td>\n",
              "      <td>0</td>\n",
              "      <td>1</td>\n",
              "      <td>0</td>\n",
              "      <td>0</td>\n",
              "      <td>0</td>\n",
              "      <td>0</td>\n",
              "      <td>0</td>\n",
              "      <td>0</td>\n",
              "    </tr>\n",
              "    <tr>\n",
              "      <th>...</th>\n",
              "      <td>...</td>\n",
              "      <td>...</td>\n",
              "      <td>...</td>\n",
              "      <td>...</td>\n",
              "      <td>...</td>\n",
              "      <td>...</td>\n",
              "      <td>...</td>\n",
              "      <td>...</td>\n",
              "      <td>...</td>\n",
              "      <td>...</td>\n",
              "      <td>...</td>\n",
              "      <td>...</td>\n",
              "      <td>...</td>\n",
              "      <td>...</td>\n",
              "      <td>...</td>\n",
              "      <td>...</td>\n",
              "      <td>...</td>\n",
              "      <td>...</td>\n",
              "      <td>...</td>\n",
              "      <td>...</td>\n",
              "      <td>...</td>\n",
              "    </tr>\n",
              "    <tr>\n",
              "      <th>14635</th>\n",
              "      <td>1</td>\n",
              "      <td>0.000000</td>\n",
              "      <td>0.3612</td>\n",
              "      <td>10</td>\n",
              "      <td>0</td>\n",
              "      <td>0</td>\n",
              "      <td>0</td>\n",
              "      <td>0</td>\n",
              "      <td>0</td>\n",
              "      <td>0</td>\n",
              "      <td>...</td>\n",
              "      <td>0</td>\n",
              "      <td>0</td>\n",
              "      <td>0</td>\n",
              "      <td>2</td>\n",
              "      <td>0</td>\n",
              "      <td>1</td>\n",
              "      <td>1</td>\n",
              "      <td>0</td>\n",
              "      <td>0</td>\n",
              "      <td>0</td>\n",
              "    </tr>\n",
              "    <tr>\n",
              "      <th>14636</th>\n",
              "      <td>-1</td>\n",
              "      <td>-0.300000</td>\n",
              "      <td>-0.7184</td>\n",
              "      <td>22</td>\n",
              "      <td>1</td>\n",
              "      <td>0</td>\n",
              "      <td>0</td>\n",
              "      <td>0</td>\n",
              "      <td>0</td>\n",
              "      <td>0</td>\n",
              "      <td>...</td>\n",
              "      <td>0</td>\n",
              "      <td>0</td>\n",
              "      <td>0</td>\n",
              "      <td>1</td>\n",
              "      <td>0</td>\n",
              "      <td>0</td>\n",
              "      <td>1</td>\n",
              "      <td>0</td>\n",
              "      <td>0</td>\n",
              "      <td>0</td>\n",
              "    </tr>\n",
              "    <tr>\n",
              "      <th>14637</th>\n",
              "      <td>0</td>\n",
              "      <td>0.000000</td>\n",
              "      <td>0.3182</td>\n",
              "      <td>5</td>\n",
              "      <td>1</td>\n",
              "      <td>0</td>\n",
              "      <td>0</td>\n",
              "      <td>0</td>\n",
              "      <td>0</td>\n",
              "      <td>0</td>\n",
              "      <td>...</td>\n",
              "      <td>0</td>\n",
              "      <td>0</td>\n",
              "      <td>0</td>\n",
              "      <td>0</td>\n",
              "      <td>0</td>\n",
              "      <td>0</td>\n",
              "      <td>0</td>\n",
              "      <td>0</td>\n",
              "      <td>0</td>\n",
              "      <td>0</td>\n",
              "    </tr>\n",
              "    <tr>\n",
              "      <th>14638</th>\n",
              "      <td>-1</td>\n",
              "      <td>0.000000</td>\n",
              "      <td>0.3818</td>\n",
              "      <td>22</td>\n",
              "      <td>1</td>\n",
              "      <td>0</td>\n",
              "      <td>0</td>\n",
              "      <td>0</td>\n",
              "      <td>0</td>\n",
              "      <td>0</td>\n",
              "      <td>...</td>\n",
              "      <td>1</td>\n",
              "      <td>0</td>\n",
              "      <td>0</td>\n",
              "      <td>2</td>\n",
              "      <td>0</td>\n",
              "      <td>0</td>\n",
              "      <td>1</td>\n",
              "      <td>0</td>\n",
              "      <td>0</td>\n",
              "      <td>0</td>\n",
              "    </tr>\n",
              "    <tr>\n",
              "      <th>14639</th>\n",
              "      <td>0</td>\n",
              "      <td>0.166667</td>\n",
              "      <td>0.0772</td>\n",
              "      <td>29</td>\n",
              "      <td>1</td>\n",
              "      <td>0</td>\n",
              "      <td>0</td>\n",
              "      <td>0</td>\n",
              "      <td>0</td>\n",
              "      <td>0</td>\n",
              "      <td>...</td>\n",
              "      <td>0</td>\n",
              "      <td>0</td>\n",
              "      <td>0</td>\n",
              "      <td>3</td>\n",
              "      <td>0</td>\n",
              "      <td>0</td>\n",
              "      <td>1</td>\n",
              "      <td>0</td>\n",
              "      <td>0</td>\n",
              "      <td>0</td>\n",
              "    </tr>\n",
              "  </tbody>\n",
              "</table>\n",
              "<p>14640 rows × 67 columns</p>\n",
              "</div>\n",
              "      <button class=\"colab-df-convert\" onclick=\"convertToInteractive('df-159eb70d-f8d2-4a37-8601-1bd0ca79482a')\"\n",
              "              title=\"Convert this dataframe to an interactive table.\"\n",
              "              style=\"display:none;\">\n",
              "        \n",
              "  <svg xmlns=\"http://www.w3.org/2000/svg\" height=\"24px\"viewBox=\"0 0 24 24\"\n",
              "       width=\"24px\">\n",
              "    <path d=\"M0 0h24v24H0V0z\" fill=\"none\"/>\n",
              "    <path d=\"M18.56 5.44l.94 2.06.94-2.06 2.06-.94-2.06-.94-.94-2.06-.94 2.06-2.06.94zm-11 1L8.5 8.5l.94-2.06 2.06-.94-2.06-.94L8.5 2.5l-.94 2.06-2.06.94zm10 10l.94 2.06.94-2.06 2.06-.94-2.06-.94-.94-2.06-.94 2.06-2.06.94z\"/><path d=\"M17.41 7.96l-1.37-1.37c-.4-.4-.92-.59-1.43-.59-.52 0-1.04.2-1.43.59L10.3 9.45l-7.72 7.72c-.78.78-.78 2.05 0 2.83L4 21.41c.39.39.9.59 1.41.59.51 0 1.02-.2 1.41-.59l7.78-7.78 2.81-2.81c.8-.78.8-2.07 0-2.86zM5.41 20L4 18.59l7.72-7.72 1.47 1.35L5.41 20z\"/>\n",
              "  </svg>\n",
              "      </button>\n",
              "      \n",
              "  <style>\n",
              "    .colab-df-container {\n",
              "      display:flex;\n",
              "      flex-wrap:wrap;\n",
              "      gap: 12px;\n",
              "    }\n",
              "\n",
              "    .colab-df-convert {\n",
              "      background-color: #E8F0FE;\n",
              "      border: none;\n",
              "      border-radius: 50%;\n",
              "      cursor: pointer;\n",
              "      display: none;\n",
              "      fill: #1967D2;\n",
              "      height: 32px;\n",
              "      padding: 0 0 0 0;\n",
              "      width: 32px;\n",
              "    }\n",
              "\n",
              "    .colab-df-convert:hover {\n",
              "      background-color: #E2EBFA;\n",
              "      box-shadow: 0px 1px 2px rgba(60, 64, 67, 0.3), 0px 1px 3px 1px rgba(60, 64, 67, 0.15);\n",
              "      fill: #174EA6;\n",
              "    }\n",
              "\n",
              "    [theme=dark] .colab-df-convert {\n",
              "      background-color: #3B4455;\n",
              "      fill: #D2E3FC;\n",
              "    }\n",
              "\n",
              "    [theme=dark] .colab-df-convert:hover {\n",
              "      background-color: #434B5C;\n",
              "      box-shadow: 0px 1px 3px 1px rgba(0, 0, 0, 0.15);\n",
              "      filter: drop-shadow(0px 1px 2px rgba(0, 0, 0, 0.3));\n",
              "      fill: #FFFFFF;\n",
              "    }\n",
              "  </style>\n",
              "\n",
              "      <script>\n",
              "        const buttonEl =\n",
              "          document.querySelector('#df-159eb70d-f8d2-4a37-8601-1bd0ca79482a button.colab-df-convert');\n",
              "        buttonEl.style.display =\n",
              "          google.colab.kernel.accessAllowed ? 'block' : 'none';\n",
              "\n",
              "        async function convertToInteractive(key) {\n",
              "          const element = document.querySelector('#df-159eb70d-f8d2-4a37-8601-1bd0ca79482a');\n",
              "          const dataTable =\n",
              "            await google.colab.kernel.invokeFunction('convertToInteractive',\n",
              "                                                     [key], {});\n",
              "          if (!dataTable) return;\n",
              "\n",
              "          const docLinkHtml = 'Like what you see? Visit the ' +\n",
              "            '<a target=\"_blank\" href=https://colab.research.google.com/notebooks/data_table.ipynb>data table notebook</a>'\n",
              "            + ' to learn more about interactive tables.';\n",
              "          element.innerHTML = '';\n",
              "          dataTable['output_type'] = 'display_data';\n",
              "          await google.colab.output.renderOutput(dataTable, element);\n",
              "          const docLink = document.createElement('div');\n",
              "          docLink.innerHTML = docLinkHtml;\n",
              "          element.appendChild(docLink);\n",
              "        }\n",
              "      </script>\n",
              "    </div>\n",
              "  </div>\n",
              "  "
            ]
          },
          "metadata": {},
          "execution_count": 321
        }
      ]
    },
    {
      "cell_type": "code",
      "source": [
        "## Data exploration\n",
        "\n",
        "from scipy.stats import chi2_contingency\n",
        "from scipy.stats import chi2\n",
        "\n",
        "def chi_test (col1, col2, sig_level=0.05):\n",
        "  stat, p, dof, expected = chi2_contingency(pd.crosstab(new_df[col1], new_df[col2]))\n",
        "  if p<= sig_level:\n",
        "    print('Reject Ho. ' + col1 + ' and ' + col2 + ' are NOT independent.')\n",
        "  else: \n",
        "    print('Do NOT reject Ho. ' + col1 + ' and ' + col2 + ' are independent.')"
      ],
      "metadata": {
        "id": "G7GRZl5WBCLP"
      },
      "execution_count": null,
      "outputs": []
    },
    {
      "cell_type": "code",
      "source": [
        "#pd.crosstab(new_df['airline_sentiment'], new_df['tweet_hour'])\n",
        "for hr in new_df['tweet_hour'].unique():\n",
        "  print(chi_test('airline_sentiment', 'tweet_hour_'+str(hr)))"
      ],
      "metadata": {
        "colab": {
          "base_uri": "https://localhost:8080/"
        },
        "id": "Z7IEYO17BqM1",
        "outputId": "87d8eb82-53a1-4ef4-a0dd-de7203327e04"
      },
      "execution_count": null,
      "outputs": [
        {
          "output_type": "stream",
          "name": "stdout",
          "text": [
            "Reject Ho. airline_sentiment and tweet_hour_11 are NOT independent.\n",
            "None\n",
            "Reject Ho. airline_sentiment and tweet_hour_10 are NOT independent.\n",
            "None\n",
            "Do NOT reject Ho. airline_sentiment and tweet_hour_9 are independent.\n",
            "None\n",
            "Do NOT reject Ho. airline_sentiment and tweet_hour_8 are independent.\n",
            "None\n",
            "Do NOT reject Ho. airline_sentiment and tweet_hour_7 are independent.\n",
            "None\n",
            "Do NOT reject Ho. airline_sentiment and tweet_hour_5 are independent.\n",
            "None\n",
            "Reject Ho. airline_sentiment and tweet_hour_23 are NOT independent.\n",
            "None\n",
            "Reject Ho. airline_sentiment and tweet_hour_22 are NOT independent.\n",
            "None\n",
            "Do NOT reject Ho. airline_sentiment and tweet_hour_21 are independent.\n",
            "None\n",
            "Do NOT reject Ho. airline_sentiment and tweet_hour_20 are independent.\n",
            "None\n",
            "Do NOT reject Ho. airline_sentiment and tweet_hour_18 are independent.\n",
            "None\n",
            "Do NOT reject Ho. airline_sentiment and tweet_hour_17 are independent.\n",
            "None\n",
            "Do NOT reject Ho. airline_sentiment and tweet_hour_16 are independent.\n",
            "None\n",
            "Do NOT reject Ho. airline_sentiment and tweet_hour_15 are independent.\n",
            "None\n",
            "Do NOT reject Ho. airline_sentiment and tweet_hour_14 are independent.\n",
            "None\n",
            "Do NOT reject Ho. airline_sentiment and tweet_hour_13 are independent.\n",
            "None\n",
            "Do NOT reject Ho. airline_sentiment and tweet_hour_12 are independent.\n",
            "None\n",
            "Do NOT reject Ho. airline_sentiment and tweet_hour_6 are independent.\n",
            "None\n",
            "Do NOT reject Ho. airline_sentiment and tweet_hour_3 are independent.\n",
            "None\n",
            "Reject Ho. airline_sentiment and tweet_hour_0 are NOT independent.\n",
            "None\n",
            "Do NOT reject Ho. airline_sentiment and tweet_hour_4 are independent.\n",
            "None\n",
            "Do NOT reject Ho. airline_sentiment and tweet_hour_2 are independent.\n",
            "None\n",
            "Reject Ho. airline_sentiment and tweet_hour_1 are NOT independent.\n",
            "None\n",
            "Reject Ho. airline_sentiment and tweet_hour_19 are NOT independent.\n",
            "None\n"
          ]
        }
      ]
    },
    {
      "cell_type": "code",
      "source": [
        "for pos_col in unique_pos:\n",
        "  print(chi_test('airline_sentiment', 'POS_counts_'+pos_col))"
      ],
      "metadata": {
        "colab": {
          "base_uri": "https://localhost:8080/"
        },
        "id": "tcrt5LvYCde_",
        "outputId": "0873c43b-4caf-4abf-a978-5865b5541a50"
      },
      "execution_count": null,
      "outputs": [
        {
          "output_type": "stream",
          "name": "stdout",
          "text": [
            "Reject Ho. airline_sentiment and POS_counts_RP are NOT independent.\n",
            "None\n",
            "Reject Ho. airline_sentiment and POS_counts_RB are NOT independent.\n",
            "None\n",
            "Reject Ho. airline_sentiment and POS_counts_VBN are NOT independent.\n",
            "None\n",
            "Reject Ho. airline_sentiment and POS_counts_WP$ are NOT independent.\n",
            "None\n",
            "Reject Ho. airline_sentiment and POS_counts_CC are NOT independent.\n",
            "None\n",
            "Reject Ho. airline_sentiment and POS_counts_VB are NOT independent.\n",
            "None\n",
            "Reject Ho. airline_sentiment and POS_counts_DT are NOT independent.\n",
            "None\n",
            "Do NOT reject Ho. airline_sentiment and POS_counts_NNP are independent.\n",
            "None\n",
            "Reject Ho. airline_sentiment and POS_counts_CD are NOT independent.\n",
            "None\n",
            "Reject Ho. airline_sentiment and POS_counts_UH are NOT independent.\n",
            "None\n",
            "Reject Ho. airline_sentiment and POS_counts_WDT are NOT independent.\n",
            "None\n",
            "Reject Ho. airline_sentiment and POS_counts_WP are NOT independent.\n",
            "None\n",
            "Reject Ho. airline_sentiment and POS_counts_WRB are NOT independent.\n",
            "None\n",
            "Reject Ho. airline_sentiment and POS_counts_TO are NOT independent.\n",
            "None\n",
            "Reject Ho. airline_sentiment and POS_counts_JJ are NOT independent.\n",
            "None\n",
            "Reject Ho. airline_sentiment and POS_counts_VBG are NOT independent.\n",
            "None\n",
            "Reject Ho. airline_sentiment and POS_counts_EX are NOT independent.\n",
            "None\n",
            "Reject Ho. airline_sentiment and POS_counts_RBR are NOT independent.\n",
            "None\n",
            "Do NOT reject Ho. airline_sentiment and POS_counts_RBS are independent.\n",
            "None\n",
            "Do NOT reject Ho. airline_sentiment and POS_counts_FW are independent.\n",
            "None\n",
            "Reject Ho. airline_sentiment and POS_counts_VBD are NOT independent.\n",
            "None\n",
            "Reject Ho. airline_sentiment and POS_counts_VBP are NOT independent.\n",
            "None\n",
            "Reject Ho. airline_sentiment and POS_counts_MD are NOT independent.\n",
            "None\n",
            "Reject Ho. airline_sentiment and POS_counts_NNS are NOT independent.\n",
            "None\n",
            "Reject Ho. airline_sentiment and POS_counts_IN are NOT independent.\n",
            "None\n",
            "Reject Ho. airline_sentiment and POS_counts_NN are NOT independent.\n",
            "None\n",
            "Do NOT reject Ho. airline_sentiment and POS_counts_PDT are independent.\n",
            "None\n",
            "Reject Ho. airline_sentiment and POS_counts_JJS are NOT independent.\n",
            "None\n",
            "Reject Ho. airline_sentiment and POS_counts_PRP$ are NOT independent.\n",
            "None\n",
            "Reject Ho. airline_sentiment and POS_counts_JJR are NOT independent.\n",
            "None\n",
            "Do NOT reject Ho. airline_sentiment and POS_counts_$ are independent.\n",
            "None\n",
            "Reject Ho. airline_sentiment and POS_counts_VBZ are NOT independent.\n",
            "None\n",
            "Reject Ho. airline_sentiment and POS_counts_PRP are NOT independent.\n",
            "None\n"
          ]
        }
      ]
    },
    {
      "cell_type": "code",
      "source": [
        "for word in frequent_words:\n",
        "  print(chi_test('airline_sentiment', word))"
      ],
      "metadata": {
        "colab": {
          "base_uri": "https://localhost:8080/"
        },
        "id": "-jTYMDlDGJQK",
        "outputId": "77cd7add-9391-48fc-dab9-7df7ce0cd6a2"
      },
      "execution_count": null,
      "outputs": [
        {
          "output_type": "stream",
          "name": "stdout",
          "text": [
            "Reject Ho. airline_sentiment and thanks are NOT independent.\n",
            "None\n",
            "Reject Ho. airline_sentiment and thank are NOT independent.\n",
            "None\n",
            "Reject Ho. airline_sentiment and flight are NOT independent.\n",
            "None\n",
            "Reject Ho. airline_sentiment and hour are NOT independent.\n",
            "None\n",
            "Reject Ho. airline_sentiment and great are NOT independent.\n",
            "None\n",
            "Reject Ho. airline_sentiment and cancelled are NOT independent.\n",
            "None\n"
          ]
        }
      ]
    },
    {
      "cell_type": "code",
      "source": [
        "## Remove variables INDEPENDENT of the response, airline_sentiment\n",
        "\n",
        "to_remove = ['tweet_hour_9',\n",
        "             'tweet_hour_8',\n",
        "             'tweet_hour_7',\n",
        "             'tweet_hour_5',\n",
        "             'tweet_hour_21',\n",
        "             'tweet_hour_20',\n",
        "             'tweet_hour_18',\n",
        "             'tweet_hour_17',\n",
        "             'tweet_hour_16',\n",
        "             'tweet_hour_15',\n",
        "             'tweet_hour_14',\n",
        "             'tweet_hour_13',\n",
        "             'tweet_hour_12',\n",
        "             'tweet_hour_6',\n",
        "             'tweet_hour_3',\n",
        "             'tweet_hour_2',\n",
        "             'tweet_hour_4',\n",
        "             'POS_counts_FW',\n",
        "             'POS_counts_PDT',\n",
        "             'POS_counts_RBS',\n",
        "             'POS_counts_$'\n",
        "             ]"
      ],
      "metadata": {
        "id": "GsN9I0LNEDFI"
      },
      "execution_count": null,
      "outputs": []
    },
    {
      "cell_type": "code",
      "source": [
        "final_df.drop(columns = to_remove, inplace=True)"
      ],
      "metadata": {
        "id": "udon_U_4F6mn"
      },
      "execution_count": null,
      "outputs": []
    },
    {
      "cell_type": "code",
      "source": [
        "final_df['thanks'] = np.where((final_df['thanks'] == 0) & (final_df['thank'] == 1), 1, final_df['thanks'])"
      ],
      "metadata": {
        "id": "DRN0yLHQGA2p"
      },
      "execution_count": null,
      "outputs": []
    },
    {
      "cell_type": "code",
      "source": [
        "final_df['thanks'].sum()"
      ],
      "metadata": {
        "colab": {
          "base_uri": "https://localhost:8080/"
        },
        "id": "63cfNssGGwpV",
        "outputId": "a5004f9a-6336-4615-bb87-bdd703f79b9b"
      },
      "execution_count": null,
      "outputs": [
        {
          "output_type": "execute_result",
          "data": {
            "text/plain": [
              "1662"
            ]
          },
          "metadata": {},
          "execution_count": 329
        }
      ]
    },
    {
      "cell_type": "code",
      "source": [
        "final_df.drop(columns = ['thank'], inplace=True)"
      ],
      "metadata": {
        "id": "Fmo_TI2wIJWb"
      },
      "execution_count": null,
      "outputs": []
    },
    {
      "cell_type": "code",
      "source": [
        "final_df.corr()"
      ],
      "metadata": {
        "colab": {
          "base_uri": "https://localhost:8080/",
          "height": 1000
        },
        "id": "Ap7R9ciLIjWB",
        "outputId": "650f0c90-f7ea-4b98-b9ce-48f309dd9bf8"
      },
      "execution_count": null,
      "outputs": [
        {
          "output_type": "execute_result",
          "data": {
            "text/plain": [
              "                   airline_sentiment  tb_polarity  vader_compound  \\\n",
              "airline_sentiment           1.000000     0.362367        0.469233   \n",
              "tb_polarity                 0.362367     1.000000        0.565384   \n",
              "vader_compound              0.469233     0.565384        1.000000   \n",
              "text_length                -0.366621    -0.078100       -0.128022   \n",
              "tweet_hour_11               0.014775     0.009552        0.006226   \n",
              "tweet_hour_10               0.030926     0.025674        0.018519   \n",
              "tweet_hour_23              -0.025472    -0.021905       -0.015062   \n",
              "tweet_hour_22              -0.029125    -0.018168       -0.005528   \n",
              "tweet_hour_0               -0.021124    -0.019044       -0.005765   \n",
              "tweet_hour_1               -0.021173     0.004315        0.001000   \n",
              "tweet_hour_19              -0.033078    -0.020882       -0.020212   \n",
              "POS_counts_RP              -0.070830    -0.023278       -0.026016   \n",
              "POS_counts_RB              -0.159883    -0.048636       -0.047761   \n",
              "POS_counts_VBN             -0.205718    -0.073049       -0.156305   \n",
              "POS_counts_WP$             -0.020248     0.014888       -0.010377   \n",
              "POS_counts_CC              -0.153518    -0.041000       -0.059567   \n",
              "POS_counts_VB              -0.133238     0.017476        0.015766   \n",
              "POS_counts_DT              -0.169027    -0.037818       -0.056893   \n",
              "POS_counts_NNP             -0.001307    -0.003554        0.003866   \n",
              "POS_counts_CD              -0.202097    -0.073650       -0.120911   \n",
              "POS_counts_UH               0.029207     0.017853        0.044505   \n",
              "POS_counts_WDT             -0.054960    -0.009766       -0.028173   \n",
              "POS_counts_WP              -0.053369    -0.002704       -0.014365   \n",
              "POS_counts_WRB             -0.121971    -0.020127       -0.062286   \n",
              "POS_counts_TO              -0.123431     0.004362       -0.042587   \n",
              "POS_counts_JJ              -0.084066     0.016922       -0.010252   \n",
              "POS_counts_VBG             -0.121887    -0.044012       -0.051731   \n",
              "POS_counts_EX              -0.032449    -0.003831       -0.008194   \n",
              "POS_counts_RBR             -0.018236     0.012918        0.017159   \n",
              "POS_counts_VBD             -0.136311    -0.042141       -0.099908   \n",
              "POS_counts_VBP             -0.099953     0.006624       -0.006156   \n",
              "POS_counts_MD              -0.036429     0.042612        0.069871   \n",
              "POS_counts_NNS             -0.090254    -0.013654       -0.006727   \n",
              "POS_counts_IN              -0.207997    -0.053917       -0.075590   \n",
              "POS_counts_NN              -0.218530    -0.077491       -0.101718   \n",
              "POS_counts_JJS              0.008474    -0.027023       -0.005645   \n",
              "POS_counts_PRP$            -0.129655    -0.053565       -0.063463   \n",
              "POS_counts_JJR             -0.048026     0.025219        0.014865   \n",
              "POS_counts_VBZ             -0.138635    -0.066238       -0.073005   \n",
              "POS_counts_PRP             -0.053196     0.028188        0.036747   \n",
              "thanks                      0.405447     0.165977        0.341337   \n",
              "flight                     -0.138532    -0.051140       -0.135323   \n",
              "hour                       -0.175673    -0.072544       -0.085041   \n",
              "great                       0.179818     0.245938        0.210587   \n",
              "cancelled                  -0.131258    -0.037950       -0.155779   \n",
              "\n",
              "                   text_length  tweet_hour_11  tweet_hour_10  tweet_hour_23  \\\n",
              "airline_sentiment    -0.366621       0.014775       0.030926      -0.025472   \n",
              "tb_polarity          -0.078100       0.009552       0.025674      -0.021905   \n",
              "vader_compound       -0.128022       0.006226       0.018519      -0.015062   \n",
              "text_length           1.000000      -0.022767      -0.031780       0.012004   \n",
              "tweet_hour_11        -0.022767       1.000000      -0.071266      -0.031060   \n",
              "tweet_hour_10        -0.031780      -0.071266       1.000000      -0.030653   \n",
              "tweet_hour_23         0.012004      -0.031060      -0.030653       1.000000   \n",
              "tweet_hour_22         0.022628      -0.038336      -0.037833      -0.016489   \n",
              "tweet_hour_0          0.024030      -0.025534      -0.025200      -0.010983   \n",
              "tweet_hour_1          0.014950      -0.023488      -0.023180      -0.010103   \n",
              "tweet_hour_19         0.021426      -0.059080      -0.058305      -0.025411   \n",
              "POS_counts_RP         0.133941      -0.010623      -0.012229       0.008144   \n",
              "POS_counts_RB         0.337485      -0.010627      -0.004356       0.001388   \n",
              "POS_counts_VBN        0.303274      -0.008964      -0.018707       0.000457   \n",
              "POS_counts_WP$        0.010329       0.011350       0.002037      -0.003310   \n",
              "POS_counts_CC         0.350515      -0.012307      -0.005534       0.012134   \n",
              "POS_counts_VB         0.423981       0.003702      -0.024035       0.020868   \n",
              "POS_counts_DT         0.487760      -0.008254      -0.013722       0.007483   \n",
              "POS_counts_NNP        0.017516       0.011350       0.002037       0.017616   \n",
              "POS_counts_CD         0.315353      -0.001056      -0.012962      -0.001633   \n",
              "POS_counts_UH        -0.013567       0.000393       0.017778      -0.007049   \n",
              "POS_counts_WDT        0.109949       0.008005      -0.015075       0.012124   \n",
              "POS_counts_WP         0.081255      -0.003336      -0.001781       0.001593   \n",
              "POS_counts_WRB        0.162441       0.020147      -0.012833       0.005995   \n",
              "POS_counts_TO         0.412186      -0.018302      -0.017742       0.009433   \n",
              "POS_counts_JJ         0.403520      -0.006600      -0.003161       0.002391   \n",
              "POS_counts_VBG        0.249682      -0.004375      -0.012220      -0.003001   \n",
              "POS_counts_EX         0.093772       0.000137      -0.000536      -0.003268   \n",
              "POS_counts_RBR        0.061974       0.002786       0.011404       0.004905   \n",
              "POS_counts_VBD        0.353081      -0.000153      -0.004365       0.013758   \n",
              "POS_counts_VBP        0.317337      -0.011405      -0.010829       0.001179   \n",
              "POS_counts_MD         0.194506      -0.000718      -0.006990      -0.003976   \n",
              "POS_counts_NNS        0.282949       0.003783      -0.007519       0.007953   \n",
              "POS_counts_IN         0.583524      -0.023510      -0.016419      -0.002949   \n",
              "POS_counts_NN         0.668304      -0.023107      -0.013500      -0.001315   \n",
              "POS_counts_JJS        0.044630      -0.019479      -0.007769      -0.003449   \n",
              "POS_counts_PRP$       0.292329       0.004047      -0.009948       0.012914   \n",
              "POS_counts_JJR        0.100323       0.004741       0.003707      -0.002777   \n",
              "POS_counts_VBZ        0.234680      -0.014252      -0.014993      -0.007897   \n",
              "POS_counts_PRP        0.307145      -0.011985      -0.023669       0.016783   \n",
              "thanks               -0.132331       0.009506      -0.007135      -0.013045   \n",
              "flight                0.269142      -0.004422      -0.023994      -0.002193   \n",
              "hour                  0.155129      -0.017788      -0.007746       0.019231   \n",
              "great                -0.016413       0.002312       0.007086       0.003025   \n",
              "cancelled             0.159883       0.002052      -0.013518       0.003949   \n",
              "\n",
              "                   tweet_hour_22  tweet_hour_0  tweet_hour_1  ...  \\\n",
              "airline_sentiment      -0.029125     -0.021124     -0.021173  ...   \n",
              "tb_polarity            -0.018168     -0.019044      0.004315  ...   \n",
              "vader_compound         -0.005528     -0.005765      0.001000  ...   \n",
              "text_length             0.022628      0.024030      0.014950  ...   \n",
              "tweet_hour_11          -0.038336     -0.025534     -0.023488  ...   \n",
              "tweet_hour_10          -0.037833     -0.025200     -0.023180  ...   \n",
              "tweet_hour_23          -0.016489     -0.010983     -0.010103  ...   \n",
              "tweet_hour_22           1.000000     -0.013555     -0.012469  ...   \n",
              "tweet_hour_0           -0.013555      1.000000     -0.008305  ...   \n",
              "tweet_hour_1           -0.012469     -0.008305      1.000000  ...   \n",
              "tweet_hour_19          -0.031364     -0.020890     -0.019217  ...   \n",
              "POS_counts_RP           0.013534     -0.006480     -0.007168  ...   \n",
              "POS_counts_RB          -0.000075      0.006883      0.006670  ...   \n",
              "POS_counts_VBN          0.008452      0.009256      0.015106  ...   \n",
              "POS_counts_WP$         -0.004086     -0.002722     -0.002503  ...   \n",
              "POS_counts_CC           0.012860      0.004304      0.015884  ...   \n",
              "POS_counts_VB           0.006362     -0.007040      0.010486  ...   \n",
              "POS_counts_DT           0.004920      0.018443      0.001368  ...   \n",
              "POS_counts_NNP         -0.004086     -0.002722     -0.002503  ...   \n",
              "POS_counts_CD           0.014464      0.008290      0.007770  ...   \n",
              "POS_counts_UH          -0.001180     -0.005795      0.031037  ...   \n",
              "POS_counts_WDT          0.003133      0.011986     -0.000387  ...   \n",
              "POS_counts_WP          -0.006350      0.009793     -0.001703  ...   \n",
              "POS_counts_WRB          0.021719      0.002933      0.011128  ...   \n",
              "POS_counts_TO          -0.003138     -0.002426      0.021892  ...   \n",
              "POS_counts_JJ           0.005035      0.019381     -0.008205  ...   \n",
              "POS_counts_VBG          0.000715      0.004904      0.001301  ...   \n",
              "POS_counts_EX          -0.007229     -0.001402      0.005850  ...   \n",
              "POS_counts_RBR          0.000734      0.002045      0.004391  ...   \n",
              "POS_counts_VBD          0.024086      0.000104      0.011036  ...   \n",
              "POS_counts_VBP          0.001461      0.022172     -0.000204  ...   \n",
              "POS_counts_MD           0.002899     -0.006600      0.000348  ...   \n",
              "POS_counts_NNS          0.014368      0.011343     -0.002738  ...   \n",
              "POS_counts_IN           0.013948      0.015313      0.017039  ...   \n",
              "POS_counts_NN           0.015902      0.016918      0.001228  ...   \n",
              "POS_counts_JJS          0.010772      0.015437      0.004853  ...   \n",
              "POS_counts_PRP$         0.016404      0.011050      0.016874  ...   \n",
              "POS_counts_JJR          0.020528      0.009370      0.006401  ...   \n",
              "POS_counts_VBZ         -0.003223      0.000500     -0.006816  ...   \n",
              "POS_counts_PRP          0.001824      0.008893      0.002335  ...   \n",
              "thanks                 -0.001770     -0.006566     -0.003975  ...   \n",
              "flight                  0.000853      0.003556     -0.000019  ...   \n",
              "hour                    0.016703      0.014129     -0.001061  ...   \n",
              "great                  -0.011449      0.000542     -0.013129  ...   \n",
              "cancelled               0.001609     -0.000133     -0.002066  ...   \n",
              "\n",
              "                   POS_counts_JJS  POS_counts_PRP$  POS_counts_JJR  \\\n",
              "airline_sentiment        0.008474        -0.129655       -0.048026   \n",
              "tb_polarity             -0.027023        -0.053565        0.025219   \n",
              "vader_compound          -0.005645        -0.063463        0.014865   \n",
              "text_length              0.044630         0.292329        0.100323   \n",
              "tweet_hour_11           -0.019479         0.004047        0.004741   \n",
              "tweet_hour_10           -0.007769        -0.009948        0.003707   \n",
              "tweet_hour_23           -0.003449         0.012914       -0.002777   \n",
              "tweet_hour_22            0.010772         0.016404        0.020528   \n",
              "tweet_hour_0             0.015437         0.011050        0.009370   \n",
              "tweet_hour_1             0.004853         0.016874        0.006401   \n",
              "tweet_hour_19            0.003629         0.001402       -0.006717   \n",
              "POS_counts_RP           -0.004866         0.006055        0.012217   \n",
              "POS_counts_RB            0.032241         0.065992        0.019094   \n",
              "POS_counts_VBN          -0.003591         0.084283        0.001447   \n",
              "POS_counts_WP$          -0.005840        -0.001907        0.004710   \n",
              "POS_counts_CC           -0.008048         0.105571        0.035580   \n",
              "POS_counts_VB           -0.017158         0.090635        0.047294   \n",
              "POS_counts_DT            0.067672        -0.034853        0.048570   \n",
              "POS_counts_NNP           0.005615        -0.001907       -0.006031   \n",
              "POS_counts_CD           -0.016284        -0.021593        0.033176   \n",
              "POS_counts_UH           -0.007390         0.004890        0.006086   \n",
              "POS_counts_WDT          -0.023842        -0.005532        0.014003   \n",
              "POS_counts_WP           -0.012867         0.015910       -0.016730   \n",
              "POS_counts_WRB          -0.013586         0.040229        0.001970   \n",
              "POS_counts_TO           -0.026609         0.084833        0.033070   \n",
              "POS_counts_JJ           -0.007267         0.056467       -0.000320   \n",
              "POS_counts_VBG           0.006230         0.044714        0.012279   \n",
              "POS_counts_EX           -0.003506        -0.014285        0.024250   \n",
              "POS_counts_RBR           0.001549        -0.002820        0.030871   \n",
              "POS_counts_VBD          -0.012516         0.100494        0.001580   \n",
              "POS_counts_VBP           0.023044         0.070192        0.032860   \n",
              "POS_counts_MD           -0.006253         0.021351        0.037418   \n",
              "POS_counts_NNS           0.005018         0.070239        0.067265   \n",
              "POS_counts_IN            0.017944         0.116446        0.059462   \n",
              "POS_counts_NN            0.005878         0.212982        0.026186   \n",
              "POS_counts_JJS           1.000000        -0.008394       -0.007528   \n",
              "POS_counts_PRP$         -0.008394         1.000000       -0.017795   \n",
              "POS_counts_JJR          -0.007528        -0.017795        1.000000   \n",
              "POS_counts_VBZ           0.034769         0.073882        0.015634   \n",
              "POS_counts_PRP           0.014240         0.060541        0.019246   \n",
              "thanks                  -0.007867        -0.033096       -0.022057   \n",
              "flight                  -0.012575         0.095314        0.021342   \n",
              "hour                     0.001466        -0.013770        0.038957   \n",
              "great                    0.007313        -0.030754       -0.004422   \n",
              "cancelled               -0.008991         0.058818       -0.007643   \n",
              "\n",
              "                   POS_counts_VBZ  POS_counts_PRP    thanks    flight  \\\n",
              "airline_sentiment       -0.138635       -0.053196  0.405447 -0.138532   \n",
              "tb_polarity             -0.066238        0.028188  0.165977 -0.051140   \n",
              "vader_compound          -0.073005        0.036747  0.341337 -0.135323   \n",
              "text_length              0.234680        0.307145 -0.132331  0.269142   \n",
              "tweet_hour_11           -0.014252       -0.011985  0.009506 -0.004422   \n",
              "tweet_hour_10           -0.014993       -0.023669 -0.007135 -0.023994   \n",
              "tweet_hour_23           -0.007897        0.016783 -0.013045 -0.002193   \n",
              "tweet_hour_22           -0.003223        0.001824 -0.001770  0.000853   \n",
              "tweet_hour_0             0.000500        0.008893 -0.006566  0.003556   \n",
              "tweet_hour_1            -0.006816        0.002335 -0.003975 -0.000019   \n",
              "tweet_hour_19            0.000452        0.023336 -0.012966  0.003119   \n",
              "POS_counts_RP            0.030295        0.057132 -0.020134  0.018430   \n",
              "POS_counts_RB            0.085411        0.082634 -0.052541  0.018687   \n",
              "POS_counts_VBN           0.078047       -0.002824 -0.078231  0.188182   \n",
              "POS_counts_WP$          -0.009170       -0.012813 -0.002726  0.008110   \n",
              "POS_counts_CC            0.069591        0.102362 -0.053164  0.046380   \n",
              "POS_counts_VB           -0.008945        0.236497 -0.106953  0.079368   \n",
              "POS_counts_DT            0.189008        0.058895 -0.062243  0.079909   \n",
              "POS_counts_NNP           0.006384       -0.000253  0.004798 -0.007696   \n",
              "POS_counts_CD            0.023772       -0.046513 -0.106173  0.205279   \n",
              "POS_counts_UH           -0.013816       -0.009946  0.004692 -0.022578   \n",
              "POS_counts_WDT           0.098608        0.013672 -0.016064  0.028526   \n",
              "POS_counts_WP            0.119119        0.032103 -0.033293  0.002284   \n",
              "POS_counts_WRB           0.088869        0.098466 -0.076378  0.039728   \n",
              "POS_counts_TO            0.025316        0.088363 -0.078343  0.127104   \n",
              "POS_counts_JJ            0.108912       -0.020956 -0.043953  0.124109   \n",
              "POS_counts_VBG           0.048450        0.025368 -0.007303  0.071281   \n",
              "POS_counts_EX            0.113909        0.001963 -0.020088  0.011529   \n",
              "POS_counts_RBR           0.022984        0.014040  0.001615 -0.002763   \n",
              "POS_counts_VBD          -0.094776        0.189354 -0.049581  0.154765   \n",
              "POS_counts_VBP           0.000036        0.282332 -0.042961 -0.009098   \n",
              "POS_counts_MD           -0.039122        0.199128 -0.042871 -0.003874   \n",
              "POS_counts_NNS          -0.018757       -0.038824  0.095956  0.087450   \n",
              "POS_counts_IN            0.046921        0.105969 -0.059220  0.159231   \n",
              "POS_counts_NN            0.129176       -0.014158 -0.105862  0.260874   \n",
              "POS_counts_JJS           0.034769        0.014240 -0.007867 -0.012575   \n",
              "POS_counts_PRP$          0.073882        0.060541 -0.033096  0.095314   \n",
              "POS_counts_JJR           0.015634        0.019246 -0.022057  0.021342   \n",
              "POS_counts_VBZ           1.000000        0.042579 -0.086507  0.025950   \n",
              "POS_counts_PRP           0.042579        1.000000  0.059717 -0.027765   \n",
              "thanks                  -0.086507        0.059717  1.000000 -0.065735   \n",
              "flight                   0.025950       -0.027765 -0.065735  1.000000   \n",
              "hour                     0.007496       -0.017917 -0.044155  0.085838   \n",
              "great                   -0.019931       -0.002919  0.094301 -0.002206   \n",
              "cancelled               -0.004028        0.005176 -0.048212  0.427835   \n",
              "\n",
              "                       hour     great  cancelled  \n",
              "airline_sentiment -0.175673  0.179818  -0.131258  \n",
              "tb_polarity       -0.072544  0.245938  -0.037950  \n",
              "vader_compound    -0.085041  0.210587  -0.155779  \n",
              "text_length        0.155129 -0.016413   0.159883  \n",
              "tweet_hour_11     -0.017788  0.002312   0.002052  \n",
              "tweet_hour_10     -0.007746  0.007086  -0.013518  \n",
              "tweet_hour_23      0.019231  0.003025   0.003949  \n",
              "tweet_hour_22      0.016703 -0.011449   0.001609  \n",
              "tweet_hour_0       0.014129  0.000542  -0.000133  \n",
              "tweet_hour_1      -0.001061 -0.013129  -0.002066  \n",
              "tweet_hour_19      0.023691 -0.008631  -0.000788  \n",
              "POS_counts_RP      0.033239 -0.008221  -0.011752  \n",
              "POS_counts_RB      0.047594 -0.002831  -0.006620  \n",
              "POS_counts_VBN     0.089335 -0.044032   0.316008  \n",
              "POS_counts_WP$    -0.008172 -0.004302   0.029853  \n",
              "POS_counts_CC      0.049215  0.000080   0.058993  \n",
              "POS_counts_VB      0.015339 -0.030405   0.064648  \n",
              "POS_counts_DT      0.102329 -0.002218   0.004332  \n",
              "POS_counts_NNP     0.000875 -0.004302   0.001613  \n",
              "POS_counts_CD      0.228455 -0.031943   0.073120  \n",
              "POS_counts_UH      0.006513  0.005157  -0.012464  \n",
              "POS_counts_WDT     0.007228 -0.002217   0.026290  \n",
              "POS_counts_WP     -0.002981  0.000007   0.009427  \n",
              "POS_counts_WRB     0.003170 -0.033819   0.015984  \n",
              "POS_counts_TO      0.038481 -0.023600   0.075130  \n",
              "POS_counts_JJ     -0.000697  0.110703   0.076969  \n",
              "POS_counts_VBG     0.061397 -0.002409   0.009654  \n",
              "POS_counts_EX      0.008289 -0.012038  -0.002598  \n",
              "POS_counts_RBR    -0.003296  0.001948  -0.001925  \n",
              "POS_counts_VBD     0.040638 -0.019514   0.183672  \n",
              "POS_counts_VBP    -0.014358 -0.027684   0.011524  \n",
              "POS_counts_MD     -0.015562 -0.012062  -0.003923  \n",
              "POS_counts_NNS     0.124398 -0.003564   0.039403  \n",
              "POS_counts_IN      0.186136 -0.019740   0.061117  \n",
              "POS_counts_NN      0.083089  0.000402   0.111928  \n",
              "POS_counts_JJS     0.001466  0.007313  -0.008991  \n",
              "POS_counts_PRP$   -0.013770 -0.030754   0.058818  \n",
              "POS_counts_JJR     0.038957 -0.004422  -0.007643  \n",
              "POS_counts_VBZ     0.007496 -0.019931  -0.004028  \n",
              "POS_counts_PRP    -0.017917 -0.002919   0.005176  \n",
              "thanks            -0.044155  0.094301  -0.048212  \n",
              "flight             0.085838 -0.002206   0.427835  \n",
              "hour               1.000000 -0.014653   0.034614  \n",
              "great             -0.014653  1.000000  -0.031739  \n",
              "cancelled          0.034614 -0.031739   1.000000  \n",
              "\n",
              "[45 rows x 45 columns]"
            ],
            "text/html": [
              "\n",
              "  <div id=\"df-caf813cf-c552-44d1-9518-840b55c8f17a\">\n",
              "    <div class=\"colab-df-container\">\n",
              "      <div>\n",
              "<style scoped>\n",
              "    .dataframe tbody tr th:only-of-type {\n",
              "        vertical-align: middle;\n",
              "    }\n",
              "\n",
              "    .dataframe tbody tr th {\n",
              "        vertical-align: top;\n",
              "    }\n",
              "\n",
              "    .dataframe thead th {\n",
              "        text-align: right;\n",
              "    }\n",
              "</style>\n",
              "<table border=\"1\" class=\"dataframe\">\n",
              "  <thead>\n",
              "    <tr style=\"text-align: right;\">\n",
              "      <th></th>\n",
              "      <th>airline_sentiment</th>\n",
              "      <th>tb_polarity</th>\n",
              "      <th>vader_compound</th>\n",
              "      <th>text_length</th>\n",
              "      <th>tweet_hour_11</th>\n",
              "      <th>tweet_hour_10</th>\n",
              "      <th>tweet_hour_23</th>\n",
              "      <th>tweet_hour_22</th>\n",
              "      <th>tweet_hour_0</th>\n",
              "      <th>tweet_hour_1</th>\n",
              "      <th>...</th>\n",
              "      <th>POS_counts_JJS</th>\n",
              "      <th>POS_counts_PRP$</th>\n",
              "      <th>POS_counts_JJR</th>\n",
              "      <th>POS_counts_VBZ</th>\n",
              "      <th>POS_counts_PRP</th>\n",
              "      <th>thanks</th>\n",
              "      <th>flight</th>\n",
              "      <th>hour</th>\n",
              "      <th>great</th>\n",
              "      <th>cancelled</th>\n",
              "    </tr>\n",
              "  </thead>\n",
              "  <tbody>\n",
              "    <tr>\n",
              "      <th>airline_sentiment</th>\n",
              "      <td>1.000000</td>\n",
              "      <td>0.362367</td>\n",
              "      <td>0.469233</td>\n",
              "      <td>-0.366621</td>\n",
              "      <td>0.014775</td>\n",
              "      <td>0.030926</td>\n",
              "      <td>-0.025472</td>\n",
              "      <td>-0.029125</td>\n",
              "      <td>-0.021124</td>\n",
              "      <td>-0.021173</td>\n",
              "      <td>...</td>\n",
              "      <td>0.008474</td>\n",
              "      <td>-0.129655</td>\n",
              "      <td>-0.048026</td>\n",
              "      <td>-0.138635</td>\n",
              "      <td>-0.053196</td>\n",
              "      <td>0.405447</td>\n",
              "      <td>-0.138532</td>\n",
              "      <td>-0.175673</td>\n",
              "      <td>0.179818</td>\n",
              "      <td>-0.131258</td>\n",
              "    </tr>\n",
              "    <tr>\n",
              "      <th>tb_polarity</th>\n",
              "      <td>0.362367</td>\n",
              "      <td>1.000000</td>\n",
              "      <td>0.565384</td>\n",
              "      <td>-0.078100</td>\n",
              "      <td>0.009552</td>\n",
              "      <td>0.025674</td>\n",
              "      <td>-0.021905</td>\n",
              "      <td>-0.018168</td>\n",
              "      <td>-0.019044</td>\n",
              "      <td>0.004315</td>\n",
              "      <td>...</td>\n",
              "      <td>-0.027023</td>\n",
              "      <td>-0.053565</td>\n",
              "      <td>0.025219</td>\n",
              "      <td>-0.066238</td>\n",
              "      <td>0.028188</td>\n",
              "      <td>0.165977</td>\n",
              "      <td>-0.051140</td>\n",
              "      <td>-0.072544</td>\n",
              "      <td>0.245938</td>\n",
              "      <td>-0.037950</td>\n",
              "    </tr>\n",
              "    <tr>\n",
              "      <th>vader_compound</th>\n",
              "      <td>0.469233</td>\n",
              "      <td>0.565384</td>\n",
              "      <td>1.000000</td>\n",
              "      <td>-0.128022</td>\n",
              "      <td>0.006226</td>\n",
              "      <td>0.018519</td>\n",
              "      <td>-0.015062</td>\n",
              "      <td>-0.005528</td>\n",
              "      <td>-0.005765</td>\n",
              "      <td>0.001000</td>\n",
              "      <td>...</td>\n",
              "      <td>-0.005645</td>\n",
              "      <td>-0.063463</td>\n",
              "      <td>0.014865</td>\n",
              "      <td>-0.073005</td>\n",
              "      <td>0.036747</td>\n",
              "      <td>0.341337</td>\n",
              "      <td>-0.135323</td>\n",
              "      <td>-0.085041</td>\n",
              "      <td>0.210587</td>\n",
              "      <td>-0.155779</td>\n",
              "    </tr>\n",
              "    <tr>\n",
              "      <th>text_length</th>\n",
              "      <td>-0.366621</td>\n",
              "      <td>-0.078100</td>\n",
              "      <td>-0.128022</td>\n",
              "      <td>1.000000</td>\n",
              "      <td>-0.022767</td>\n",
              "      <td>-0.031780</td>\n",
              "      <td>0.012004</td>\n",
              "      <td>0.022628</td>\n",
              "      <td>0.024030</td>\n",
              "      <td>0.014950</td>\n",
              "      <td>...</td>\n",
              "      <td>0.044630</td>\n",
              "      <td>0.292329</td>\n",
              "      <td>0.100323</td>\n",
              "      <td>0.234680</td>\n",
              "      <td>0.307145</td>\n",
              "      <td>-0.132331</td>\n",
              "      <td>0.269142</td>\n",
              "      <td>0.155129</td>\n",
              "      <td>-0.016413</td>\n",
              "      <td>0.159883</td>\n",
              "    </tr>\n",
              "    <tr>\n",
              "      <th>tweet_hour_11</th>\n",
              "      <td>0.014775</td>\n",
              "      <td>0.009552</td>\n",
              "      <td>0.006226</td>\n",
              "      <td>-0.022767</td>\n",
              "      <td>1.000000</td>\n",
              "      <td>-0.071266</td>\n",
              "      <td>-0.031060</td>\n",
              "      <td>-0.038336</td>\n",
              "      <td>-0.025534</td>\n",
              "      <td>-0.023488</td>\n",
              "      <td>...</td>\n",
              "      <td>-0.019479</td>\n",
              "      <td>0.004047</td>\n",
              "      <td>0.004741</td>\n",
              "      <td>-0.014252</td>\n",
              "      <td>-0.011985</td>\n",
              "      <td>0.009506</td>\n",
              "      <td>-0.004422</td>\n",
              "      <td>-0.017788</td>\n",
              "      <td>0.002312</td>\n",
              "      <td>0.002052</td>\n",
              "    </tr>\n",
              "    <tr>\n",
              "      <th>tweet_hour_10</th>\n",
              "      <td>0.030926</td>\n",
              "      <td>0.025674</td>\n",
              "      <td>0.018519</td>\n",
              "      <td>-0.031780</td>\n",
              "      <td>-0.071266</td>\n",
              "      <td>1.000000</td>\n",
              "      <td>-0.030653</td>\n",
              "      <td>-0.037833</td>\n",
              "      <td>-0.025200</td>\n",
              "      <td>-0.023180</td>\n",
              "      <td>...</td>\n",
              "      <td>-0.007769</td>\n",
              "      <td>-0.009948</td>\n",
              "      <td>0.003707</td>\n",
              "      <td>-0.014993</td>\n",
              "      <td>-0.023669</td>\n",
              "      <td>-0.007135</td>\n",
              "      <td>-0.023994</td>\n",
              "      <td>-0.007746</td>\n",
              "      <td>0.007086</td>\n",
              "      <td>-0.013518</td>\n",
              "    </tr>\n",
              "    <tr>\n",
              "      <th>tweet_hour_23</th>\n",
              "      <td>-0.025472</td>\n",
              "      <td>-0.021905</td>\n",
              "      <td>-0.015062</td>\n",
              "      <td>0.012004</td>\n",
              "      <td>-0.031060</td>\n",
              "      <td>-0.030653</td>\n",
              "      <td>1.000000</td>\n",
              "      <td>-0.016489</td>\n",
              "      <td>-0.010983</td>\n",
              "      <td>-0.010103</td>\n",
              "      <td>...</td>\n",
              "      <td>-0.003449</td>\n",
              "      <td>0.012914</td>\n",
              "      <td>-0.002777</td>\n",
              "      <td>-0.007897</td>\n",
              "      <td>0.016783</td>\n",
              "      <td>-0.013045</td>\n",
              "      <td>-0.002193</td>\n",
              "      <td>0.019231</td>\n",
              "      <td>0.003025</td>\n",
              "      <td>0.003949</td>\n",
              "    </tr>\n",
              "    <tr>\n",
              "      <th>tweet_hour_22</th>\n",
              "      <td>-0.029125</td>\n",
              "      <td>-0.018168</td>\n",
              "      <td>-0.005528</td>\n",
              "      <td>0.022628</td>\n",
              "      <td>-0.038336</td>\n",
              "      <td>-0.037833</td>\n",
              "      <td>-0.016489</td>\n",
              "      <td>1.000000</td>\n",
              "      <td>-0.013555</td>\n",
              "      <td>-0.012469</td>\n",
              "      <td>...</td>\n",
              "      <td>0.010772</td>\n",
              "      <td>0.016404</td>\n",
              "      <td>0.020528</td>\n",
              "      <td>-0.003223</td>\n",
              "      <td>0.001824</td>\n",
              "      <td>-0.001770</td>\n",
              "      <td>0.000853</td>\n",
              "      <td>0.016703</td>\n",
              "      <td>-0.011449</td>\n",
              "      <td>0.001609</td>\n",
              "    </tr>\n",
              "    <tr>\n",
              "      <th>tweet_hour_0</th>\n",
              "      <td>-0.021124</td>\n",
              "      <td>-0.019044</td>\n",
              "      <td>-0.005765</td>\n",
              "      <td>0.024030</td>\n",
              "      <td>-0.025534</td>\n",
              "      <td>-0.025200</td>\n",
              "      <td>-0.010983</td>\n",
              "      <td>-0.013555</td>\n",
              "      <td>1.000000</td>\n",
              "      <td>-0.008305</td>\n",
              "      <td>...</td>\n",
              "      <td>0.015437</td>\n",
              "      <td>0.011050</td>\n",
              "      <td>0.009370</td>\n",
              "      <td>0.000500</td>\n",
              "      <td>0.008893</td>\n",
              "      <td>-0.006566</td>\n",
              "      <td>0.003556</td>\n",
              "      <td>0.014129</td>\n",
              "      <td>0.000542</td>\n",
              "      <td>-0.000133</td>\n",
              "    </tr>\n",
              "    <tr>\n",
              "      <th>tweet_hour_1</th>\n",
              "      <td>-0.021173</td>\n",
              "      <td>0.004315</td>\n",
              "      <td>0.001000</td>\n",
              "      <td>0.014950</td>\n",
              "      <td>-0.023488</td>\n",
              "      <td>-0.023180</td>\n",
              "      <td>-0.010103</td>\n",
              "      <td>-0.012469</td>\n",
              "      <td>-0.008305</td>\n",
              "      <td>1.000000</td>\n",
              "      <td>...</td>\n",
              "      <td>0.004853</td>\n",
              "      <td>0.016874</td>\n",
              "      <td>0.006401</td>\n",
              "      <td>-0.006816</td>\n",
              "      <td>0.002335</td>\n",
              "      <td>-0.003975</td>\n",
              "      <td>-0.000019</td>\n",
              "      <td>-0.001061</td>\n",
              "      <td>-0.013129</td>\n",
              "      <td>-0.002066</td>\n",
              "    </tr>\n",
              "    <tr>\n",
              "      <th>tweet_hour_19</th>\n",
              "      <td>-0.033078</td>\n",
              "      <td>-0.020882</td>\n",
              "      <td>-0.020212</td>\n",
              "      <td>0.021426</td>\n",
              "      <td>-0.059080</td>\n",
              "      <td>-0.058305</td>\n",
              "      <td>-0.025411</td>\n",
              "      <td>-0.031364</td>\n",
              "      <td>-0.020890</td>\n",
              "      <td>-0.019217</td>\n",
              "      <td>...</td>\n",
              "      <td>0.003629</td>\n",
              "      <td>0.001402</td>\n",
              "      <td>-0.006717</td>\n",
              "      <td>0.000452</td>\n",
              "      <td>0.023336</td>\n",
              "      <td>-0.012966</td>\n",
              "      <td>0.003119</td>\n",
              "      <td>0.023691</td>\n",
              "      <td>-0.008631</td>\n",
              "      <td>-0.000788</td>\n",
              "    </tr>\n",
              "    <tr>\n",
              "      <th>POS_counts_RP</th>\n",
              "      <td>-0.070830</td>\n",
              "      <td>-0.023278</td>\n",
              "      <td>-0.026016</td>\n",
              "      <td>0.133941</td>\n",
              "      <td>-0.010623</td>\n",
              "      <td>-0.012229</td>\n",
              "      <td>0.008144</td>\n",
              "      <td>0.013534</td>\n",
              "      <td>-0.006480</td>\n",
              "      <td>-0.007168</td>\n",
              "      <td>...</td>\n",
              "      <td>-0.004866</td>\n",
              "      <td>0.006055</td>\n",
              "      <td>0.012217</td>\n",
              "      <td>0.030295</td>\n",
              "      <td>0.057132</td>\n",
              "      <td>-0.020134</td>\n",
              "      <td>0.018430</td>\n",
              "      <td>0.033239</td>\n",
              "      <td>-0.008221</td>\n",
              "      <td>-0.011752</td>\n",
              "    </tr>\n",
              "    <tr>\n",
              "      <th>POS_counts_RB</th>\n",
              "      <td>-0.159883</td>\n",
              "      <td>-0.048636</td>\n",
              "      <td>-0.047761</td>\n",
              "      <td>0.337485</td>\n",
              "      <td>-0.010627</td>\n",
              "      <td>-0.004356</td>\n",
              "      <td>0.001388</td>\n",
              "      <td>-0.000075</td>\n",
              "      <td>0.006883</td>\n",
              "      <td>0.006670</td>\n",
              "      <td>...</td>\n",
              "      <td>0.032241</td>\n",
              "      <td>0.065992</td>\n",
              "      <td>0.019094</td>\n",
              "      <td>0.085411</td>\n",
              "      <td>0.082634</td>\n",
              "      <td>-0.052541</td>\n",
              "      <td>0.018687</td>\n",
              "      <td>0.047594</td>\n",
              "      <td>-0.002831</td>\n",
              "      <td>-0.006620</td>\n",
              "    </tr>\n",
              "    <tr>\n",
              "      <th>POS_counts_VBN</th>\n",
              "      <td>-0.205718</td>\n",
              "      <td>-0.073049</td>\n",
              "      <td>-0.156305</td>\n",
              "      <td>0.303274</td>\n",
              "      <td>-0.008964</td>\n",
              "      <td>-0.018707</td>\n",
              "      <td>0.000457</td>\n",
              "      <td>0.008452</td>\n",
              "      <td>0.009256</td>\n",
              "      <td>0.015106</td>\n",
              "      <td>...</td>\n",
              "      <td>-0.003591</td>\n",
              "      <td>0.084283</td>\n",
              "      <td>0.001447</td>\n",
              "      <td>0.078047</td>\n",
              "      <td>-0.002824</td>\n",
              "      <td>-0.078231</td>\n",
              "      <td>0.188182</td>\n",
              "      <td>0.089335</td>\n",
              "      <td>-0.044032</td>\n",
              "      <td>0.316008</td>\n",
              "    </tr>\n",
              "    <tr>\n",
              "      <th>POS_counts_WP$</th>\n",
              "      <td>-0.020248</td>\n",
              "      <td>0.014888</td>\n",
              "      <td>-0.010377</td>\n",
              "      <td>0.010329</td>\n",
              "      <td>0.011350</td>\n",
              "      <td>0.002037</td>\n",
              "      <td>-0.003310</td>\n",
              "      <td>-0.004086</td>\n",
              "      <td>-0.002722</td>\n",
              "      <td>-0.002503</td>\n",
              "      <td>...</td>\n",
              "      <td>-0.005840</td>\n",
              "      <td>-0.001907</td>\n",
              "      <td>0.004710</td>\n",
              "      <td>-0.009170</td>\n",
              "      <td>-0.012813</td>\n",
              "      <td>-0.002726</td>\n",
              "      <td>0.008110</td>\n",
              "      <td>-0.008172</td>\n",
              "      <td>-0.004302</td>\n",
              "      <td>0.029853</td>\n",
              "    </tr>\n",
              "    <tr>\n",
              "      <th>POS_counts_CC</th>\n",
              "      <td>-0.153518</td>\n",
              "      <td>-0.041000</td>\n",
              "      <td>-0.059567</td>\n",
              "      <td>0.350515</td>\n",
              "      <td>-0.012307</td>\n",
              "      <td>-0.005534</td>\n",
              "      <td>0.012134</td>\n",
              "      <td>0.012860</td>\n",
              "      <td>0.004304</td>\n",
              "      <td>0.015884</td>\n",
              "      <td>...</td>\n",
              "      <td>-0.008048</td>\n",
              "      <td>0.105571</td>\n",
              "      <td>0.035580</td>\n",
              "      <td>0.069591</td>\n",
              "      <td>0.102362</td>\n",
              "      <td>-0.053164</td>\n",
              "      <td>0.046380</td>\n",
              "      <td>0.049215</td>\n",
              "      <td>0.000080</td>\n",
              "      <td>0.058993</td>\n",
              "    </tr>\n",
              "    <tr>\n",
              "      <th>POS_counts_VB</th>\n",
              "      <td>-0.133238</td>\n",
              "      <td>0.017476</td>\n",
              "      <td>0.015766</td>\n",
              "      <td>0.423981</td>\n",
              "      <td>0.003702</td>\n",
              "      <td>-0.024035</td>\n",
              "      <td>0.020868</td>\n",
              "      <td>0.006362</td>\n",
              "      <td>-0.007040</td>\n",
              "      <td>0.010486</td>\n",
              "      <td>...</td>\n",
              "      <td>-0.017158</td>\n",
              "      <td>0.090635</td>\n",
              "      <td>0.047294</td>\n",
              "      <td>-0.008945</td>\n",
              "      <td>0.236497</td>\n",
              "      <td>-0.106953</td>\n",
              "      <td>0.079368</td>\n",
              "      <td>0.015339</td>\n",
              "      <td>-0.030405</td>\n",
              "      <td>0.064648</td>\n",
              "    </tr>\n",
              "    <tr>\n",
              "      <th>POS_counts_DT</th>\n",
              "      <td>-0.169027</td>\n",
              "      <td>-0.037818</td>\n",
              "      <td>-0.056893</td>\n",
              "      <td>0.487760</td>\n",
              "      <td>-0.008254</td>\n",
              "      <td>-0.013722</td>\n",
              "      <td>0.007483</td>\n",
              "      <td>0.004920</td>\n",
              "      <td>0.018443</td>\n",
              "      <td>0.001368</td>\n",
              "      <td>...</td>\n",
              "      <td>0.067672</td>\n",
              "      <td>-0.034853</td>\n",
              "      <td>0.048570</td>\n",
              "      <td>0.189008</td>\n",
              "      <td>0.058895</td>\n",
              "      <td>-0.062243</td>\n",
              "      <td>0.079909</td>\n",
              "      <td>0.102329</td>\n",
              "      <td>-0.002218</td>\n",
              "      <td>0.004332</td>\n",
              "    </tr>\n",
              "    <tr>\n",
              "      <th>POS_counts_NNP</th>\n",
              "      <td>-0.001307</td>\n",
              "      <td>-0.003554</td>\n",
              "      <td>0.003866</td>\n",
              "      <td>0.017516</td>\n",
              "      <td>0.011350</td>\n",
              "      <td>0.002037</td>\n",
              "      <td>0.017616</td>\n",
              "      <td>-0.004086</td>\n",
              "      <td>-0.002722</td>\n",
              "      <td>-0.002503</td>\n",
              "      <td>...</td>\n",
              "      <td>0.005615</td>\n",
              "      <td>-0.001907</td>\n",
              "      <td>-0.006031</td>\n",
              "      <td>0.006384</td>\n",
              "      <td>-0.000253</td>\n",
              "      <td>0.004798</td>\n",
              "      <td>-0.007696</td>\n",
              "      <td>0.000875</td>\n",
              "      <td>-0.004302</td>\n",
              "      <td>0.001613</td>\n",
              "    </tr>\n",
              "    <tr>\n",
              "      <th>POS_counts_CD</th>\n",
              "      <td>-0.202097</td>\n",
              "      <td>-0.073650</td>\n",
              "      <td>-0.120911</td>\n",
              "      <td>0.315353</td>\n",
              "      <td>-0.001056</td>\n",
              "      <td>-0.012962</td>\n",
              "      <td>-0.001633</td>\n",
              "      <td>0.014464</td>\n",
              "      <td>0.008290</td>\n",
              "      <td>0.007770</td>\n",
              "      <td>...</td>\n",
              "      <td>-0.016284</td>\n",
              "      <td>-0.021593</td>\n",
              "      <td>0.033176</td>\n",
              "      <td>0.023772</td>\n",
              "      <td>-0.046513</td>\n",
              "      <td>-0.106173</td>\n",
              "      <td>0.205279</td>\n",
              "      <td>0.228455</td>\n",
              "      <td>-0.031943</td>\n",
              "      <td>0.073120</td>\n",
              "    </tr>\n",
              "    <tr>\n",
              "      <th>POS_counts_UH</th>\n",
              "      <td>0.029207</td>\n",
              "      <td>0.017853</td>\n",
              "      <td>0.044505</td>\n",
              "      <td>-0.013567</td>\n",
              "      <td>0.000393</td>\n",
              "      <td>0.017778</td>\n",
              "      <td>-0.007049</td>\n",
              "      <td>-0.001180</td>\n",
              "      <td>-0.005795</td>\n",
              "      <td>0.031037</td>\n",
              "      <td>...</td>\n",
              "      <td>-0.007390</td>\n",
              "      <td>0.004890</td>\n",
              "      <td>0.006086</td>\n",
              "      <td>-0.013816</td>\n",
              "      <td>-0.009946</td>\n",
              "      <td>0.004692</td>\n",
              "      <td>-0.022578</td>\n",
              "      <td>0.006513</td>\n",
              "      <td>0.005157</td>\n",
              "      <td>-0.012464</td>\n",
              "    </tr>\n",
              "    <tr>\n",
              "      <th>POS_counts_WDT</th>\n",
              "      <td>-0.054960</td>\n",
              "      <td>-0.009766</td>\n",
              "      <td>-0.028173</td>\n",
              "      <td>0.109949</td>\n",
              "      <td>0.008005</td>\n",
              "      <td>-0.015075</td>\n",
              "      <td>0.012124</td>\n",
              "      <td>0.003133</td>\n",
              "      <td>0.011986</td>\n",
              "      <td>-0.000387</td>\n",
              "      <td>...</td>\n",
              "      <td>-0.023842</td>\n",
              "      <td>-0.005532</td>\n",
              "      <td>0.014003</td>\n",
              "      <td>0.098608</td>\n",
              "      <td>0.013672</td>\n",
              "      <td>-0.016064</td>\n",
              "      <td>0.028526</td>\n",
              "      <td>0.007228</td>\n",
              "      <td>-0.002217</td>\n",
              "      <td>0.026290</td>\n",
              "    </tr>\n",
              "    <tr>\n",
              "      <th>POS_counts_WP</th>\n",
              "      <td>-0.053369</td>\n",
              "      <td>-0.002704</td>\n",
              "      <td>-0.014365</td>\n",
              "      <td>0.081255</td>\n",
              "      <td>-0.003336</td>\n",
              "      <td>-0.001781</td>\n",
              "      <td>0.001593</td>\n",
              "      <td>-0.006350</td>\n",
              "      <td>0.009793</td>\n",
              "      <td>-0.001703</td>\n",
              "      <td>...</td>\n",
              "      <td>-0.012867</td>\n",
              "      <td>0.015910</td>\n",
              "      <td>-0.016730</td>\n",
              "      <td>0.119119</td>\n",
              "      <td>0.032103</td>\n",
              "      <td>-0.033293</td>\n",
              "      <td>0.002284</td>\n",
              "      <td>-0.002981</td>\n",
              "      <td>0.000007</td>\n",
              "      <td>0.009427</td>\n",
              "    </tr>\n",
              "    <tr>\n",
              "      <th>POS_counts_WRB</th>\n",
              "      <td>-0.121971</td>\n",
              "      <td>-0.020127</td>\n",
              "      <td>-0.062286</td>\n",
              "      <td>0.162441</td>\n",
              "      <td>0.020147</td>\n",
              "      <td>-0.012833</td>\n",
              "      <td>0.005995</td>\n",
              "      <td>0.021719</td>\n",
              "      <td>0.002933</td>\n",
              "      <td>0.011128</td>\n",
              "      <td>...</td>\n",
              "      <td>-0.013586</td>\n",
              "      <td>0.040229</td>\n",
              "      <td>0.001970</td>\n",
              "      <td>0.088869</td>\n",
              "      <td>0.098466</td>\n",
              "      <td>-0.076378</td>\n",
              "      <td>0.039728</td>\n",
              "      <td>0.003170</td>\n",
              "      <td>-0.033819</td>\n",
              "      <td>0.015984</td>\n",
              "    </tr>\n",
              "    <tr>\n",
              "      <th>POS_counts_TO</th>\n",
              "      <td>-0.123431</td>\n",
              "      <td>0.004362</td>\n",
              "      <td>-0.042587</td>\n",
              "      <td>0.412186</td>\n",
              "      <td>-0.018302</td>\n",
              "      <td>-0.017742</td>\n",
              "      <td>0.009433</td>\n",
              "      <td>-0.003138</td>\n",
              "      <td>-0.002426</td>\n",
              "      <td>0.021892</td>\n",
              "      <td>...</td>\n",
              "      <td>-0.026609</td>\n",
              "      <td>0.084833</td>\n",
              "      <td>0.033070</td>\n",
              "      <td>0.025316</td>\n",
              "      <td>0.088363</td>\n",
              "      <td>-0.078343</td>\n",
              "      <td>0.127104</td>\n",
              "      <td>0.038481</td>\n",
              "      <td>-0.023600</td>\n",
              "      <td>0.075130</td>\n",
              "    </tr>\n",
              "    <tr>\n",
              "      <th>POS_counts_JJ</th>\n",
              "      <td>-0.084066</td>\n",
              "      <td>0.016922</td>\n",
              "      <td>-0.010252</td>\n",
              "      <td>0.403520</td>\n",
              "      <td>-0.006600</td>\n",
              "      <td>-0.003161</td>\n",
              "      <td>0.002391</td>\n",
              "      <td>0.005035</td>\n",
              "      <td>0.019381</td>\n",
              "      <td>-0.008205</td>\n",
              "      <td>...</td>\n",
              "      <td>-0.007267</td>\n",
              "      <td>0.056467</td>\n",
              "      <td>-0.000320</td>\n",
              "      <td>0.108912</td>\n",
              "      <td>-0.020956</td>\n",
              "      <td>-0.043953</td>\n",
              "      <td>0.124109</td>\n",
              "      <td>-0.000697</td>\n",
              "      <td>0.110703</td>\n",
              "      <td>0.076969</td>\n",
              "    </tr>\n",
              "    <tr>\n",
              "      <th>POS_counts_VBG</th>\n",
              "      <td>-0.121887</td>\n",
              "      <td>-0.044012</td>\n",
              "      <td>-0.051731</td>\n",
              "      <td>0.249682</td>\n",
              "      <td>-0.004375</td>\n",
              "      <td>-0.012220</td>\n",
              "      <td>-0.003001</td>\n",
              "      <td>0.000715</td>\n",
              "      <td>0.004904</td>\n",
              "      <td>0.001301</td>\n",
              "      <td>...</td>\n",
              "      <td>0.006230</td>\n",
              "      <td>0.044714</td>\n",
              "      <td>0.012279</td>\n",
              "      <td>0.048450</td>\n",
              "      <td>0.025368</td>\n",
              "      <td>-0.007303</td>\n",
              "      <td>0.071281</td>\n",
              "      <td>0.061397</td>\n",
              "      <td>-0.002409</td>\n",
              "      <td>0.009654</td>\n",
              "    </tr>\n",
              "    <tr>\n",
              "      <th>POS_counts_EX</th>\n",
              "      <td>-0.032449</td>\n",
              "      <td>-0.003831</td>\n",
              "      <td>-0.008194</td>\n",
              "      <td>0.093772</td>\n",
              "      <td>0.000137</td>\n",
              "      <td>-0.000536</td>\n",
              "      <td>-0.003268</td>\n",
              "      <td>-0.007229</td>\n",
              "      <td>-0.001402</td>\n",
              "      <td>0.005850</td>\n",
              "      <td>...</td>\n",
              "      <td>-0.003506</td>\n",
              "      <td>-0.014285</td>\n",
              "      <td>0.024250</td>\n",
              "      <td>0.113909</td>\n",
              "      <td>0.001963</td>\n",
              "      <td>-0.020088</td>\n",
              "      <td>0.011529</td>\n",
              "      <td>0.008289</td>\n",
              "      <td>-0.012038</td>\n",
              "      <td>-0.002598</td>\n",
              "    </tr>\n",
              "    <tr>\n",
              "      <th>POS_counts_RBR</th>\n",
              "      <td>-0.018236</td>\n",
              "      <td>0.012918</td>\n",
              "      <td>0.017159</td>\n",
              "      <td>0.061974</td>\n",
              "      <td>0.002786</td>\n",
              "      <td>0.011404</td>\n",
              "      <td>0.004905</td>\n",
              "      <td>0.000734</td>\n",
              "      <td>0.002045</td>\n",
              "      <td>0.004391</td>\n",
              "      <td>...</td>\n",
              "      <td>0.001549</td>\n",
              "      <td>-0.002820</td>\n",
              "      <td>0.030871</td>\n",
              "      <td>0.022984</td>\n",
              "      <td>0.014040</td>\n",
              "      <td>0.001615</td>\n",
              "      <td>-0.002763</td>\n",
              "      <td>-0.003296</td>\n",
              "      <td>0.001948</td>\n",
              "      <td>-0.001925</td>\n",
              "    </tr>\n",
              "    <tr>\n",
              "      <th>POS_counts_VBD</th>\n",
              "      <td>-0.136311</td>\n",
              "      <td>-0.042141</td>\n",
              "      <td>-0.099908</td>\n",
              "      <td>0.353081</td>\n",
              "      <td>-0.000153</td>\n",
              "      <td>-0.004365</td>\n",
              "      <td>0.013758</td>\n",
              "      <td>0.024086</td>\n",
              "      <td>0.000104</td>\n",
              "      <td>0.011036</td>\n",
              "      <td>...</td>\n",
              "      <td>-0.012516</td>\n",
              "      <td>0.100494</td>\n",
              "      <td>0.001580</td>\n",
              "      <td>-0.094776</td>\n",
              "      <td>0.189354</td>\n",
              "      <td>-0.049581</td>\n",
              "      <td>0.154765</td>\n",
              "      <td>0.040638</td>\n",
              "      <td>-0.019514</td>\n",
              "      <td>0.183672</td>\n",
              "    </tr>\n",
              "    <tr>\n",
              "      <th>POS_counts_VBP</th>\n",
              "      <td>-0.099953</td>\n",
              "      <td>0.006624</td>\n",
              "      <td>-0.006156</td>\n",
              "      <td>0.317337</td>\n",
              "      <td>-0.011405</td>\n",
              "      <td>-0.010829</td>\n",
              "      <td>0.001179</td>\n",
              "      <td>0.001461</td>\n",
              "      <td>0.022172</td>\n",
              "      <td>-0.000204</td>\n",
              "      <td>...</td>\n",
              "      <td>0.023044</td>\n",
              "      <td>0.070192</td>\n",
              "      <td>0.032860</td>\n",
              "      <td>0.000036</td>\n",
              "      <td>0.282332</td>\n",
              "      <td>-0.042961</td>\n",
              "      <td>-0.009098</td>\n",
              "      <td>-0.014358</td>\n",
              "      <td>-0.027684</td>\n",
              "      <td>0.011524</td>\n",
              "    </tr>\n",
              "    <tr>\n",
              "      <th>POS_counts_MD</th>\n",
              "      <td>-0.036429</td>\n",
              "      <td>0.042612</td>\n",
              "      <td>0.069871</td>\n",
              "      <td>0.194506</td>\n",
              "      <td>-0.000718</td>\n",
              "      <td>-0.006990</td>\n",
              "      <td>-0.003976</td>\n",
              "      <td>0.002899</td>\n",
              "      <td>-0.006600</td>\n",
              "      <td>0.000348</td>\n",
              "      <td>...</td>\n",
              "      <td>-0.006253</td>\n",
              "      <td>0.021351</td>\n",
              "      <td>0.037418</td>\n",
              "      <td>-0.039122</td>\n",
              "      <td>0.199128</td>\n",
              "      <td>-0.042871</td>\n",
              "      <td>-0.003874</td>\n",
              "      <td>-0.015562</td>\n",
              "      <td>-0.012062</td>\n",
              "      <td>-0.003923</td>\n",
              "    </tr>\n",
              "    <tr>\n",
              "      <th>POS_counts_NNS</th>\n",
              "      <td>-0.090254</td>\n",
              "      <td>-0.013654</td>\n",
              "      <td>-0.006727</td>\n",
              "      <td>0.282949</td>\n",
              "      <td>0.003783</td>\n",
              "      <td>-0.007519</td>\n",
              "      <td>0.007953</td>\n",
              "      <td>0.014368</td>\n",
              "      <td>0.011343</td>\n",
              "      <td>-0.002738</td>\n",
              "      <td>...</td>\n",
              "      <td>0.005018</td>\n",
              "      <td>0.070239</td>\n",
              "      <td>0.067265</td>\n",
              "      <td>-0.018757</td>\n",
              "      <td>-0.038824</td>\n",
              "      <td>0.095956</td>\n",
              "      <td>0.087450</td>\n",
              "      <td>0.124398</td>\n",
              "      <td>-0.003564</td>\n",
              "      <td>0.039403</td>\n",
              "    </tr>\n",
              "    <tr>\n",
              "      <th>POS_counts_IN</th>\n",
              "      <td>-0.207997</td>\n",
              "      <td>-0.053917</td>\n",
              "      <td>-0.075590</td>\n",
              "      <td>0.583524</td>\n",
              "      <td>-0.023510</td>\n",
              "      <td>-0.016419</td>\n",
              "      <td>-0.002949</td>\n",
              "      <td>0.013948</td>\n",
              "      <td>0.015313</td>\n",
              "      <td>0.017039</td>\n",
              "      <td>...</td>\n",
              "      <td>0.017944</td>\n",
              "      <td>0.116446</td>\n",
              "      <td>0.059462</td>\n",
              "      <td>0.046921</td>\n",
              "      <td>0.105969</td>\n",
              "      <td>-0.059220</td>\n",
              "      <td>0.159231</td>\n",
              "      <td>0.186136</td>\n",
              "      <td>-0.019740</td>\n",
              "      <td>0.061117</td>\n",
              "    </tr>\n",
              "    <tr>\n",
              "      <th>POS_counts_NN</th>\n",
              "      <td>-0.218530</td>\n",
              "      <td>-0.077491</td>\n",
              "      <td>-0.101718</td>\n",
              "      <td>0.668304</td>\n",
              "      <td>-0.023107</td>\n",
              "      <td>-0.013500</td>\n",
              "      <td>-0.001315</td>\n",
              "      <td>0.015902</td>\n",
              "      <td>0.016918</td>\n",
              "      <td>0.001228</td>\n",
              "      <td>...</td>\n",
              "      <td>0.005878</td>\n",
              "      <td>0.212982</td>\n",
              "      <td>0.026186</td>\n",
              "      <td>0.129176</td>\n",
              "      <td>-0.014158</td>\n",
              "      <td>-0.105862</td>\n",
              "      <td>0.260874</td>\n",
              "      <td>0.083089</td>\n",
              "      <td>0.000402</td>\n",
              "      <td>0.111928</td>\n",
              "    </tr>\n",
              "    <tr>\n",
              "      <th>POS_counts_JJS</th>\n",
              "      <td>0.008474</td>\n",
              "      <td>-0.027023</td>\n",
              "      <td>-0.005645</td>\n",
              "      <td>0.044630</td>\n",
              "      <td>-0.019479</td>\n",
              "      <td>-0.007769</td>\n",
              "      <td>-0.003449</td>\n",
              "      <td>0.010772</td>\n",
              "      <td>0.015437</td>\n",
              "      <td>0.004853</td>\n",
              "      <td>...</td>\n",
              "      <td>1.000000</td>\n",
              "      <td>-0.008394</td>\n",
              "      <td>-0.007528</td>\n",
              "      <td>0.034769</td>\n",
              "      <td>0.014240</td>\n",
              "      <td>-0.007867</td>\n",
              "      <td>-0.012575</td>\n",
              "      <td>0.001466</td>\n",
              "      <td>0.007313</td>\n",
              "      <td>-0.008991</td>\n",
              "    </tr>\n",
              "    <tr>\n",
              "      <th>POS_counts_PRP$</th>\n",
              "      <td>-0.129655</td>\n",
              "      <td>-0.053565</td>\n",
              "      <td>-0.063463</td>\n",
              "      <td>0.292329</td>\n",
              "      <td>0.004047</td>\n",
              "      <td>-0.009948</td>\n",
              "      <td>0.012914</td>\n",
              "      <td>0.016404</td>\n",
              "      <td>0.011050</td>\n",
              "      <td>0.016874</td>\n",
              "      <td>...</td>\n",
              "      <td>-0.008394</td>\n",
              "      <td>1.000000</td>\n",
              "      <td>-0.017795</td>\n",
              "      <td>0.073882</td>\n",
              "      <td>0.060541</td>\n",
              "      <td>-0.033096</td>\n",
              "      <td>0.095314</td>\n",
              "      <td>-0.013770</td>\n",
              "      <td>-0.030754</td>\n",
              "      <td>0.058818</td>\n",
              "    </tr>\n",
              "    <tr>\n",
              "      <th>POS_counts_JJR</th>\n",
              "      <td>-0.048026</td>\n",
              "      <td>0.025219</td>\n",
              "      <td>0.014865</td>\n",
              "      <td>0.100323</td>\n",
              "      <td>0.004741</td>\n",
              "      <td>0.003707</td>\n",
              "      <td>-0.002777</td>\n",
              "      <td>0.020528</td>\n",
              "      <td>0.009370</td>\n",
              "      <td>0.006401</td>\n",
              "      <td>...</td>\n",
              "      <td>-0.007528</td>\n",
              "      <td>-0.017795</td>\n",
              "      <td>1.000000</td>\n",
              "      <td>0.015634</td>\n",
              "      <td>0.019246</td>\n",
              "      <td>-0.022057</td>\n",
              "      <td>0.021342</td>\n",
              "      <td>0.038957</td>\n",
              "      <td>-0.004422</td>\n",
              "      <td>-0.007643</td>\n",
              "    </tr>\n",
              "    <tr>\n",
              "      <th>POS_counts_VBZ</th>\n",
              "      <td>-0.138635</td>\n",
              "      <td>-0.066238</td>\n",
              "      <td>-0.073005</td>\n",
              "      <td>0.234680</td>\n",
              "      <td>-0.014252</td>\n",
              "      <td>-0.014993</td>\n",
              "      <td>-0.007897</td>\n",
              "      <td>-0.003223</td>\n",
              "      <td>0.000500</td>\n",
              "      <td>-0.006816</td>\n",
              "      <td>...</td>\n",
              "      <td>0.034769</td>\n",
              "      <td>0.073882</td>\n",
              "      <td>0.015634</td>\n",
              "      <td>1.000000</td>\n",
              "      <td>0.042579</td>\n",
              "      <td>-0.086507</td>\n",
              "      <td>0.025950</td>\n",
              "      <td>0.007496</td>\n",
              "      <td>-0.019931</td>\n",
              "      <td>-0.004028</td>\n",
              "    </tr>\n",
              "    <tr>\n",
              "      <th>POS_counts_PRP</th>\n",
              "      <td>-0.053196</td>\n",
              "      <td>0.028188</td>\n",
              "      <td>0.036747</td>\n",
              "      <td>0.307145</td>\n",
              "      <td>-0.011985</td>\n",
              "      <td>-0.023669</td>\n",
              "      <td>0.016783</td>\n",
              "      <td>0.001824</td>\n",
              "      <td>0.008893</td>\n",
              "      <td>0.002335</td>\n",
              "      <td>...</td>\n",
              "      <td>0.014240</td>\n",
              "      <td>0.060541</td>\n",
              "      <td>0.019246</td>\n",
              "      <td>0.042579</td>\n",
              "      <td>1.000000</td>\n",
              "      <td>0.059717</td>\n",
              "      <td>-0.027765</td>\n",
              "      <td>-0.017917</td>\n",
              "      <td>-0.002919</td>\n",
              "      <td>0.005176</td>\n",
              "    </tr>\n",
              "    <tr>\n",
              "      <th>thanks</th>\n",
              "      <td>0.405447</td>\n",
              "      <td>0.165977</td>\n",
              "      <td>0.341337</td>\n",
              "      <td>-0.132331</td>\n",
              "      <td>0.009506</td>\n",
              "      <td>-0.007135</td>\n",
              "      <td>-0.013045</td>\n",
              "      <td>-0.001770</td>\n",
              "      <td>-0.006566</td>\n",
              "      <td>-0.003975</td>\n",
              "      <td>...</td>\n",
              "      <td>-0.007867</td>\n",
              "      <td>-0.033096</td>\n",
              "      <td>-0.022057</td>\n",
              "      <td>-0.086507</td>\n",
              "      <td>0.059717</td>\n",
              "      <td>1.000000</td>\n",
              "      <td>-0.065735</td>\n",
              "      <td>-0.044155</td>\n",
              "      <td>0.094301</td>\n",
              "      <td>-0.048212</td>\n",
              "    </tr>\n",
              "    <tr>\n",
              "      <th>flight</th>\n",
              "      <td>-0.138532</td>\n",
              "      <td>-0.051140</td>\n",
              "      <td>-0.135323</td>\n",
              "      <td>0.269142</td>\n",
              "      <td>-0.004422</td>\n",
              "      <td>-0.023994</td>\n",
              "      <td>-0.002193</td>\n",
              "      <td>0.000853</td>\n",
              "      <td>0.003556</td>\n",
              "      <td>-0.000019</td>\n",
              "      <td>...</td>\n",
              "      <td>-0.012575</td>\n",
              "      <td>0.095314</td>\n",
              "      <td>0.021342</td>\n",
              "      <td>0.025950</td>\n",
              "      <td>-0.027765</td>\n",
              "      <td>-0.065735</td>\n",
              "      <td>1.000000</td>\n",
              "      <td>0.085838</td>\n",
              "      <td>-0.002206</td>\n",
              "      <td>0.427835</td>\n",
              "    </tr>\n",
              "    <tr>\n",
              "      <th>hour</th>\n",
              "      <td>-0.175673</td>\n",
              "      <td>-0.072544</td>\n",
              "      <td>-0.085041</td>\n",
              "      <td>0.155129</td>\n",
              "      <td>-0.017788</td>\n",
              "      <td>-0.007746</td>\n",
              "      <td>0.019231</td>\n",
              "      <td>0.016703</td>\n",
              "      <td>0.014129</td>\n",
              "      <td>-0.001061</td>\n",
              "      <td>...</td>\n",
              "      <td>0.001466</td>\n",
              "      <td>-0.013770</td>\n",
              "      <td>0.038957</td>\n",
              "      <td>0.007496</td>\n",
              "      <td>-0.017917</td>\n",
              "      <td>-0.044155</td>\n",
              "      <td>0.085838</td>\n",
              "      <td>1.000000</td>\n",
              "      <td>-0.014653</td>\n",
              "      <td>0.034614</td>\n",
              "    </tr>\n",
              "    <tr>\n",
              "      <th>great</th>\n",
              "      <td>0.179818</td>\n",
              "      <td>0.245938</td>\n",
              "      <td>0.210587</td>\n",
              "      <td>-0.016413</td>\n",
              "      <td>0.002312</td>\n",
              "      <td>0.007086</td>\n",
              "      <td>0.003025</td>\n",
              "      <td>-0.011449</td>\n",
              "      <td>0.000542</td>\n",
              "      <td>-0.013129</td>\n",
              "      <td>...</td>\n",
              "      <td>0.007313</td>\n",
              "      <td>-0.030754</td>\n",
              "      <td>-0.004422</td>\n",
              "      <td>-0.019931</td>\n",
              "      <td>-0.002919</td>\n",
              "      <td>0.094301</td>\n",
              "      <td>-0.002206</td>\n",
              "      <td>-0.014653</td>\n",
              "      <td>1.000000</td>\n",
              "      <td>-0.031739</td>\n",
              "    </tr>\n",
              "    <tr>\n",
              "      <th>cancelled</th>\n",
              "      <td>-0.131258</td>\n",
              "      <td>-0.037950</td>\n",
              "      <td>-0.155779</td>\n",
              "      <td>0.159883</td>\n",
              "      <td>0.002052</td>\n",
              "      <td>-0.013518</td>\n",
              "      <td>0.003949</td>\n",
              "      <td>0.001609</td>\n",
              "      <td>-0.000133</td>\n",
              "      <td>-0.002066</td>\n",
              "      <td>...</td>\n",
              "      <td>-0.008991</td>\n",
              "      <td>0.058818</td>\n",
              "      <td>-0.007643</td>\n",
              "      <td>-0.004028</td>\n",
              "      <td>0.005176</td>\n",
              "      <td>-0.048212</td>\n",
              "      <td>0.427835</td>\n",
              "      <td>0.034614</td>\n",
              "      <td>-0.031739</td>\n",
              "      <td>1.000000</td>\n",
              "    </tr>\n",
              "  </tbody>\n",
              "</table>\n",
              "<p>45 rows × 45 columns</p>\n",
              "</div>\n",
              "      <button class=\"colab-df-convert\" onclick=\"convertToInteractive('df-caf813cf-c552-44d1-9518-840b55c8f17a')\"\n",
              "              title=\"Convert this dataframe to an interactive table.\"\n",
              "              style=\"display:none;\">\n",
              "        \n",
              "  <svg xmlns=\"http://www.w3.org/2000/svg\" height=\"24px\"viewBox=\"0 0 24 24\"\n",
              "       width=\"24px\">\n",
              "    <path d=\"M0 0h24v24H0V0z\" fill=\"none\"/>\n",
              "    <path d=\"M18.56 5.44l.94 2.06.94-2.06 2.06-.94-2.06-.94-.94-2.06-.94 2.06-2.06.94zm-11 1L8.5 8.5l.94-2.06 2.06-.94-2.06-.94L8.5 2.5l-.94 2.06-2.06.94zm10 10l.94 2.06.94-2.06 2.06-.94-2.06-.94-.94-2.06-.94 2.06-2.06.94z\"/><path d=\"M17.41 7.96l-1.37-1.37c-.4-.4-.92-.59-1.43-.59-.52 0-1.04.2-1.43.59L10.3 9.45l-7.72 7.72c-.78.78-.78 2.05 0 2.83L4 21.41c.39.39.9.59 1.41.59.51 0 1.02-.2 1.41-.59l7.78-7.78 2.81-2.81c.8-.78.8-2.07 0-2.86zM5.41 20L4 18.59l7.72-7.72 1.47 1.35L5.41 20z\"/>\n",
              "  </svg>\n",
              "      </button>\n",
              "      \n",
              "  <style>\n",
              "    .colab-df-container {\n",
              "      display:flex;\n",
              "      flex-wrap:wrap;\n",
              "      gap: 12px;\n",
              "    }\n",
              "\n",
              "    .colab-df-convert {\n",
              "      background-color: #E8F0FE;\n",
              "      border: none;\n",
              "      border-radius: 50%;\n",
              "      cursor: pointer;\n",
              "      display: none;\n",
              "      fill: #1967D2;\n",
              "      height: 32px;\n",
              "      padding: 0 0 0 0;\n",
              "      width: 32px;\n",
              "    }\n",
              "\n",
              "    .colab-df-convert:hover {\n",
              "      background-color: #E2EBFA;\n",
              "      box-shadow: 0px 1px 2px rgba(60, 64, 67, 0.3), 0px 1px 3px 1px rgba(60, 64, 67, 0.15);\n",
              "      fill: #174EA6;\n",
              "    }\n",
              "\n",
              "    [theme=dark] .colab-df-convert {\n",
              "      background-color: #3B4455;\n",
              "      fill: #D2E3FC;\n",
              "    }\n",
              "\n",
              "    [theme=dark] .colab-df-convert:hover {\n",
              "      background-color: #434B5C;\n",
              "      box-shadow: 0px 1px 3px 1px rgba(0, 0, 0, 0.15);\n",
              "      filter: drop-shadow(0px 1px 2px rgba(0, 0, 0, 0.3));\n",
              "      fill: #FFFFFF;\n",
              "    }\n",
              "  </style>\n",
              "\n",
              "      <script>\n",
              "        const buttonEl =\n",
              "          document.querySelector('#df-caf813cf-c552-44d1-9518-840b55c8f17a button.colab-df-convert');\n",
              "        buttonEl.style.display =\n",
              "          google.colab.kernel.accessAllowed ? 'block' : 'none';\n",
              "\n",
              "        async function convertToInteractive(key) {\n",
              "          const element = document.querySelector('#df-caf813cf-c552-44d1-9518-840b55c8f17a');\n",
              "          const dataTable =\n",
              "            await google.colab.kernel.invokeFunction('convertToInteractive',\n",
              "                                                     [key], {});\n",
              "          if (!dataTable) return;\n",
              "\n",
              "          const docLinkHtml = 'Like what you see? Visit the ' +\n",
              "            '<a target=\"_blank\" href=https://colab.research.google.com/notebooks/data_table.ipynb>data table notebook</a>'\n",
              "            + ' to learn more about interactive tables.';\n",
              "          element.innerHTML = '';\n",
              "          dataTable['output_type'] = 'display_data';\n",
              "          await google.colab.output.renderOutput(dataTable, element);\n",
              "          const docLink = document.createElement('div');\n",
              "          docLink.innerHTML = docLinkHtml;\n",
              "          element.appendChild(docLink);\n",
              "        }\n",
              "      </script>\n",
              "    </div>\n",
              "  </div>\n",
              "  "
            ]
          },
          "metadata": {},
          "execution_count": 331
        }
      ]
    },
    {
      "cell_type": "code",
      "source": [
        "## check if variables are correlated\n",
        "\n",
        "plt.subplots(figsize=(12,14))\n",
        "sns.heatmap(final_df.corr(), annot = False, fmt = '.0%') ##no pair appears to be strongly correlated"
      ],
      "metadata": {
        "colab": {
          "base_uri": "https://localhost:8080/",
          "height": 910
        },
        "id": "a3xM5d8KHRli",
        "outputId": "fc4f4676-08d1-45d0-9f40-b7f64f8be12a"
      },
      "execution_count": null,
      "outputs": [
        {
          "output_type": "execute_result",
          "data": {
            "text/plain": [
              "<matplotlib.axes._subplots.AxesSubplot at 0x7f104e7f2290>"
            ]
          },
          "metadata": {},
          "execution_count": 332
        },
        {
          "output_type": "display_data",
          "data": {
            "text/plain": [
              "<Figure size 864x1008 with 2 Axes>"
            ],
            "image/png": "[encoded data removed]"
          },
          "metadata": {
            "needs_background": "light"
          }
        }
      ]
    },
    {
      "cell_type": "code",
      "source": [
        "final_df.drop(columns = ['airline_sentiment']).corrwith(final_df.airline_sentiment).plot.bar(figsize=(20,10),\n",
        "              title = 'Correlation with Response variable',\n",
        "              fontsize = 15, rot = 45,\n",
        "              grid = True);"
      ],
      "metadata": {
        "colab": {
          "base_uri": "https://localhost:8080/",
          "height": 703
        },
        "id": "Vw5QDRqGJFQ_",
        "outputId": "67182fc4-1af1-465e-f122-22557d1d6fa8"
      },
      "execution_count": null,
      "outputs": [
        {
          "output_type": "display_data",
          "data": {
            "text/plain": [
              "<Figure size 1440x720 with 1 Axes>"
            ],
            "image/png": "[encoded data removed]"
          },
          "metadata": {
            "needs_background": "light"
          }
        }
      ]
    },
    {
      "cell_type": "code",
      "source": [
        "x_cols = final_df.columns.unique().drop('airline_sentiment')"
      ],
      "metadata": {
        "id": "GFCS6-nXW377"
      },
      "execution_count": null,
      "outputs": []
    },
    {
      "cell_type": "code",
      "source": [
        "## Split the data into training and testing sets\n",
        "from sklearn.model_selection import train_test_split\n",
        "x_train,x_test,y_train,y_test=train_test_split(df[x_cols],df['airline_sentiment'],test_size=0.2)"
      ],
      "metadata": {
        "id": "hUjWRT57Vv7n"
      },
      "execution_count": null,
      "outputs": []
    },
    {
      "cell_type": "code",
      "source": [
        "## CLASSIFIER MODEL FEATURES: POLARITY, COMPOUND, TEXT LENGTH, MOST FREQUENT WORDS, TWEET HOURS, POS COUNTS\n",
        "\n",
        "## TRY: RANDOM FOREST, XGBOOST, NEURAL NET(SOFTMAX)"
      ],
      "metadata": {
        "id": "jhaMO6YZ-bVq"
      },
      "execution_count": null,
      "outputs": []
    },
    {
      "cell_type": "code",
      "source": [
        "from sklearn.ensemble import RandomForestClassifier\n",
        "\n",
        "random_forest = RandomForestClassifier(random_state=0)\n",
        "\n",
        "random_forest.fit(x_train, y_train)\n",
        "y_pred_rf = random_forest.predict(x_test)\n",
        "\n",
        "print(classification_report(y_test,y_pred_rf))"
      ],
      "metadata": {
        "colab": {
          "base_uri": "https://localhost:8080/"
        },
        "id": "uNRKFC5pbVCQ",
        "outputId": "a51d0968-3b6c-4acf-8e2a-5a77f0f70fa5"
      },
      "execution_count": null,
      "outputs": [
        {
          "output_type": "stream",
          "name": "stdout",
          "text": [
            "              precision    recall  f1-score   support\n",
            "\n",
            "          -1       0.78      0.92      0.85      1848\n",
            "           0       0.64      0.39      0.49       605\n",
            "           1       0.71      0.57      0.63       475\n",
            "\n",
            "    accuracy                           0.76      2928\n",
            "   macro avg       0.71      0.63      0.66      2928\n",
            "weighted avg       0.74      0.76      0.74      2928\n",
            "\n"
          ]
        }
      ]
    },
    {
      "cell_type": "code",
      "source": [
        "# Feature importance\n",
        "\n",
        "#Define size of bar plot\n",
        "plt.figure(figsize=(10,8))\n",
        "sns.barplot(x=random_forest.feature_importances_, y=np.array(x_cols))\n",
        "#Add chart labels\n",
        "plt.title('Feature Importance')\n",
        "plt.xlabel('Feature Importance')\n",
        "plt.ylabel('Feature Names')\n",
        "plt.show()"
      ],
      "metadata": {
        "colab": {
          "base_uri": "https://localhost:8080/",
          "height": 513
        },
        "id": "pYBrmmEibvJ7",
        "outputId": "42b2cc87-ed04-44ba-f93c-d5430cc4ba26"
      },
      "execution_count": null,
      "outputs": [
        {
          "output_type": "display_data",
          "data": {
            "text/plain": [
              "<Figure size 720x576 with 1 Axes>"
            ],
            "image/png": "[encoded data removed]"
          },
          "metadata": {
            "needs_background": "light"
          }
        }
      ]
    },
    {
      "cell_type": "code",
      "source": [
        "features_imp = pd.concat([pd.DataFrame(x_cols, columns=['features']), pd.DataFrame(random_forest.feature_importances_, columns=['score'])], axis=1)\n",
        "features_imp = features_imp.sort_values(by='score', ascending=False)"
      ],
      "metadata": {
        "id": "RygtmGE5jJYG"
      },
      "execution_count": null,
      "outputs": []
    },
    {
      "cell_type": "code",
      "source": [
        "final_features = features_imp.loc[features_imp['score']>0.02]['features']"
      ],
      "metadata": {
        "id": "8akonY29Jx_l"
      },
      "execution_count": null,
      "outputs": []
    },
    {
      "cell_type": "code",
      "source": [
        "x_train,x_test,y_train,y_test=train_test_split(df[final_features],df['airline_sentiment'],test_size=0.2)"
      ],
      "metadata": {
        "id": "MI1N1XdNmauo"
      },
      "execution_count": null,
      "outputs": []
    },
    {
      "cell_type": "code",
      "source": [
        "random_forest = RandomForestClassifier(random_state=0,criterion='entropy')\n",
        "\n",
        "random_forest.fit(x_train, y_train)\n",
        "y_pred_rf = random_forest.predict(x_test)\n",
        "\n",
        "print(classification_report(y_test,y_pred_rf))"
      ],
      "metadata": {
        "colab": {
          "base_uri": "https://localhost:8080/"
        },
        "id": "yBprVrBVnE6r",
        "outputId": "c4c1426b-d339-442d-9d9a-3269f3873a34"
      },
      "execution_count": null,
      "outputs": [
        {
          "output_type": "stream",
          "name": "stdout",
          "text": [
            "              precision    recall  f1-score   support\n",
            "\n",
            "          -1       0.79      0.91      0.85      1877\n",
            "           0       0.60      0.35      0.44       604\n",
            "           1       0.66      0.62      0.64       447\n",
            "\n",
            "    accuracy                           0.75      2928\n",
            "   macro avg       0.69      0.63      0.64      2928\n",
            "weighted avg       0.73      0.75      0.73      2928\n",
            "\n"
          ]
        }
      ]
    },
    {
      "cell_type": "markdown",
      "source": [
        "**Random Forest Model Performance:**\n",
        "\n",
        "\n",
        "*   The RF model was able to correctly classify 75% of the test data. \n",
        "\n",
        "*   Precision:\n",
        "Of those tweets classified as negative, 79% were correct. \n",
        "Of those classified as neutral, 60% were correct.\n",
        "Of those classified as positive, 66% were correct.\n",
        "\n",
        "*   Recall:\n",
        "The model was able to identify 91%, 35%, and 62% of the negative, positive, and neutral tweets respectively.\n",
        "\n",
        "*   Note: Weighted Avg. since class is imbalanced.\n",
        "\n",
        "*   The weighted precision, recall, and f1 scores are 73%, 75%, and 73%, respectively. "
      ],
      "metadata": {
        "id": "YoTF31lqDzLX"
      }
    },
    {
      "cell_type": "code",
      "source": [
        "from xgboost import XGBClassifier\n",
        "xgb = XGBClassifier()\n",
        "xgb.fit(x_train, y_train)"
      ],
      "metadata": {
        "colab": {
          "base_uri": "https://localhost:8080/"
        },
        "id": "WYBjsLeVpjeP",
        "outputId": "481750d2-84ab-41e5-d8af-5160dceb59e9"
      },
      "execution_count": null,
      "outputs": [
        {
          "output_type": "execute_result",
          "data": {
            "text/plain": [
              "XGBClassifier(objective='multi:softprob')"
            ]
          },
          "metadata": {},
          "execution_count": 343
        }
      ]
    },
    {
      "cell_type": "code",
      "source": [
        "y_pred_xgb = xgb.predict(x_test)"
      ],
      "metadata": {
        "id": "E8fZqxsLLUrc"
      },
      "execution_count": null,
      "outputs": []
    },
    {
      "cell_type": "code",
      "source": [
        "print(classification_report(y_test,y_pred_xgb))"
      ],
      "metadata": {
        "colab": {
          "base_uri": "https://localhost:8080/"
        },
        "id": "M8MwI2Z_LavR",
        "outputId": "147bb958-e0ca-42b7-c37d-14ddb1e7010d"
      },
      "execution_count": null,
      "outputs": [
        {
          "output_type": "stream",
          "name": "stdout",
          "text": [
            "              precision    recall  f1-score   support\n",
            "\n",
            "          -1       0.79      0.90      0.84      1877\n",
            "           0       0.57      0.35      0.43       604\n",
            "           1       0.64      0.62      0.63       447\n",
            "\n",
            "    accuracy                           0.74      2928\n",
            "   macro avg       0.67      0.62      0.63      2928\n",
            "weighted avg       0.72      0.74      0.72      2928\n",
            "\n"
          ]
        }
      ]
    },
    {
      "cell_type": "markdown",
      "source": [
        "**XGBoost Model Performance**\n",
        "\n",
        "The XGBoost model was able to correctly classify 74% of the test data.\n",
        "\n",
        "Precision: Of those tweets classified as negative, 79% were correct. Of those classified as neutral, 57% were correct. Of those classified as positive, 64% were correct.\n",
        "\n",
        "Recall: The model was able to identify 90%, 35%, and 62% of the negative, positive, and neutral tweets respectively.\n",
        "\n",
        "Note: Weighted Avg. since class is imbalanced.\n",
        "\n",
        "The weighted precision, recall, and f1 scores are 72%, 74%, and 72%, respectively.\n",
        "\n",
        "The XGBoost model's performance is somewhat similar to the random forest."
      ],
      "metadata": {
        "id": "LUuyVmx2N38a"
      }
    },
    {
      "cell_type": "code",
      "source": [
        "## NEURAL NETWORK\n",
        "\n",
        "recoded = {-1: 0,\n",
        "           0:1,\n",
        "           1:2} #recoded airline_sentiment since relu activation is strictly non-negative [0, +)\n",
        "df['airline_sentiment2'] = df['airline_sentiment'].replace(recoded)\n",
        "x_train_n,x_test_n,y_train_n,y_test_n=train_test_split(df[final_features],df['airline_sentiment2'],test_size=0.2)\n",
        "\n",
        "\n",
        "x_train_n = np.array(x_train_n)\n",
        "y_train_n = np.array(y_train_n)\n",
        "\n",
        "x_test_n = np.array(x_test_n)\n",
        "y_test_n = np.array(y_test_n)"
      ],
      "metadata": {
        "id": "0_dds18ms9RJ"
      },
      "execution_count": null,
      "outputs": []
    },
    {
      "cell_type": "code",
      "source": [
        "x_train_n.shape"
      ],
      "metadata": {
        "colab": {
          "base_uri": "https://localhost:8080/"
        },
        "id": "ynpZtMXU4W7C",
        "outputId": "91ffe3d2-4294-4549-d3d2-c974b3d9b06a"
      },
      "execution_count": null,
      "outputs": [
        {
          "output_type": "execute_result",
          "data": {
            "text/plain": [
              "(11712, 19)"
            ]
          },
          "metadata": {},
          "execution_count": 347
        }
      ]
    },
    {
      "cell_type": "code",
      "source": [
        "y_train_n"
      ],
      "metadata": {
        "colab": {
          "base_uri": "https://localhost:8080/"
        },
        "id": "HUhwMRlb5-8F",
        "outputId": "748d9fcd-e2b0-42fd-8b31-8ea328fa6169"
      },
      "execution_count": null,
      "outputs": [
        {
          "output_type": "execute_result",
          "data": {
            "text/plain": [
              "array([0, 0, 2, ..., 0, 0, 0])"
            ]
          },
          "metadata": {},
          "execution_count": 348
        }
      ]
    },
    {
      "cell_type": "code",
      "source": [
        "model_4 = Sequential([\n",
        "  #  tf.keras.Input(shape=x_train.shape[1]),\n",
        "    Dense(units=19, activation='relu'),\n",
        "    Dense(units=15, activation='relu'),\n",
        "    Dense(units=3, activation = 'softmax')\n",
        "])\n",
        "\n",
        "# Specify the loss and cost\n",
        "from tensorflow.keras.losses import SparseCategoricalCrossentropy\n",
        "model_4.compile(loss=SparseCategoricalCrossentropy(), optimizer=tf.keras.optimizers.Adam(learning_rate=0.001), metrics='accuracy')\n",
        "\n",
        "model_4.fit(x_train_n, y_train_n, epochs=50)\n"
      ],
      "metadata": {
        "colab": {
          "base_uri": "https://localhost:8080/"
        },
        "id": "-_CQfTBFgWE0",
        "outputId": "ef9255be-c31f-49bb-8e6a-a2a1679a5674"
      },
      "execution_count": null,
      "outputs": [
        {
          "output_type": "stream",
          "name": "stdout",
          "text": [
            "Epoch 1/50\n",
            "366/366 [==============================] - 2s 3ms/step - loss: 0.9082 - accuracy: 0.6175\n",
            "Epoch 2/50\n",
            "366/366 [==============================] - 1s 2ms/step - loss: 0.7124 - accuracy: 0.6977\n",
            "Epoch 3/50\n",
            "366/366 [==============================] - 1s 2ms/step - loss: 0.6805 - accuracy: 0.7122\n",
            "Epoch 4/50\n",
            "366/366 [==============================] - 1s 3ms/step - loss: 0.6723 - accuracy: 0.7182\n",
            "Epoch 5/50\n",
            "366/366 [==============================] - 1s 2ms/step - loss: 0.6659 - accuracy: 0.7226\n",
            "Epoch 6/50\n",
            "366/366 [==============================] - 1s 2ms/step - loss: 0.6626 - accuracy: 0.7229\n",
            "Epoch 7/50\n",
            "366/366 [==============================] - 1s 2ms/step - loss: 0.6617 - accuracy: 0.7258\n",
            "Epoch 8/50\n",
            "366/366 [==============================] - 1s 2ms/step - loss: 0.6584 - accuracy: 0.7255\n",
            "Epoch 9/50\n",
            "366/366 [==============================] - 1s 2ms/step - loss: 0.6543 - accuracy: 0.7287\n",
            "Epoch 10/50\n",
            "366/366 [==============================] - 1s 2ms/step - loss: 0.6537 - accuracy: 0.7270\n",
            "Epoch 11/50\n",
            "366/366 [==============================] - 1s 3ms/step - loss: 0.6529 - accuracy: 0.7298\n",
            "Epoch 12/50\n",
            "366/366 [==============================] - 1s 2ms/step - loss: 0.6506 - accuracy: 0.7293\n",
            "Epoch 13/50\n",
            "366/366 [==============================] - 1s 2ms/step - loss: 0.6519 - accuracy: 0.7307\n",
            "Epoch 14/50\n",
            "366/366 [==============================] - 1s 2ms/step - loss: 0.6493 - accuracy: 0.7309\n",
            "Epoch 15/50\n",
            "366/366 [==============================] - 1s 2ms/step - loss: 0.6489 - accuracy: 0.7319\n",
            "Epoch 16/50\n",
            "366/366 [==============================] - 1s 2ms/step - loss: 0.6468 - accuracy: 0.7309\n",
            "Epoch 17/50\n",
            "366/366 [==============================] - 1s 2ms/step - loss: 0.6474 - accuracy: 0.7307\n",
            "Epoch 18/50\n",
            "366/366 [==============================] - 1s 2ms/step - loss: 0.6466 - accuracy: 0.7330\n",
            "Epoch 19/50\n",
            "366/366 [==============================] - 1s 2ms/step - loss: 0.6471 - accuracy: 0.7309\n",
            "Epoch 20/50\n",
            "366/366 [==============================] - 1s 2ms/step - loss: 0.6463 - accuracy: 0.7314\n",
            "Epoch 21/50\n",
            "366/366 [==============================] - 1s 2ms/step - loss: 0.6453 - accuracy: 0.7335\n",
            "Epoch 22/50\n",
            "366/366 [==============================] - 1s 2ms/step - loss: 0.6444 - accuracy: 0.7330\n",
            "Epoch 23/50\n",
            "366/366 [==============================] - 1s 2ms/step - loss: 0.6454 - accuracy: 0.7335\n",
            "Epoch 24/50\n",
            "366/366 [==============================] - 1s 2ms/step - loss: 0.6429 - accuracy: 0.7350\n",
            "Epoch 25/50\n",
            "366/366 [==============================] - 1s 2ms/step - loss: 0.6427 - accuracy: 0.7348\n",
            "Epoch 26/50\n",
            "366/366 [==============================] - 1s 2ms/step - loss: 0.6428 - accuracy: 0.7317\n",
            "Epoch 27/50\n",
            "366/366 [==============================] - 1s 2ms/step - loss: 0.6444 - accuracy: 0.7305\n",
            "Epoch 28/50\n",
            "366/366 [==============================] - 1s 2ms/step - loss: 0.6409 - accuracy: 0.7352\n",
            "Epoch 29/50\n",
            "366/366 [==============================] - 1s 2ms/step - loss: 0.6404 - accuracy: 0.7345\n",
            "Epoch 30/50\n",
            "366/366 [==============================] - 1s 2ms/step - loss: 0.6406 - accuracy: 0.7341\n",
            "Epoch 31/50\n",
            "366/366 [==============================] - 1s 2ms/step - loss: 0.6392 - accuracy: 0.7372\n",
            "Epoch 32/50\n",
            "366/366 [==============================] - 1s 2ms/step - loss: 0.6396 - accuracy: 0.7357\n",
            "Epoch 33/50\n",
            "366/366 [==============================] - 1s 2ms/step - loss: 0.6389 - accuracy: 0.7391\n",
            "Epoch 34/50\n",
            "366/366 [==============================] - 1s 2ms/step - loss: 0.6384 - accuracy: 0.7366\n",
            "Epoch 35/50\n",
            "366/366 [==============================] - 1s 2ms/step - loss: 0.6381 - accuracy: 0.7346\n",
            "Epoch 36/50\n",
            "366/366 [==============================] - 1s 2ms/step - loss: 0.6367 - accuracy: 0.7373\n",
            "Epoch 37/50\n",
            "366/366 [==============================] - 1s 2ms/step - loss: 0.6371 - accuracy: 0.7365\n",
            "Epoch 38/50\n",
            "366/366 [==============================] - 1s 2ms/step - loss: 0.6369 - accuracy: 0.7357\n",
            "Epoch 39/50\n",
            "366/366 [==============================] - 1s 2ms/step - loss: 0.6358 - accuracy: 0.7378\n",
            "Epoch 40/50\n",
            "366/366 [==============================] - 1s 4ms/step - loss: 0.6361 - accuracy: 0.7375\n",
            "Epoch 41/50\n",
            "366/366 [==============================] - 2s 6ms/step - loss: 0.6359 - accuracy: 0.7391\n",
            "Epoch 42/50\n",
            "366/366 [==============================] - 2s 6ms/step - loss: 0.6358 - accuracy: 0.7366\n",
            "Epoch 43/50\n",
            "366/366 [==============================] - 2s 5ms/step - loss: 0.6346 - accuracy: 0.7381\n",
            "Epoch 44/50\n",
            "366/366 [==============================] - 2s 6ms/step - loss: 0.6337 - accuracy: 0.7400\n",
            "Epoch 45/50\n",
            "366/366 [==============================] - 2s 4ms/step - loss: 0.6334 - accuracy: 0.7374\n",
            "Epoch 46/50\n",
            "366/366 [==============================] - 3s 7ms/step - loss: 0.6334 - accuracy: 0.7359\n",
            "Epoch 47/50\n",
            "366/366 [==============================] - 2s 6ms/step - loss: 0.6324 - accuracy: 0.7384\n",
            "Epoch 48/50\n",
            "366/366 [==============================] - 2s 4ms/step - loss: 0.6323 - accuracy: 0.7357\n",
            "Epoch 49/50\n",
            "366/366 [==============================] - 2s 5ms/step - loss: 0.6326 - accuracy: 0.7396\n",
            "Epoch 50/50\n",
            "366/366 [==============================] - 2s 4ms/step - loss: 0.6305 - accuracy: 0.7420\n"
          ]
        },
        {
          "output_type": "execute_result",
          "data": {
            "text/plain": [
              "<keras.callbacks.History at 0x7f104a0a3dd0>"
            ]
          },
          "metadata": {},
          "execution_count": 349
        }
      ]
    },
    {
      "cell_type": "code",
      "source": [
        "test_loss, test_acc = model_4.evaluate(x_test_n, y_test_n) #test set accuracy is close to training set accuracy, no sign of overfitting"
      ],
      "metadata": {
        "colab": {
          "base_uri": "https://localhost:8080/"
        },
        "id": "QWZGVuwt7jT0",
        "outputId": "ff756eeb-4109-46d3-ce4f-63017212adae"
      },
      "execution_count": null,
      "outputs": [
        {
          "output_type": "stream",
          "name": "stdout",
          "text": [
            "92/92 [==============================] - 1s 4ms/step - loss: 0.6383 - accuracy: 0.7503\n"
          ]
        }
      ]
    },
    {
      "cell_type": "code",
      "source": [
        "predictions = model_4.predict(x_test_n)"
      ],
      "metadata": {
        "colab": {
          "base_uri": "https://localhost:8080/"
        },
        "id": "xN1KUl2l641N",
        "outputId": "a89a141b-3a1f-46a7-dc1d-eda0f8c0f28b"
      },
      "execution_count": null,
      "outputs": [
        {
          "output_type": "stream",
          "name": "stdout",
          "text": [
            "92/92 [==============================] - 1s 5ms/step\n"
          ]
        }
      ]
    },
    {
      "cell_type": "code",
      "source": [
        "predictions #[[P(y=0 | X ), P(y=1 | X), P(y=2 | x)]]"
      ],
      "metadata": {
        "colab": {
          "base_uri": "https://localhost:8080/"
        },
        "id": "DRV10KUn7Hqo",
        "outputId": "31bf0e19-e3ee-499a-b9a9-3a10b067e67c"
      },
      "execution_count": null,
      "outputs": [
        {
          "output_type": "execute_result",
          "data": {
            "text/plain": [
              "array([[0.7045786 , 0.26647493, 0.02894649],\n",
              "       [0.7651181 , 0.21774486, 0.01713705],\n",
              "       [0.84654915, 0.13429902, 0.01915181],\n",
              "       ...,\n",
              "       [0.79436666, 0.18368948, 0.0219439 ],\n",
              "       [0.9001124 , 0.07251336, 0.02737422],\n",
              "       [0.6476245 , 0.31553075, 0.03684486]], dtype=float32)"
            ]
          },
          "metadata": {},
          "execution_count": 352
        }
      ]
    },
    {
      "cell_type": "code",
      "source": [
        "def get_class(predictions):\n",
        "  pred_list = []\n",
        "  for pred in predictions:\n",
        "    max_prob = max(pred)\n",
        "    if pred[0] == max_prob:\n",
        "      pred_list.append(0)\n",
        "    elif pred[1] == max_prob:\n",
        "      pred_list.append(1)\n",
        "    else:\n",
        "      pred_list.append(2)\n",
        "\n",
        "  return np.array(pred_list)"
      ],
      "metadata": {
        "id": "HdfL8yLr8ThI"
      },
      "execution_count": null,
      "outputs": []
    },
    {
      "cell_type": "code",
      "source": [
        "y_pred_prob_nn = get_class(predictions)"
      ],
      "metadata": {
        "id": "kFWg_F-o8dOv"
      },
      "execution_count": null,
      "outputs": []
    },
    {
      "cell_type": "code",
      "source": [
        "y_pred_prob_nn"
      ],
      "metadata": {
        "colab": {
          "base_uri": "https://localhost:8080/"
        },
        "id": "tWaNs6LF_mlW",
        "outputId": "19b7f963-ac5d-4e04-b0a8-ee04ea52e408"
      },
      "execution_count": null,
      "outputs": [
        {
          "output_type": "execute_result",
          "data": {
            "text/plain": [
              "array([0, 0, 0, ..., 0, 0, 0])"
            ]
          },
          "metadata": {},
          "execution_count": 355
        }
      ]
    },
    {
      "cell_type": "code",
      "source": [
        "print(classification_report(y_test_n,y_pred_prob_nn))"
      ],
      "metadata": {
        "colab": {
          "base_uri": "https://localhost:8080/"
        },
        "id": "ozMbvESY_pzy",
        "outputId": "b63680bb-ff48-4f3e-bfd1-b74c7558a7df"
      },
      "execution_count": null,
      "outputs": [
        {
          "output_type": "stream",
          "name": "stdout",
          "text": [
            "              precision    recall  f1-score   support\n",
            "\n",
            "           0       0.79      0.91      0.85      1872\n",
            "           1       0.59      0.37      0.45       577\n",
            "           2       0.70      0.58      0.63       479\n",
            "\n",
            "    accuracy                           0.75      2928\n",
            "   macro avg       0.69      0.62      0.64      2928\n",
            "weighted avg       0.73      0.75      0.73      2928\n",
            "\n"
          ]
        }
      ]
    },
    {
      "cell_type": "markdown",
      "source": [
        "**Neural Network**\n",
        "\n",
        "The NN model was able to correctly classify 75% of the test data.\n",
        "\n",
        "Precision: Of those tweets classified as negative, 79% were correct. Of those classified as neutral, 59% were correct. Of those classified as positive, 70% were correct.\n",
        "\n",
        "Recall: The model was able to identify 91%, 37%, and 58% of the negative, positive, and neutral tweets respectively.\n",
        "\n",
        "Note: Weighted Avg. since class is imbalanced.\n",
        "\n",
        "The weighted precision, recall, and f1 scores are 73%, 75%, and 73%, respectively."
      ],
      "metadata": {
        "id": "hW9jxEQsGQ-i"
      }
    },
    {
      "cell_type": "markdown",
      "source": [
        "Because there's not much difference in the performance of the three models, the random forest model would be chosen as the final model as it's more interpretable compared to others.  \n",
        "\n",
        "The results of the final model is shown below."
      ],
      "metadata": {
        "id": "SZnHiHWEGjzh"
      }
    },
    {
      "cell_type": "code",
      "source": [
        "final_model = random_forest"
      ],
      "metadata": {
        "id": "VX-MlsChGgwO"
      },
      "execution_count": null,
      "outputs": []
    },
    {
      "cell_type": "code",
      "source": [
        "y_pred_final = y_pred_rf\n",
        "y_pred_final = pd.DataFrame(y_pred_final, columns = ['Predicted'])"
      ],
      "metadata": {
        "id": "8hszZiSfJrkN"
      },
      "execution_count": null,
      "outputs": []
    },
    {
      "cell_type": "code",
      "source": [
        "y_pred_final"
      ],
      "metadata": {
        "colab": {
          "base_uri": "https://localhost:8080/",
          "height": 424
        },
        "id": "y_wn213FV5Nm",
        "outputId": "56290eb1-88bb-404a-b594-f25fed57011b"
      },
      "execution_count": null,
      "outputs": [
        {
          "output_type": "execute_result",
          "data": {
            "text/plain": [
              "       Predicted\n",
              "10560         -1\n",
              "10996         -1\n",
              "11460         -1\n",
              "11805          0\n",
              "14382         -1\n",
              "...          ...\n",
              "1018          -1\n",
              "11320         -1\n",
              "1311          -1\n",
              "11000         -1\n",
              "13665         -1\n",
              "\n",
              "[2928 rows x 1 columns]"
            ],
            "text/html": [
              "\n",
              "  <div id=\"df-90425fc4-e071-4148-a66b-84e458240342\">\n",
              "    <div class=\"colab-df-container\">\n",
              "      <div>\n",
              "<style scoped>\n",
              "    .dataframe tbody tr th:only-of-type {\n",
              "        vertical-align: middle;\n",
              "    }\n",
              "\n",
              "    .dataframe tbody tr th {\n",
              "        vertical-align: top;\n",
              "    }\n",
              "\n",
              "    .dataframe thead th {\n",
              "        text-align: right;\n",
              "    }\n",
              "</style>\n",
              "<table border=\"1\" class=\"dataframe\">\n",
              "  <thead>\n",
              "    <tr style=\"text-align: right;\">\n",
              "      <th></th>\n",
              "      <th>Predicted</th>\n",
              "    </tr>\n",
              "  </thead>\n",
              "  <tbody>\n",
              "    <tr>\n",
              "      <th>10560</th>\n",
              "      <td>-1</td>\n",
              "    </tr>\n",
              "    <tr>\n",
              "      <th>10996</th>\n",
              "      <td>-1</td>\n",
              "    </tr>\n",
              "    <tr>\n",
              "      <th>11460</th>\n",
              "      <td>-1</td>\n",
              "    </tr>\n",
              "    <tr>\n",
              "      <th>11805</th>\n",
              "      <td>0</td>\n",
              "    </tr>\n",
              "    <tr>\n",
              "      <th>14382</th>\n",
              "      <td>-1</td>\n",
              "    </tr>\n",
              "    <tr>\n",
              "      <th>...</th>\n",
              "      <td>...</td>\n",
              "    </tr>\n",
              "    <tr>\n",
              "      <th>1018</th>\n",
              "      <td>-1</td>\n",
              "    </tr>\n",
              "    <tr>\n",
              "      <th>11320</th>\n",
              "      <td>-1</td>\n",
              "    </tr>\n",
              "    <tr>\n",
              "      <th>1311</th>\n",
              "      <td>-1</td>\n",
              "    </tr>\n",
              "    <tr>\n",
              "      <th>11000</th>\n",
              "      <td>-1</td>\n",
              "    </tr>\n",
              "    <tr>\n",
              "      <th>13665</th>\n",
              "      <td>-1</td>\n",
              "    </tr>\n",
              "  </tbody>\n",
              "</table>\n",
              "<p>2928 rows × 1 columns</p>\n",
              "</div>\n",
              "      <button class=\"colab-df-convert\" onclick=\"convertToInteractive('df-90425fc4-e071-4148-a66b-84e458240342')\"\n",
              "              title=\"Convert this dataframe to an interactive table.\"\n",
              "              style=\"display:none;\">\n",
              "        \n",
              "  <svg xmlns=\"http://www.w3.org/2000/svg\" height=\"24px\"viewBox=\"0 0 24 24\"\n",
              "       width=\"24px\">\n",
              "    <path d=\"M0 0h24v24H0V0z\" fill=\"none\"/>\n",
              "    <path d=\"M18.56 5.44l.94 2.06.94-2.06 2.06-.94-2.06-.94-.94-2.06-.94 2.06-2.06.94zm-11 1L8.5 8.5l.94-2.06 2.06-.94-2.06-.94L8.5 2.5l-.94 2.06-2.06.94zm10 10l.94 2.06.94-2.06 2.06-.94-2.06-.94-.94-2.06-.94 2.06-2.06.94z\"/><path d=\"M17.41 7.96l-1.37-1.37c-.4-.4-.92-.59-1.43-.59-.52 0-1.04.2-1.43.59L10.3 9.45l-7.72 7.72c-.78.78-.78 2.05 0 2.83L4 21.41c.39.39.9.59 1.41.59.51 0 1.02-.2 1.41-.59l7.78-7.78 2.81-2.81c.8-.78.8-2.07 0-2.86zM5.41 20L4 18.59l7.72-7.72 1.47 1.35L5.41 20z\"/>\n",
              "  </svg>\n",
              "      </button>\n",
              "      \n",
              "  <style>\n",
              "    .colab-df-container {\n",
              "      display:flex;\n",
              "      flex-wrap:wrap;\n",
              "      gap: 12px;\n",
              "    }\n",
              "\n",
              "    .colab-df-convert {\n",
              "      background-color: #E8F0FE;\n",
              "      border: none;\n",
              "      border-radius: 50%;\n",
              "      cursor: pointer;\n",
              "      display: none;\n",
              "      fill: #1967D2;\n",
              "      height: 32px;\n",
              "      padding: 0 0 0 0;\n",
              "      width: 32px;\n",
              "    }\n",
              "\n",
              "    .colab-df-convert:hover {\n",
              "      background-color: #E2EBFA;\n",
              "      box-shadow: 0px 1px 2px rgba(60, 64, 67, 0.3), 0px 1px 3px 1px rgba(60, 64, 67, 0.15);\n",
              "      fill: #174EA6;\n",
              "    }\n",
              "\n",
              "    [theme=dark] .colab-df-convert {\n",
              "      background-color: #3B4455;\n",
              "      fill: #D2E3FC;\n",
              "    }\n",
              "\n",
              "    [theme=dark] .colab-df-convert:hover {\n",
              "      background-color: #434B5C;\n",
              "      box-shadow: 0px 1px 3px 1px rgba(0, 0, 0, 0.15);\n",
              "      filter: drop-shadow(0px 1px 2px rgba(0, 0, 0, 0.3));\n",
              "      fill: #FFFFFF;\n",
              "    }\n",
              "  </style>\n",
              "\n",
              "      <script>\n",
              "        const buttonEl =\n",
              "          document.querySelector('#df-90425fc4-e071-4148-a66b-84e458240342 button.colab-df-convert');\n",
              "        buttonEl.style.display =\n",
              "          google.colab.kernel.accessAllowed ? 'block' : 'none';\n",
              "\n",
              "        async function convertToInteractive(key) {\n",
              "          const element = document.querySelector('#df-90425fc4-e071-4148-a66b-84e458240342');\n",
              "          const dataTable =\n",
              "            await google.colab.kernel.invokeFunction('convertToInteractive',\n",
              "                                                     [key], {});\n",
              "          if (!dataTable) return;\n",
              "\n",
              "          const docLinkHtml = 'Like what you see? Visit the ' +\n",
              "            '<a target=\"_blank\" href=https://colab.research.google.com/notebooks/data_table.ipynb>data table notebook</a>'\n",
              "            + ' to learn more about interactive tables.';\n",
              "          element.innerHTML = '';\n",
              "          dataTable['output_type'] = 'display_data';\n",
              "          await google.colab.output.renderOutput(dataTable, element);\n",
              "          const docLink = document.createElement('div');\n",
              "          docLink.innerHTML = docLinkHtml;\n",
              "          element.appendChild(docLink);\n",
              "        }\n",
              "      </script>\n",
              "    </div>\n",
              "  </div>\n",
              "  "
            ]
          },
          "metadata": {},
          "execution_count": 371
        }
      ]
    },
    {
      "cell_type": "code",
      "source": [
        "y_test_df = y_test.to_frame()"
      ],
      "metadata": {
        "id": "r-firb3aIRln"
      },
      "execution_count": null,
      "outputs": []
    },
    {
      "cell_type": "code",
      "source": [
        "final_prediction_df = y_test_df.join(y_pred_final)"
      ],
      "metadata": {
        "id": "uTqSK2VQJb_k"
      },
      "execution_count": null,
      "outputs": []
    },
    {
      "cell_type": "code",
      "source": [
        "final_prediction_df"
      ],
      "metadata": {
        "colab": {
          "base_uri": "https://localhost:8080/",
          "height": 424
        },
        "id": "U3L-00G3VXLn",
        "outputId": "03ed5646-80aa-433d-821a-ad7c841b66d6"
      },
      "execution_count": null,
      "outputs": [
        {
          "output_type": "execute_result",
          "data": {
            "text/plain": [
              "       airline_sentiment  Predicted\n",
              "10560                 -1         -1\n",
              "10996                 -1         -1\n",
              "11460                 -1         -1\n",
              "11805                  1          0\n",
              "14382                  1         -1\n",
              "...                  ...        ...\n",
              "1018                  -1         -1\n",
              "11320                 -1         -1\n",
              "1311                  -1         -1\n",
              "11000                 -1         -1\n",
              "13665                  0         -1\n",
              "\n",
              "[2928 rows x 2 columns]"
            ],
            "text/html": [
              "\n",
              "  <div id=\"df-0bd7f74e-101d-4230-b846-20cde40b8281\">\n",
              "    <div class=\"colab-df-container\">\n",
              "      <div>\n",
              "<style scoped>\n",
              "    .dataframe tbody tr th:only-of-type {\n",
              "        vertical-align: middle;\n",
              "    }\n",
              "\n",
              "    .dataframe tbody tr th {\n",
              "        vertical-align: top;\n",
              "    }\n",
              "\n",
              "    .dataframe thead th {\n",
              "        text-align: right;\n",
              "    }\n",
              "</style>\n",
              "<table border=\"1\" class=\"dataframe\">\n",
              "  <thead>\n",
              "    <tr style=\"text-align: right;\">\n",
              "      <th></th>\n",
              "      <th>airline_sentiment</th>\n",
              "      <th>Predicted</th>\n",
              "    </tr>\n",
              "  </thead>\n",
              "  <tbody>\n",
              "    <tr>\n",
              "      <th>10560</th>\n",
              "      <td>-1</td>\n",
              "      <td>-1</td>\n",
              "    </tr>\n",
              "    <tr>\n",
              "      <th>10996</th>\n",
              "      <td>-1</td>\n",
              "      <td>-1</td>\n",
              "    </tr>\n",
              "    <tr>\n",
              "      <th>11460</th>\n",
              "      <td>-1</td>\n",
              "      <td>-1</td>\n",
              "    </tr>\n",
              "    <tr>\n",
              "      <th>11805</th>\n",
              "      <td>1</td>\n",
              "      <td>0</td>\n",
              "    </tr>\n",
              "    <tr>\n",
              "      <th>14382</th>\n",
              "      <td>1</td>\n",
              "      <td>-1</td>\n",
              "    </tr>\n",
              "    <tr>\n",
              "      <th>...</th>\n",
              "      <td>...</td>\n",
              "      <td>...</td>\n",
              "    </tr>\n",
              "    <tr>\n",
              "      <th>1018</th>\n",
              "      <td>-1</td>\n",
              "      <td>-1</td>\n",
              "    </tr>\n",
              "    <tr>\n",
              "      <th>11320</th>\n",
              "      <td>-1</td>\n",
              "      <td>-1</td>\n",
              "    </tr>\n",
              "    <tr>\n",
              "      <th>1311</th>\n",
              "      <td>-1</td>\n",
              "      <td>-1</td>\n",
              "    </tr>\n",
              "    <tr>\n",
              "      <th>11000</th>\n",
              "      <td>-1</td>\n",
              "      <td>-1</td>\n",
              "    </tr>\n",
              "    <tr>\n",
              "      <th>13665</th>\n",
              "      <td>0</td>\n",
              "      <td>-1</td>\n",
              "    </tr>\n",
              "  </tbody>\n",
              "</table>\n",
              "<p>2928 rows × 2 columns</p>\n",
              "</div>\n",
              "      <button class=\"colab-df-convert\" onclick=\"convertToInteractive('df-0bd7f74e-101d-4230-b846-20cde40b8281')\"\n",
              "              title=\"Convert this dataframe to an interactive table.\"\n",
              "              style=\"display:none;\">\n",
              "        \n",
              "  <svg xmlns=\"http://www.w3.org/2000/svg\" height=\"24px\"viewBox=\"0 0 24 24\"\n",
              "       width=\"24px\">\n",
              "    <path d=\"M0 0h24v24H0V0z\" fill=\"none\"/>\n",
              "    <path d=\"M18.56 5.44l.94 2.06.94-2.06 2.06-.94-2.06-.94-.94-2.06-.94 2.06-2.06.94zm-11 1L8.5 8.5l.94-2.06 2.06-.94-2.06-.94L8.5 2.5l-.94 2.06-2.06.94zm10 10l.94 2.06.94-2.06 2.06-.94-2.06-.94-.94-2.06-.94 2.06-2.06.94z\"/><path d=\"M17.41 7.96l-1.37-1.37c-.4-.4-.92-.59-1.43-.59-.52 0-1.04.2-1.43.59L10.3 9.45l-7.72 7.72c-.78.78-.78 2.05 0 2.83L4 21.41c.39.39.9.59 1.41.59.51 0 1.02-.2 1.41-.59l7.78-7.78 2.81-2.81c.8-.78.8-2.07 0-2.86zM5.41 20L4 18.59l7.72-7.72 1.47 1.35L5.41 20z\"/>\n",
              "  </svg>\n",
              "      </button>\n",
              "      \n",
              "  <style>\n",
              "    .colab-df-container {\n",
              "      display:flex;\n",
              "      flex-wrap:wrap;\n",
              "      gap: 12px;\n",
              "    }\n",
              "\n",
              "    .colab-df-convert {\n",
              "      background-color: #E8F0FE;\n",
              "      border: none;\n",
              "      border-radius: 50%;\n",
              "      cursor: pointer;\n",
              "      display: none;\n",
              "      fill: #1967D2;\n",
              "      height: 32px;\n",
              "      padding: 0 0 0 0;\n",
              "      width: 32px;\n",
              "    }\n",
              "\n",
              "    .colab-df-convert:hover {\n",
              "      background-color: #E2EBFA;\n",
              "      box-shadow: 0px 1px 2px rgba(60, 64, 67, 0.3), 0px 1px 3px 1px rgba(60, 64, 67, 0.15);\n",
              "      fill: #174EA6;\n",
              "    }\n",
              "\n",
              "    [theme=dark] .colab-df-convert {\n",
              "      background-color: #3B4455;\n",
              "      fill: #D2E3FC;\n",
              "    }\n",
              "\n",
              "    [theme=dark] .colab-df-convert:hover {\n",
              "      background-color: #434B5C;\n",
              "      box-shadow: 0px 1px 3px 1px rgba(0, 0, 0, 0.15);\n",
              "      filter: drop-shadow(0px 1px 2px rgba(0, 0, 0, 0.3));\n",
              "      fill: #FFFFFF;\n",
              "    }\n",
              "  </style>\n",
              "\n",
              "      <script>\n",
              "        const buttonEl =\n",
              "          document.querySelector('#df-0bd7f74e-101d-4230-b846-20cde40b8281 button.colab-df-convert');\n",
              "        buttonEl.style.display =\n",
              "          google.colab.kernel.accessAllowed ? 'block' : 'none';\n",
              "\n",
              "        async function convertToInteractive(key) {\n",
              "          const element = document.querySelector('#df-0bd7f74e-101d-4230-b846-20cde40b8281');\n",
              "          const dataTable =\n",
              "            await google.colab.kernel.invokeFunction('convertToInteractive',\n",
              "                                                     [key], {});\n",
              "          if (!dataTable) return;\n",
              "\n",
              "          const docLinkHtml = 'Like what you see? Visit the ' +\n",
              "            '<a target=\"_blank\" href=https://colab.research.google.com/notebooks/data_table.ipynb>data table notebook</a>'\n",
              "            + ' to learn more about interactive tables.';\n",
              "          element.innerHTML = '';\n",
              "          dataTable['output_type'] = 'display_data';\n",
              "          await google.colab.output.renderOutput(dataTable, element);\n",
              "          const docLink = document.createElement('div');\n",
              "          docLink.innerHTML = docLinkHtml;\n",
              "          element.appendChild(docLink);\n",
              "        }\n",
              "      </script>\n",
              "    </div>\n",
              "  </div>\n",
              "  "
            ]
          },
          "metadata": {},
          "execution_count": 376
        }
      ]
    },
    {
      "cell_type": "code",
      "source": [
        "output = final_prediction_df.join(raw_df.loc[y_test_df.index]['text'])"
      ],
      "metadata": {
        "id": "RvxhIFMgKtDy"
      },
      "execution_count": null,
      "outputs": []
    },
    {
      "cell_type": "code",
      "source": [
        "recoded_dict = {-1: 'Negative',\n",
        "                0: 'Neutral', \n",
        "                1: 'Positive'}"
      ],
      "metadata": {
        "id": "50MtufPeL3_T"
      },
      "execution_count": null,
      "outputs": []
    },
    {
      "cell_type": "code",
      "source": [
        "output['airline_sentiment'] = output['airline_sentiment'].replace(recoded_dict)\n",
        "output['Predicted'] = output['Predicted'].replace(recoded_dict)"
      ],
      "metadata": {
        "id": "q7xZJ2oIMA-m"
      },
      "execution_count": null,
      "outputs": []
    },
    {
      "cell_type": "code",
      "source": [
        "output"
      ],
      "metadata": {
        "colab": {
          "base_uri": "https://localhost:8080/",
          "height": 424
        },
        "id": "T8WOyZTMMNv2",
        "outputId": "e3d97504-ad69-49af-e3fe-ad45124f5f64"
      },
      "execution_count": null,
      "outputs": [
        {
          "output_type": "execute_result",
          "data": {
            "text/plain": [
              "      airline_sentiment Predicted  \\\n",
              "10560          Negative  Negative   \n",
              "10996          Negative  Negative   \n",
              "11460          Negative  Negative   \n",
              "11805          Positive   Neutral   \n",
              "14382          Positive  Negative   \n",
              "...                 ...       ...   \n",
              "1018           Negative  Negative   \n",
              "11320          Negative  Negative   \n",
              "1311           Negative  Negative   \n",
              "11000          Negative  Negative   \n",
              "13665           Neutral  Negative   \n",
              "\n",
              "                                                    text  \n",
              "10560  @USAirways what is with all the Cancelled Flig...  \n",
              "10996  @USAirways now the freezing bus is just doing ...  \n",
              "11460  @USAirways On hold for an hour...connected to ...  \n",
              "11805  @USAirways — I had exceptional service on flig...  \n",
              "14382  @AmericanAir I'm flying with your competitor t...  \n",
              "...                                                  ...  \n",
              "1018   @united That's real dedication &amp; concern. ...  \n",
              "11320  @USAirways delayed 2 days for weather and on t...  \n",
              "1311   @united well for a start it would be nice if y...  \n",
              "11000  @USAirways 3935. Sitting on a freezing bus bec...  \n",
              "13665  @AmericanAir Reebooked for tomorrow in AA 1389...  \n",
              "\n",
              "[2928 rows x 3 columns]"
            ],
            "text/html": [
              "\n",
              "  <div id=\"df-687de523-3778-4441-bcd1-b83ce4d20c41\">\n",
              "    <div class=\"colab-df-container\">\n",
              "      <div>\n",
              "<style scoped>\n",
              "    .dataframe tbody tr th:only-of-type {\n",
              "        vertical-align: middle;\n",
              "    }\n",
              "\n",
              "    .dataframe tbody tr th {\n",
              "        vertical-align: top;\n",
              "    }\n",
              "\n",
              "    .dataframe thead th {\n",
              "        text-align: right;\n",
              "    }\n",
              "</style>\n",
              "<table border=\"1\" class=\"dataframe\">\n",
              "  <thead>\n",
              "    <tr style=\"text-align: right;\">\n",
              "      <th></th>\n",
              "      <th>airline_sentiment</th>\n",
              "      <th>Predicted</th>\n",
              "      <th>text</th>\n",
              "    </tr>\n",
              "  </thead>\n",
              "  <tbody>\n",
              "    <tr>\n",
              "      <th>10560</th>\n",
              "      <td>Negative</td>\n",
              "      <td>Negative</td>\n",
              "      <td>@USAirways what is with all the Cancelled Flig...</td>\n",
              "    </tr>\n",
              "    <tr>\n",
              "      <th>10996</th>\n",
              "      <td>Negative</td>\n",
              "      <td>Negative</td>\n",
              "      <td>@USAirways now the freezing bus is just doing ...</td>\n",
              "    </tr>\n",
              "    <tr>\n",
              "      <th>11460</th>\n",
              "      <td>Negative</td>\n",
              "      <td>Negative</td>\n",
              "      <td>@USAirways On hold for an hour...connected to ...</td>\n",
              "    </tr>\n",
              "    <tr>\n",
              "      <th>11805</th>\n",
              "      <td>Positive</td>\n",
              "      <td>Neutral</td>\n",
              "      <td>@USAirways — I had exceptional service on flig...</td>\n",
              "    </tr>\n",
              "    <tr>\n",
              "      <th>14382</th>\n",
              "      <td>Positive</td>\n",
              "      <td>Negative</td>\n",
              "      <td>@AmericanAir I'm flying with your competitor t...</td>\n",
              "    </tr>\n",
              "    <tr>\n",
              "      <th>...</th>\n",
              "      <td>...</td>\n",
              "      <td>...</td>\n",
              "      <td>...</td>\n",
              "    </tr>\n",
              "    <tr>\n",
              "      <th>1018</th>\n",
              "      <td>Negative</td>\n",
              "      <td>Negative</td>\n",
              "      <td>@united That's real dedication &amp;amp; concern. ...</td>\n",
              "    </tr>\n",
              "    <tr>\n",
              "      <th>11320</th>\n",
              "      <td>Negative</td>\n",
              "      <td>Negative</td>\n",
              "      <td>@USAirways delayed 2 days for weather and on t...</td>\n",
              "    </tr>\n",
              "    <tr>\n",
              "      <th>1311</th>\n",
              "      <td>Negative</td>\n",
              "      <td>Negative</td>\n",
              "      <td>@united well for a start it would be nice if y...</td>\n",
              "    </tr>\n",
              "    <tr>\n",
              "      <th>11000</th>\n",
              "      <td>Negative</td>\n",
              "      <td>Negative</td>\n",
              "      <td>@USAirways 3935. Sitting on a freezing bus bec...</td>\n",
              "    </tr>\n",
              "    <tr>\n",
              "      <th>13665</th>\n",
              "      <td>Neutral</td>\n",
              "      <td>Negative</td>\n",
              "      <td>@AmericanAir Reebooked for tomorrow in AA 1389...</td>\n",
              "    </tr>\n",
              "  </tbody>\n",
              "</table>\n",
              "<p>2928 rows × 3 columns</p>\n",
              "</div>\n",
              "      <button class=\"colab-df-convert\" onclick=\"convertToInteractive('df-687de523-3778-4441-bcd1-b83ce4d20c41')\"\n",
              "              title=\"Convert this dataframe to an interactive table.\"\n",
              "              style=\"display:none;\">\n",
              "        \n",
              "  <svg xmlns=\"http://www.w3.org/2000/svg\" height=\"24px\"viewBox=\"0 0 24 24\"\n",
              "       width=\"24px\">\n",
              "    <path d=\"M0 0h24v24H0V0z\" fill=\"none\"/>\n",
              "    <path d=\"M18.56 5.44l.94 2.06.94-2.06 2.06-.94-2.06-.94-.94-2.06-.94 2.06-2.06.94zm-11 1L8.5 8.5l.94-2.06 2.06-.94-2.06-.94L8.5 2.5l-.94 2.06-2.06.94zm10 10l.94 2.06.94-2.06 2.06-.94-2.06-.94-.94-2.06-.94 2.06-2.06.94z\"/><path d=\"M17.41 7.96l-1.37-1.37c-.4-.4-.92-.59-1.43-.59-.52 0-1.04.2-1.43.59L10.3 9.45l-7.72 7.72c-.78.78-.78 2.05 0 2.83L4 21.41c.39.39.9.59 1.41.59.51 0 1.02-.2 1.41-.59l7.78-7.78 2.81-2.81c.8-.78.8-2.07 0-2.86zM5.41 20L4 18.59l7.72-7.72 1.47 1.35L5.41 20z\"/>\n",
              "  </svg>\n",
              "      </button>\n",
              "      \n",
              "  <style>\n",
              "    .colab-df-container {\n",
              "      display:flex;\n",
              "      flex-wrap:wrap;\n",
              "      gap: 12px;\n",
              "    }\n",
              "\n",
              "    .colab-df-convert {\n",
              "      background-color: #E8F0FE;\n",
              "      border: none;\n",
              "      border-radius: 50%;\n",
              "      cursor: pointer;\n",
              "      display: none;\n",
              "      fill: #1967D2;\n",
              "      height: 32px;\n",
              "      padding: 0 0 0 0;\n",
              "      width: 32px;\n",
              "    }\n",
              "\n",
              "    .colab-df-convert:hover {\n",
              "      background-color: #E2EBFA;\n",
              "      box-shadow: 0px 1px 2px rgba(60, 64, 67, 0.3), 0px 1px 3px 1px rgba(60, 64, 67, 0.15);\n",
              "      fill: #174EA6;\n",
              "    }\n",
              "\n",
              "    [theme=dark] .colab-df-convert {\n",
              "      background-color: #3B4455;\n",
              "      fill: #D2E3FC;\n",
              "    }\n",
              "\n",
              "    [theme=dark] .colab-df-convert:hover {\n",
              "      background-color: #434B5C;\n",
              "      box-shadow: 0px 1px 3px 1px rgba(0, 0, 0, 0.15);\n",
              "      filter: drop-shadow(0px 1px 2px rgba(0, 0, 0, 0.3));\n",
              "      fill: #FFFFFF;\n",
              "    }\n",
              "  </style>\n",
              "\n",
              "      <script>\n",
              "        const buttonEl =\n",
              "          document.querySelector('#df-687de523-3778-4441-bcd1-b83ce4d20c41 button.colab-df-convert');\n",
              "        buttonEl.style.display =\n",
              "          google.colab.kernel.accessAllowed ? 'block' : 'none';\n",
              "\n",
              "        async function convertToInteractive(key) {\n",
              "          const element = document.querySelector('#df-687de523-3778-4441-bcd1-b83ce4d20c41');\n",
              "          const dataTable =\n",
              "            await google.colab.kernel.invokeFunction('convertToInteractive',\n",
              "                                                     [key], {});\n",
              "          if (!dataTable) return;\n",
              "\n",
              "          const docLinkHtml = 'Like what you see? Visit the ' +\n",
              "            '<a target=\"_blank\" href=https://colab.research.google.com/notebooks/data_table.ipynb>data table notebook</a>'\n",
              "            + ' to learn more about interactive tables.';\n",
              "          element.innerHTML = '';\n",
              "          dataTable['output_type'] = 'display_data';\n",
              "          await google.colab.output.renderOutput(dataTable, element);\n",
              "          const docLink = document.createElement('div');\n",
              "          docLink.innerHTML = docLinkHtml;\n",
              "          element.appendChild(docLink);\n",
              "        }\n",
              "      </script>\n",
              "    </div>\n",
              "  </div>\n",
              "  "
            ]
          },
          "metadata": {},
          "execution_count": 380
        }
      ]
    }
  ],
  "metadata": {
    "colab": {
      "collapsed_sections": [
        "AkvNqJGHZUNR"
      ],
      "provenance": [],
      "include_colab_link": true
    },
    "kernelspec": {
      "display_name": "Python 3 (ipykernel)",
      "language": "python",
      "name": "python3"
    },
    "language_info": {
      "codemirror_mode": {
        "name": "ipython",
        "version": 3
      },
      "file_extension": ".py",
      "mimetype": "text/x-python",
      "name": "python",
      "nbconvert_exporter": "python",
      "pygments_lexer": "ipython3",
      "version": "3.9.12"
    }
  },
  "nbformat": 4,
  "nbformat_minor": 0
}